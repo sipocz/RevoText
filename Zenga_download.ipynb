{
  "nbformat": 4,
  "nbformat_minor": 0,
  "metadata": {
    "colab": {
      "provenance": []
    },
    "kernelspec": {
      "name": "python3",
      "display_name": "Python 3"
    },
    "language_info": {
      "name": "python"
    }
  },
  "cells": [
    {
      "cell_type": "code",
      "execution_count": 1,
      "metadata": {
        "id": "PjvBX7hU2-Cx",
        "colab": {
          "base_uri": "https://localhost:8080/"
        },
        "outputId": "f8848181-6982-4e74-95cc-5d54e011aad9"
      },
      "outputs": [
        {
          "output_type": "stream",
          "name": "stdout",
          "text": [
            "\u001b[2K   \u001b[90m━━━━━━━━━━━━━━━━━━━━━━━━━━━━━━━━━━━━━━━━\u001b[0m \u001b[32m45.9/45.9 MB\u001b[0m \u001b[31m16.7 MB/s\u001b[0m eta \u001b[36m0:00:00\u001b[0m\n",
            "\u001b[?25hDownloading Chromium 139.0.7258.5 (playwright build v1181)\u001b[2m from https://cdn.playwright.dev/dbazure/download/playwright/builds/chromium/1181/chromium-linux.zip\u001b[22m\n",
            "\u001b[1G172.5 MiB [] 0% 11.0s\u001b[0K\u001b[1G172.5 MiB [] 0% 52.4s\u001b[0K\u001b[1G172.5 MiB [] 0% 24.4s\u001b[0K\u001b[1G172.5 MiB [] 0% 15.1s\u001b[0K\u001b[1G172.5 MiB [] 0% 8.2s\u001b[0K\u001b[1G172.5 MiB [] 1% 4.9s\u001b[0K\u001b[1G172.5 MiB [] 2% 3.9s\u001b[0K\u001b[1G172.5 MiB [] 3% 3.2s\u001b[0K\u001b[1G172.5 MiB [] 4% 2.8s\u001b[0K\u001b[1G172.5 MiB [] 5% 2.6s\u001b[0K\u001b[1G172.5 MiB [] 5% 2.8s\u001b[0K\u001b[1G172.5 MiB [] 6% 2.6s\u001b[0K\u001b[1G172.5 MiB [] 8% 2.4s\u001b[0K\u001b[1G172.5 MiB [] 8% 2.3s\u001b[0K\u001b[1G172.5 MiB [] 9% 2.3s\u001b[0K\u001b[1G172.5 MiB [] 11% 2.1s\u001b[0K\u001b[1G172.5 MiB [] 12% 2.0s\u001b[0K\u001b[1G172.5 MiB [] 13% 2.0s\u001b[0K\u001b[1G172.5 MiB [] 13% 1.9s\u001b[0K\u001b[1G172.5 MiB [] 14% 1.9s\u001b[0K\u001b[1G172.5 MiB [] 16% 1.8s\u001b[0K\u001b[1G172.5 MiB [] 17% 1.7s\u001b[0K\u001b[1G172.5 MiB [] 19% 1.6s\u001b[0K\u001b[1G172.5 MiB [] 20% 1.5s\u001b[0K\u001b[1G172.5 MiB [] 21% 1.5s\u001b[0K\u001b[1G172.5 MiB [] 22% 1.4s\u001b[0K\u001b[1G172.5 MiB [] 23% 1.4s\u001b[0K\u001b[1G172.5 MiB [] 25% 1.3s\u001b[0K\u001b[1G172.5 MiB [] 25% 1.4s\u001b[0K\u001b[1G172.5 MiB [] 27% 1.3s\u001b[0K\u001b[1G172.5 MiB [] 28% 1.3s\u001b[0K\u001b[1G172.5 MiB [] 30% 1.2s\u001b[0K\u001b[1G172.5 MiB [] 31% 1.2s\u001b[0K\u001b[1G172.5 MiB [] 33% 1.1s\u001b[0K\u001b[1G172.5 MiB [] 34% 1.1s\u001b[0K\u001b[1G172.5 MiB [] 36% 1.0s\u001b[0K\u001b[1G172.5 MiB [] 37% 1.0s\u001b[0K\u001b[1G172.5 MiB [] 39% 1.0s\u001b[0K\u001b[1G172.5 MiB [] 40% 0.9s\u001b[0K\u001b[1G172.5 MiB [] 41% 0.9s\u001b[0K\u001b[1G172.5 MiB [] 43% 0.9s\u001b[0K\u001b[1G172.5 MiB [] 45% 0.8s\u001b[0K\u001b[1G172.5 MiB [] 47% 0.8s\u001b[0K\u001b[1G172.5 MiB [] 48% 0.8s\u001b[0K\u001b[1G172.5 MiB [] 50% 0.7s\u001b[0K\u001b[1G172.5 MiB [] 51% 0.7s\u001b[0K\u001b[1G172.5 MiB [] 53% 0.7s\u001b[0K\u001b[1G172.5 MiB [] 55% 0.6s\u001b[0K\u001b[1G172.5 MiB [] 56% 0.6s\u001b[0K\u001b[1G172.5 MiB [] 58% 0.6s\u001b[0K\u001b[1G172.5 MiB [] 59% 0.6s\u001b[0K\u001b[1G172.5 MiB [] 61% 0.5s\u001b[0K\u001b[1G172.5 MiB [] 63% 0.5s\u001b[0K\u001b[1G172.5 MiB [] 64% 0.5s\u001b[0K\u001b[1G172.5 MiB [] 66% 0.5s\u001b[0K\u001b[1G172.5 MiB [] 67% 0.4s\u001b[0K\u001b[1G172.5 MiB [] 68% 0.4s\u001b[0K\u001b[1G172.5 MiB [] 70% 0.4s\u001b[0K\u001b[1G172.5 MiB [] 71% 0.4s\u001b[0K\u001b[1G172.5 MiB [] 72% 0.4s\u001b[0K\u001b[1G172.5 MiB [] 73% 0.4s\u001b[0K\u001b[1G172.5 MiB [] 74% 0.4s\u001b[0K\u001b[1G172.5 MiB [] 75% 0.3s\u001b[0K\u001b[1G172.5 MiB [] 76% 0.3s\u001b[0K\u001b[1G172.5 MiB [] 77% 0.3s\u001b[0K\u001b[1G172.5 MiB [] 78% 0.3s\u001b[0K\u001b[1G172.5 MiB [] 80% 0.3s\u001b[0K\u001b[1G172.5 MiB [] 81% 0.3s\u001b[0K\u001b[1G172.5 MiB [] 82% 0.2s\u001b[0K\u001b[1G172.5 MiB [] 85% 0.2s\u001b[0K\u001b[1G172.5 MiB [] 86% 0.2s\u001b[0K\u001b[1G172.5 MiB [] 88% 0.2s\u001b[0K\u001b[1G172.5 MiB [] 90% 0.1s\u001b[0K\u001b[1G172.5 MiB [] 91% 0.1s\u001b[0K\u001b[1G172.5 MiB [] 93% 0.1s\u001b[0K\u001b[1G172.5 MiB [] 95% 0.1s\u001b[0K\u001b[1G172.5 MiB [] 96% 0.1s\u001b[0K\u001b[1G172.5 MiB [] 97% 0.0s\u001b[0K\u001b[1G172.5 MiB [] 99% 0.0s\u001b[0K\u001b[1G172.5 MiB [] 100% 0.0s\u001b[0K\n",
            "Chromium 139.0.7258.5 (playwright build v1181) downloaded to /root/.cache/ms-playwright/chromium-1181\n",
            "Downloading FFMPEG playwright build v1011\u001b[2m from https://cdn.playwright.dev/dbazure/download/playwright/builds/ffmpeg/1011/ffmpeg-linux.zip\u001b[22m\n",
            "\u001b[1G2.3 MiB [] 0% 0.0s\u001b[0K\u001b[1G2.3 MiB [] 2% 0.7s\u001b[0K\u001b[1G2.3 MiB [] 10% 0.3s\u001b[0K\u001b[1G2.3 MiB [] 27% 0.1s\u001b[0K\u001b[1G2.3 MiB [] 75% 0.0s\u001b[0K\u001b[1G2.3 MiB [] 100% 0.0s\u001b[0K\n",
            "FFMPEG playwright build v1011 downloaded to /root/.cache/ms-playwright/ffmpeg-1011\n",
            "Downloading Chromium Headless Shell 139.0.7258.5 (playwright build v1181)\u001b[2m from https://cdn.playwright.dev/dbazure/download/playwright/builds/chromium/1181/chromium-headless-shell-linux.zip\u001b[22m\n",
            "\u001b[1G104.8 MiB [] 0% 0.0s\u001b[0K\u001b[1G104.8 MiB [] 0% 32.2s\u001b[0K\u001b[1G104.8 MiB [] 0% 15.7s\u001b[0K\u001b[1G104.8 MiB [] 0% 9.5s\u001b[0K\u001b[1G104.8 MiB [] 1% 4.7s\u001b[0K\u001b[1G104.8 MiB [] 2% 2.9s\u001b[0K\u001b[1G104.8 MiB [] 4% 2.3s\u001b[0K\u001b[1G104.8 MiB [] 5% 1.9s\u001b[0K\u001b[1G104.8 MiB [] 6% 1.8s\u001b[0K\u001b[1G104.8 MiB [] 7% 1.9s\u001b[0K\u001b[1G104.8 MiB [] 7% 2.0s\u001b[0K\u001b[1G104.8 MiB [] 8% 1.9s\u001b[0K\u001b[1G104.8 MiB [] 9% 1.9s\u001b[0K\u001b[1G104.8 MiB [] 10% 1.8s\u001b[0K\u001b[1G104.8 MiB [] 11% 1.8s\u001b[0K\u001b[1G104.8 MiB [] 13% 1.6s\u001b[0K\u001b[1G104.8 MiB [] 14% 1.5s\u001b[0K\u001b[1G104.8 MiB [] 16% 1.5s\u001b[0K\u001b[1G104.8 MiB [] 17% 1.3s\u001b[0K\u001b[1G104.8 MiB [] 20% 1.2s\u001b[0K\u001b[1G104.8 MiB [] 21% 1.2s\u001b[0K\u001b[1G104.8 MiB [] 23% 1.1s\u001b[0K\u001b[1G104.8 MiB [] 25% 1.1s\u001b[0K\u001b[1G104.8 MiB [] 27% 1.0s\u001b[0K\u001b[1G104.8 MiB [] 29% 1.0s\u001b[0K\u001b[1G104.8 MiB [] 31% 0.9s\u001b[0K\u001b[1G104.8 MiB [] 34% 0.8s\u001b[0K\u001b[1G104.8 MiB [] 35% 0.8s\u001b[0K\u001b[1G104.8 MiB [] 38% 0.8s\u001b[0K\u001b[1G104.8 MiB [] 39% 0.7s\u001b[0K\u001b[1G104.8 MiB [] 40% 0.7s\u001b[0K\u001b[1G104.8 MiB [] 42% 0.7s\u001b[0K\u001b[1G104.8 MiB [] 43% 0.7s\u001b[0K\u001b[1G104.8 MiB [] 47% 0.6s\u001b[0K\u001b[1G104.8 MiB [] 50% 0.6s\u001b[0K\u001b[1G104.8 MiB [] 53% 0.5s\u001b[0K\u001b[1G104.8 MiB [] 55% 0.5s\u001b[0K\u001b[1G104.8 MiB [] 57% 0.5s\u001b[0K\u001b[1G104.8 MiB [] 59% 0.4s\u001b[0K\u001b[1G104.8 MiB [] 61% 0.4s\u001b[0K\u001b[1G104.8 MiB [] 64% 0.4s\u001b[0K\u001b[1G104.8 MiB [] 67% 0.3s\u001b[0K\u001b[1G104.8 MiB [] 69% 0.3s\u001b[0K\u001b[1G104.8 MiB [] 71% 0.3s\u001b[0K\u001b[1G104.8 MiB [] 74% 0.3s\u001b[0K\u001b[1G104.8 MiB [] 77% 0.2s\u001b[0K\u001b[1G104.8 MiB [] 80% 0.2s\u001b[0K\u001b[1G104.8 MiB [] 82% 0.2s\u001b[0K\u001b[1G104.8 MiB [] 85% 0.1s\u001b[0K\u001b[1G104.8 MiB [] 88% 0.1s\u001b[0K\u001b[1G104.8 MiB [] 89% 0.1s\u001b[0K\u001b[1G104.8 MiB [] 91% 0.1s\u001b[0K\u001b[1G104.8 MiB [] 92% 0.1s\u001b[0K\u001b[1G104.8 MiB [] 94% 0.1s\u001b[0K\u001b[1G104.8 MiB [] 95% 0.0s\u001b[0K\u001b[1G104.8 MiB [] 97% 0.0s\u001b[0K\u001b[1G104.8 MiB [] 99% 0.0s\u001b[0K\u001b[1G104.8 MiB [] 100% 0.0s\u001b[0K\n",
            "Chromium Headless Shell 139.0.7258.5 (playwright build v1181) downloaded to /root/.cache/ms-playwright/chromium_headless_shell-1181\n"
          ]
        }
      ],
      "source": [
        "!pip install -q playwright nest_asyncio\n",
        "!playwright install chromium\n",
        "import nest_asyncio\n",
        "import asyncio\n",
        "import pandas as pd\n",
        "from playwright.async_api import async_playwright\n",
        "import re\n",
        "nest_asyncio.apply()\n"
      ]
    },
    {
      "cell_type": "code",
      "source": [
        "_BASE_URL_='https://www.zenga.hu'\n",
        "def url_creator(place:str=\"pest\",type:str=\"haz\",price_min=40000000, price_max=100000000):\n",
        "\n",
        "    return f\"{_BASE_URL_}/{place}+elado+{type}+ar-{price_min}-{price_max}?page=\""
      ],
      "metadata": {
        "id": "NMjPOnj1Q1On"
      },
      "execution_count": 5,
      "outputs": []
    },
    {
      "cell_type": "code",
      "source": [
        "url_creator(\"urom\")"
      ],
      "metadata": {
        "colab": {
          "base_uri": "https://localhost:8080/",
          "height": 36
        },
        "id": "F_xbVMRyRL9j",
        "outputId": "65e1ebbe-18e5-43a1-a27b-d35ccf84bbc3"
      },
      "execution_count": 6,
      "outputs": [
        {
          "output_type": "execute_result",
          "data": {
            "text/plain": [
              "'https://www.zenga.hu/urom+elado+haz+ar-40000000-100000000?page='"
            ],
            "application/vnd.google.colaboratory.intrinsic+json": {
              "type": "string"
            }
          },
          "metadata": {},
          "execution_count": 6
        }
      ]
    },
    {
      "cell_type": "code",
      "source": [
        "async def scrape_nof_links(start_url=\"https://www.zenga.hu/komarom-esztergom-megye+elado+haz?page=\",page_num=1):\n",
        "    '''\n",
        "    Az megadott strat_url oldalán lévő linkek számát adja vissza\n",
        "    :param start_url: az oldal url-je\n",
        "    :param page_num: az oldal száma\n",
        "    '''\n",
        "    start_url = start_url+str(page_num)\n",
        "    links = []\n",
        "\n",
        "    async with async_playwright() as p:\n",
        "        browser = await p.chromium.launch(headless=True)\n",
        "        page = await browser.new_page()\n",
        "        await page.goto(start_url)\n",
        "        await page.wait_for_timeout(8000)\n",
        "\n",
        "        # Scroll, hogy több kártya betöltődjön\n",
        "        await page.mouse.wheel(0, 5000)\n",
        "        await page.wait_for_timeout(6000)\n",
        "\n",
        "        div_list = await page.query_selector_all(\"div[data-cy='search-page-total-count']\") # linkek itt vannak a html-ben\n",
        "        text=await div_list[0].text_content()\n",
        "        print(f\"Talált linkek száma: {text}\")\n",
        "        number_of_links = int(re.search(r'\\d+', text.replace('\\u00A0', '').replace(' ', '')).group())\n",
        "\n",
        "\n",
        "        await browser.close()\n",
        "        return number_of_links"
      ],
      "metadata": {
        "id": "668y5fsu64yX"
      },
      "execution_count": 8,
      "outputs": []
    },
    {
      "cell_type": "code",
      "source": [
        "number_of_links=await scrape_nof_links()\n",
        "print(f\"A keresésnek megfelelő linkek száma:{number_of_links}\")"
      ],
      "metadata": {
        "colab": {
          "base_uri": "https://localhost:8080/"
        },
        "id": "fQExZhPu7-XR",
        "outputId": "e2a27eae-2fff-4f8f-9733-a9f2e37043cc"
      },
      "execution_count": 9,
      "outputs": [
        {
          "output_type": "stream",
          "name": "stdout",
          "text": [
            "Talált linkek száma:  1 866 találat \n",
            "A keresésnek megfelelő linkek száma:1866\n"
          ]
        }
      ]
    },
    {
      "cell_type": "code",
      "source": [
        "async def scrape_zenga_links(start_url=\"https://www.zenga.hu/komarom-esztergom-megye+elado+haz?page=\",zenga_page=1)->list:\n",
        "    '''\n",
        "    A zenga.hu adott keresési oldaláról (oldalszám alapján) összegyűjti az ingatlanhirdetések\n",
        "    kártyalinkjeit.\n",
        "\n",
        "    Paraméterek\n",
        "    ----------\n",
        "        start_url : str, alapértelmezett: \"https://www.zenga.hu/komarom-esztergom-megye+elado+haz?page=\"\n",
        "            A listaoldal alapprefixe, amely \"page=\" végű query-vel zárul. A függvény a megadott\n",
        "            oldalszámot fűzi a végére.\n",
        "        zenga_page : int, alapértelmezett: 1\n",
        "            A lekérdezni kívánt oldalszám.\n",
        "\n",
        "    Visszatérés\n",
        "    -----------\n",
        "        list[str]\n",
        "            A hirdetéskártyák abszolút URL-jeinek listája.\n",
        "    '''\n",
        "\n",
        "    start_url = start_url+str(zenga_page)\n",
        "    links = []\n",
        "\n",
        "    async with async_playwright() as p:\n",
        "        browser = await p.chromium.launch(headless=True)\n",
        "        page = await browser.new_page()\n",
        "        await page.goto(start_url)\n",
        "        await page.wait_for_timeout(8000)\n",
        "\n",
        "        # Scroll, hogy több kártya betöltődjön\n",
        "        await page.mouse.wheel(0, 5000)\n",
        "        await page.wait_for_timeout(3000)\n",
        "\n",
        "        a_links = await page.query_selector_all(\"a[data-cy='advert-card-link']\") # linkek itt vannak a html-ben\n",
        "        print(f\"Talált linkek száma: {len(a_links)}\")\n",
        "\n",
        "        for a in a_links:\n",
        "            href = await a.get_attribute(\"href\")\n",
        "            if href:\n",
        "                links.append(_BASE_URL_ + \"/\" + href)\n",
        "\n",
        "        await browser.close()\n",
        "        return links"
      ],
      "metadata": {
        "id": "7MkS16R4TvZ6"
      },
      "execution_count": 11,
      "outputs": []
    },
    {
      "cell_type": "code",
      "source": [
        "def get_all_url(place:str,prop_type=\"haz\",l_price=40000000, h_price=100000000)->list:\n",
        "    '''\n",
        "    A megadott hely (place), ingatlantípus (prop_type) és ársáv (HUF) alapján összegyűjti a\n",
        "    zenga.hu hirdetéslistáiról az összes hirdetés URL-jét. Először lekéri a találatok\n",
        "    számát, majd az összes szükséges oldalon végiglépked és kimenti a linkeket.\n",
        "\n",
        "    Paraméterek\n",
        "    -----------\n",
        "    place : str\n",
        "        Település/megyenév vagy slug, amit a `url_creator` elfogad (pl. \"komarom-esztergom-megye\").\n",
        "    prop_type : str, alapértelmezett: \"haz\"\n",
        "        Ingatlantípus (pl. \"haz\", \"lakas\", \"telek\"). (Megj.: ütközik a beépített `type` névvel.)\n",
        "    l_price : int, alapértelmezett: 40_000_000\n",
        "        Alsó árhatár HUF-ban.\n",
        "    h_price : int, alapértelmezett: 100_000_000\n",
        "        Felső árhatár HUF-ban.\n",
        "\n",
        "    Visszatérés\n",
        "    -----------\n",
        "    list[str]\n",
        "        A talált hirdetések abszolút URL-jeinek listája.\n",
        "    '''\n",
        "\n",
        "    url=url_creator(place=place,type=prop_type,price_min=l_price,price_max=h_price)\n",
        "    print(url)\n",
        "    zenga_links=[]\n",
        "\n",
        "    no_links = asyncio.run(scrape_nof_links(start_url=url,page_num=1))\n",
        "    # Futtatás\n",
        "\n",
        "    for i in range(-(-no_links // 20)):\n",
        "        print(f\"Page: {i+1}\")\n",
        "        zenga_page = asyncio.run( scrape_zenga_links(start_url=url,zenga_page=i+1))\n",
        "        zenga_links.extend(zenga_page)\n",
        "    # Kiírás\n",
        "    for i, link in enumerate(zenga_links, 1):\n",
        "        print(f\"{i}. {link}\")\n",
        "    return zenga_links\n"
      ],
      "metadata": {
        "id": "rMNz1W8j4iyM"
      },
      "execution_count": 16,
      "outputs": []
    },
    {
      "cell_type": "code",
      "source": [
        "zenga_links=get_all_url(\"torokbalint\",\"haz\",40000000,100000000) # csak teszt"
      ],
      "metadata": {
        "colab": {
          "base_uri": "https://localhost:8080/"
        },
        "id": "8TQVExFRTqS4",
        "outputId": "5e591dc3-996f-4f15-b043-dbcb38a0d8db"
      },
      "execution_count": 17,
      "outputs": [
        {
          "output_type": "stream",
          "name": "stdout",
          "text": [
            "https://www.zenga.hu/torokbalint+elado+haz+ar-40000000-100000000?page=\n",
            "Talált linkek száma:  23 találat \n",
            "Page: 1\n",
            "Talált linkek száma: 20\n",
            "Page: 2\n",
            "Talált linkek száma: 3\n",
            "1. https://www.zenga.hu//ingatlan/elado-ikerhaz-torokbalint/7843274?page=1&pos=1&cr=5\n",
            "2. https://www.zenga.hu//ingatlan/elado-csaladi-haz-torokbalint/8624680?page=1&pos=2\n",
            "3. https://www.zenga.hu//ingatlan/elado-csaladi-haz-torokbalint/8335755?page=1&pos=3\n",
            "4. https://www.zenga.hu//ingatlan/elado-csaladi-haz-torokbalint-annahegy/8644752?page=1&pos=4\n",
            "5. https://www.zenga.hu//ingatlan/elado-csaladi-haz-torokbalint/8642644?page=1&pos=5\n",
            "6. https://www.zenga.hu//ingatlan/elado-hazresz-torokbalint/8481940?page=1&pos=6\n",
            "7. https://www.zenga.hu//ingatlan/elado-csaladi-haz-torokbalint/8649772?page=1&pos=7\n",
            "8. https://www.zenga.hu//ingatlan/elado-csaladi-haz-torokbalint/8506373?page=1&pos=8\n",
            "9. https://www.zenga.hu//ingatlan/elado-csaladi-haz-torokbalint-ofalu/8059934?page=1&pos=9\n",
            "10. https://www.zenga.hu//ingatlan/elado-csaladi-haz-torokbalint-ofalu/8291269?page=1&pos=10\n",
            "11. https://www.zenga.hu//ingatlan/elado-csaladi-haz-torokbalint/8629521?page=1&pos=11\n",
            "12. https://www.zenga.hu//ingatlan/elado-hazresz-torokbalint/8520058?page=1&pos=12\n",
            "13. https://www.zenga.hu//ingatlan/elado-csaladi-haz-torokbalint/8436279?page=1&pos=13\n",
            "14. https://www.zenga.hu//ingatlan/elado-csaladi-haz-torokbalint/8626097?page=1&pos=14\n",
            "15. https://www.zenga.hu//ingatlan/elado-sorhaz-torokbalint-ofalu/8389405?page=1&pos=15\n",
            "16. https://www.zenga.hu//ingatlan/elado-csaladi-haz-torokbalint/8623618?page=1&pos=16\n",
            "17. https://www.zenga.hu//ingatlan/elado-hazresz-torokbalint-ofalu/8586836?page=1&pos=17\n",
            "18. https://www.zenga.hu//ingatlan/elado-csaladi-haz-torokbalint/8603944?page=1&pos=18\n",
            "19. https://www.zenga.hu//ingatlan/elado-csaladi-haz-torokbalint-annahegy/8572421?page=1&pos=19\n",
            "20. https://www.zenga.hu//ingatlan/elado-csaladi-haz-torokbalint-ofalu/8531070?page=1&pos=20\n",
            "21. https://www.zenga.hu//ingatlan/elado-csaladi-haz-torokbalint-ofalu/8188928?page=2&pos=1\n",
            "22. https://www.zenga.hu//ingatlan/elado-csaladi-haz-torokbalint/8179516?page=2&pos=2\n",
            "23. https://www.zenga.hu//ingatlan/elado-csaladi-haz-torokbalint/7886806?page=2&pos=3\n"
          ]
        }
      ]
    },
    {
      "cell_type": "code",
      "source": [
        "\n"
      ],
      "metadata": {
        "id": "4TvwgMowi_xA"
      },
      "execution_count": 18,
      "outputs": []
    },
    {
      "cell_type": "code",
      "source": [
        "city=\"budaors\"\n",
        "zenga_links=get_all_url(city,\"haz\",40000000,100000000)\n",
        "df=pd.DataFrame(zenga_links,columns=['link'])\n",
        "csv_path='/content/drive/MyDrive/Zenga/'"
      ],
      "metadata": {
        "id": "Oc2TLBAtj4te",
        "colab": {
          "base_uri": "https://localhost:8080/"
        },
        "outputId": "b7722e12-897e-43f6-9dad-7148829f4e65"
      },
      "execution_count": 27,
      "outputs": [
        {
          "output_type": "stream",
          "name": "stdout",
          "text": [
            "https://www.zenga.hu/budaors+elado+haz+ar-40000000-100000000?page=\n",
            "Talált linkek száma:  48 találat \n",
            "Page: 1\n",
            "Talált linkek száma: 20\n",
            "Page: 2\n",
            "Talált linkek száma: 20\n",
            "Page: 3\n",
            "Talált linkek száma: 8\n",
            "1. https://www.zenga.hu//ingatlan/elado-csaladi-haz-budaors-ofalu/8299009?page=1&pos=1&cr=50\n",
            "2. https://www.zenga.hu//ingatlan/elado-sorhaz-budaors-ofalu/8602362?page=1&pos=2&cr=35\n",
            "3. https://www.zenga.hu//ingatlan/elado-csaladi-haz-budaors-ofalu/8422531?page=1&pos=3&cr=20\n",
            "4. https://www.zenga.hu//ingatlan/elado-hazresz-budaors/8403692?page=1&pos=4&cr=10\n",
            "5. https://www.zenga.hu//ingatlan/elado-ikerhaz-budaors-ofalu/8614397?page=1&pos=5&cr=5\n",
            "6. https://www.zenga.hu//ingatlan/elado-hazresz-budaors/8618921?page=1&pos=6\n",
            "7. https://www.zenga.hu//ingatlan/elado-ikerhaz-budaors/8417504?page=1&pos=7\n",
            "8. https://www.zenga.hu//ingatlan/elado-hazresz-budaors/8430911?page=1&pos=8\n",
            "9. https://www.zenga.hu//ingatlan/elado-ikerhaz-budaors/8548841?page=1&pos=9\n",
            "10. https://www.zenga.hu//ingatlan/elado-hazresz-budaors/8640672?page=1&pos=10\n",
            "11. https://www.zenga.hu//ingatlan/elado-hazresz-budaors/8582628?page=1&pos=11\n",
            "12. https://www.zenga.hu//ingatlan/elado-csaladi-haz-budaors/8544902?page=1&pos=12\n",
            "13. https://www.zenga.hu//ingatlan/elado-csaladi-haz-budaors/8122636?page=1&pos=13\n",
            "14. https://www.zenga.hu//ingatlan/elado-ikerhaz-budaors/8603527?page=1&pos=14\n",
            "15. https://www.zenga.hu//ingatlan/elado-hazresz-budaors/8642381?page=1&pos=15\n",
            "16. https://www.zenga.hu//ingatlan/elado-hazresz-budaors/8591679?page=1&pos=16\n",
            "17. https://www.zenga.hu//ingatlan/elado-hazresz-budaors/8550845?page=1&pos=17\n",
            "18. https://www.zenga.hu//ingatlan/elado-ikerhaz-budaors/8543430?page=1&pos=18\n",
            "19. https://www.zenga.hu//ingatlan/elado-hazresz-budaors/8604941?page=1&pos=19\n",
            "20. https://www.zenga.hu//ingatlan/elado-ikerhaz-budaors/8608641?page=1&pos=20\n",
            "21. https://www.zenga.hu//ingatlan/elado-sorhaz-budaors-kohegy/8422349?page=2&pos=1\n",
            "22. https://www.zenga.hu//ingatlan/elado-csaladi-haz-budaors/8608693?page=2&pos=2\n",
            "23. https://www.zenga.hu//ingatlan/elado-csaladi-haz-budaors/7566309?page=2&pos=3\n",
            "24. https://www.zenga.hu//ingatlan/elado-csaladi-haz-budaors/8537330?page=2&pos=4\n",
            "25. https://www.zenga.hu//ingatlan/elado-hazresz-budaors/8431541?page=2&pos=5\n",
            "26. https://www.zenga.hu//ingatlan/elado-ikerhaz-budaors/8252603?page=2&pos=6\n",
            "27. https://www.zenga.hu//ingatlan/elado-hazresz-budaors/8635069?page=2&pos=7\n",
            "28. https://www.zenga.hu//ingatlan/elado-csaladi-haz-budaors/8062985?page=2&pos=8\n",
            "29. https://www.zenga.hu//ingatlan/elado-ikerhaz-budaors/8631999?page=2&pos=9\n",
            "30. https://www.zenga.hu//ingatlan/elado-hazresz-budaors-varoskozpont/8579054?page=2&pos=10\n",
            "31. https://www.zenga.hu//ingatlan/elado-hazresz-budaors/8575351?page=2&pos=11\n",
            "32. https://www.zenga.hu//ingatlan/elado-csaladi-haz-budaors/7298945?page=2&pos=12\n",
            "33. https://www.zenga.hu//ingatlan/elado-csaladi-haz-budaors/8141932?page=2&pos=13\n",
            "34. https://www.zenga.hu//ingatlan/elado-egyeb-haz-budaors/7869590?page=2&pos=14\n",
            "35. https://www.zenga.hu//ingatlan/elado-hazresz-budaors/8591717?page=2&pos=15\n",
            "36. https://www.zenga.hu//ingatlan/elado-hazresz-budaors/8550278?page=2&pos=16\n",
            "37. https://www.zenga.hu//ingatlan/elado-hazresz-budaors/8554286?page=2&pos=17\n",
            "38. https://www.zenga.hu//ingatlan/elado-hazresz-budaors/8568682?page=2&pos=18\n",
            "39. https://www.zenga.hu//ingatlan/elado-hazresz-budaors-ofalu/8532882?page=2&pos=19\n",
            "40. https://www.zenga.hu//ingatlan/elado-csaladi-haz-budaors/8562314?page=2&pos=20\n",
            "41. https://www.zenga.hu//ingatlan/elado-ikerhaz-budaors-ganztelep/8542908?page=3&pos=1\n",
            "42. https://www.zenga.hu//ingatlan/elado-csaladi-haz-budaors-varoskozpont/8378783?page=3&pos=2\n",
            "43. https://www.zenga.hu//ingatlan/elado-hazresz-budaors-kohegy/8378787?page=3&pos=3\n",
            "44. https://www.zenga.hu//ingatlan/elado-hazresz-budaors-kertvaros/8278751?page=3&pos=4\n",
            "45. https://www.zenga.hu//ingatlan/elado-ikerhaz-budaors-varoskozpont/7983981?page=3&pos=5\n",
            "46. https://www.zenga.hu//ingatlan/elado-csaladi-haz-budaors-kertvaros/7834629?page=3&pos=6\n",
            "47. https://www.zenga.hu//ingatlan/elado-hazresz-budaors/7791776?page=3&pos=7\n",
            "48. https://www.zenga.hu//ingatlan/elado-csaladi-haz-budaors/7701763?page=3&pos=8\n"
          ]
        }
      ]
    },
    {
      "cell_type": "code",
      "source": [
        "df.to_csv(csv_path+f'links_{city}.csv',index=False)"
      ],
      "metadata": {
        "id": "gGpPtp2JjDog"
      },
      "execution_count": 30,
      "outputs": []
    },
    {
      "cell_type": "code",
      "source": [
        "async def scrape_ad_text(url):\n",
        "    '''\n",
        "    Egy zenga.hu hirdetés részletező oldaláról leolvassa a leírást és az árat és visszaadja egy listában.\n",
        "\n",
        "    Paraméterek\n",
        "    -----------\n",
        "    url : str\n",
        "        A hirdetés részletező oldalának abszolút URL-je.\n",
        "\n",
        "    Visszatérés\n",
        "    -----------\n",
        "    list[dict[str, str]]\n",
        "        Alapesetben egy elemű lista, eleme: {\"url\": <url>, \"desc\": <leírás>, \"price\": <ár>}.\n",
        "        Hiba esetén a lista egy hibaüzenetet tartalmazó rekordot ad vissza\n",
        "        (ld. Megjegyzések a kulcsnév-konzisztenciáról).\n",
        "    '''\n",
        "\n",
        "    results = []\n",
        "    async with async_playwright() as p:\n",
        "        browser = await p.chromium.launch(headless=True)\n",
        "        page = await browser.new_page()\n",
        "\n",
        "\n",
        "        try:\n",
        "            print(f\"🔗 {url}\")\n",
        "            await page.goto(url, timeout=20000)\n",
        "            try:\n",
        "                await page.get_by_text(\"Összes süti engedélyezése\").click()\n",
        "                print(\"Süti elfogadva\")\n",
        "            except:\n",
        "                print(\"Süti gomb nem jelent meg\")\n",
        "\n",
        "\n",
        "            await page.wait_for_timeout(7000)\n",
        "            #await page.screenshot(path=\"screenshot.png\")  # DEBUG\n",
        "            desc_element = await page.query_selector(\"span[data-cy='advert-details-description']\")\n",
        "            desc_text = await desc_element.inner_text() if desc_element else \"Nincs szöveg\"\n",
        "            print(f\"Szöveg: {desc_text} \")\n",
        "\n",
        "            price_element = await page.query_selector(\"div[data-cy='advert-details-price']\")\n",
        "            price_text = await price_element.inner_text() if price_element else \"Nincs ár\"\n",
        "            print(f\"Ár: {price_text} \")\n",
        "\n",
        "\n",
        "            results.append({\"url\": url, \"desc\": desc_text, \"price\":price_text})\n",
        "        except Exception as e:\n",
        "            print(f\"Hiba: {str(e)}\")\n",
        "            results.append({\"url\": url, \"desc\": f\"Hiba: {str(e)}\",\"price\":f\"Hiba: {str(e)}\"})\n",
        "\n",
        "        await browser.close()\n",
        "\n",
        "    return results  #return a list\n"
      ],
      "metadata": {
        "id": "a8xw9GhrCarM"
      },
      "execution_count": 58,
      "outputs": []
    },
    {
      "cell_type": "code",
      "source": [
        "_DEBUG_=True"
      ],
      "metadata": {
        "id": "nVMADeJO-SX_"
      },
      "execution_count": 60,
      "outputs": []
    },
    {
      "cell_type": "code",
      "source": [
        "def scrape_zenga_list(z_list):\n",
        "    \"\"\"\n",
        "    A megadott zenga.hu hirdetés-URL-ek listáját sorban feldolgozza: mindegyikre lefuttatja a\n",
        "    `scrape_ad_text` aszinkron függvényt.\n",
        "\n",
        "    Paraméterek\n",
        "    -----------\n",
        "    z_list : list[str]\n",
        "        Hirdetés-részletező oldalak abszolút URL-jeinek listája.\n",
        "\n",
        "    Visszatérés\n",
        "    -----------\n",
        "    list[dict[str, str]]\n",
        "        A hirdetésekből kinyert rekordok listája. Az egyes elemek a `scrape_ad_text` által\n",
        "        visszaadott dict-ek (pl. {\"url\", \"desc\", \"price\"}.\n",
        "\n",
        "    \"\"\"\n",
        "    out_list=[]\n",
        "    for url in z_list:\n",
        "        url_data = asyncio.run(scrape_ad_text(url))\n",
        "        if _DEBUG_:\n",
        "            print(url_data)\n",
        "        out_list.extend(url_data)\n",
        "    return out_list"
      ],
      "metadata": {
        "id": "0GX-U9E7JWke"
      },
      "execution_count": 61,
      "outputs": []
    },
    {
      "cell_type": "code",
      "source": [
        "zenga_data=scrape_zenga_list(zenga_links)"
      ],
      "metadata": {
        "colab": {
          "base_uri": "https://localhost:8080/",
          "height": 1000
        },
        "collapsed": true,
        "id": "M65UJytUJ01V",
        "outputId": "90ed82cd-234b-434a-9828-162ef3501a32"
      },
      "execution_count": 62,
      "outputs": [
        {
          "output_type": "stream",
          "name": "stdout",
          "text": [
            "🔗 https://www.zenga.hu//ingatlan/elado-csaladi-haz-budaors-ofalu/8299009?page=1&pos=1&cr=50\n",
            "Süti elfogadva\n",
            "Szöveg: Budaörs központjában önálló családi ház eladó.\n",
            "\n",
            "Budaörsön a Kálvária domb közelében kínálunk eladásra egy 201 nm-es önálló telken álló, egyszintes családi házat.\n",
            "A telken 2 épület van. A fő épület 50 nm-es, 2 szoba, konyha, fürdőszoba.\n",
            "A kisebb épület kb. 20 nm-es,1 szoba, konyha, fürdőszoba, teljesen külön tömbben található a telken, melynek az alsó szintjén kb 20 nm-es garázs-tároló található. A telken 2 szint lett kialakítva. A felső kertrész alatt helyezkedik el a pince.\n",
            "Nagyon kellemes környék a város szívében. \n",
            "Ár: 69,5 millió Ft \n",
            "[{'url': 'https://www.zenga.hu//ingatlan/elado-csaladi-haz-budaors-ofalu/8299009?page=1&pos=1&cr=50', 'desc': 'Budaörs központjában önálló családi ház eladó.\\n\\nBudaörsön a Kálvária domb közelében kínálunk eladásra egy 201 nm-es önálló telken álló, egyszintes családi házat.\\nA telken 2 épület van. A fő épület 50 nm-es, 2 szoba, konyha, fürdőszoba.\\nA kisebb épület kb. 20 nm-es,1 szoba, konyha, fürdőszoba, teljesen külön tömbben található a telken, melynek az alsó szintjén kb 20 nm-es garázs-tároló található. A telken 2 szint lett kialakítva. A felső kertrész alatt helyezkedik el a pince.\\nNagyon kellemes környék a város szívében.', 'price': '69,5\\xa0millió Ft'}]\n",
            "🔗 https://www.zenga.hu//ingatlan/elado-sorhaz-budaors-ofalu/8602362?page=1&pos=2&cr=35\n",
            "Süti elfogadva\n",
            "Szöveg: Budaörs, Ófalu részén sorházi lakás eladó\n",
            "\n",
            "Csendes nyugodt mellék utcában, saját kertrésszel.\n",
            "\n",
            "Utca fronttól beljebb helyezkedik el, biztosítva ezzel a privát, magán szférát.\n",
            "\n",
            "54 nm-es, 2 szobás.\n",
            "\n",
            "Fűtés gázkonvektoros, meleg vizet villanybojler szolgáltatja.\n",
            "\n",
            "Belsőleg jó állapotú, igény esetén tovább modernizálható, szépíthető.\n",
            "\n",
            "Külsőleg jó állapotú, színezést igénylő.\n",
            "\n",
            "Vastag falaknak köszönhetően kedvező rezsi költségekkel lehet számolni.\n",
            "\n",
            "Statikailag jó állapotú, fafödémes.\n",
            "\n",
            "Igény esetén felfelé akár további 2 szobával bővíthető.\n",
            "\n",
            "Hozzá tartozó kert rész 100 nm.\n",
            "\n",
            "1 autó részére autó beállási lehetőséget ki lehet alakítani.\n",
            "\n",
            "Déli fekvéséből adódóan, benapozott, világos.\n",
            "\n",
            "Osztatlan közös tulajdonú, ügyvédi megosztással.\n",
            "\n",
            "Frekventált elhelyezkedés.\n",
            "\n",
            "Autóval, tömegközlekedéssel egyaránt könnyen megközelíthető.\n",
            "\n",
            "Közintézmények, számtalan vásárlási lehetőség (Auchan, Ikea, ...) séta távolságra.\n",
            "\n",
            "Érdemes megtekinteni. \n",
            "Ár: 59,9 millió Ft \n",
            "[{'url': 'https://www.zenga.hu//ingatlan/elado-sorhaz-budaors-ofalu/8602362?page=1&pos=2&cr=35', 'desc': 'Budaörs, Ófalu részén sorházi lakás eladó\\n\\nCsendes nyugodt mellék utcában, saját kertrésszel.\\n\\nUtca fronttól beljebb helyezkedik el, biztosítva ezzel a privát, magán szférát.\\n\\n54 nm-es, 2 szobás.\\n\\nFűtés gázkonvektoros, meleg vizet villanybojler szolgáltatja.\\n\\nBelsőleg jó állapotú, igény esetén tovább modernizálható, szépíthető.\\n\\nKülsőleg jó állapotú, színezést igénylő.\\n\\nVastag falaknak köszönhetően kedvező rezsi költségekkel lehet számolni.\\n\\nStatikailag jó állapotú, fafödémes.\\n\\nIgény esetén felfelé akár további 2 szobával bővíthető.\\n\\nHozzá tartozó kert rész 100 nm.\\n\\n1 autó részére autó beállási lehetőséget ki lehet alakítani.\\n\\nDéli fekvéséből adódóan, benapozott, világos.\\n\\nOsztatlan közös tulajdonú, ügyvédi megosztással.\\n\\nFrekventált elhelyezkedés.\\n\\nAutóval, tömegközlekedéssel egyaránt könnyen megközelíthető.\\n\\nKözintézmények, számtalan vásárlási lehetőség (Auchan, Ikea, ...) séta távolságra.\\n\\nÉrdemes megtekinteni.', 'price': '59,9\\xa0millió Ft'}]\n",
            "🔗 https://www.zenga.hu//ingatlan/elado-csaladi-haz-budaors-ofalu/8422531?page=1&pos=3&cr=20\n",
            "Süti gomb nem jelent meg\n",
            "Hiba: Page.wait_for_timeout: Target page, context or browser has been closed\n"
          ]
        },
        {
          "output_type": "error",
          "ename": "Exception",
          "evalue": "Browser.close: Connection closed while reading from the driver",
          "traceback": [
            "\u001b[0;31m---------------------------------------------------------------------------\u001b[0m",
            "\u001b[0;31mException\u001b[0m                                 Traceback (most recent call last)",
            "\u001b[0;32m/tmp/ipython-input-4016854429.py\u001b[0m in \u001b[0;36m<cell line: 0>\u001b[0;34m()\u001b[0m\n\u001b[0;32m----> 1\u001b[0;31m \u001b[0mzenga_data\u001b[0m\u001b[0;34m=\u001b[0m\u001b[0mscrape_zenga_list\u001b[0m\u001b[0;34m(\u001b[0m\u001b[0mzenga_links\u001b[0m\u001b[0;34m)\u001b[0m\u001b[0;34m\u001b[0m\u001b[0;34m\u001b[0m\u001b[0m\n\u001b[0m",
            "\u001b[0;32m/tmp/ipython-input-661113717.py\u001b[0m in \u001b[0;36mscrape_zenga_list\u001b[0;34m(z_list)\u001b[0m\n\u001b[1;32m     18\u001b[0m     \u001b[0mout_list\u001b[0m\u001b[0;34m=\u001b[0m\u001b[0;34m[\u001b[0m\u001b[0;34m]\u001b[0m\u001b[0;34m\u001b[0m\u001b[0;34m\u001b[0m\u001b[0m\n\u001b[1;32m     19\u001b[0m     \u001b[0;32mfor\u001b[0m \u001b[0murl\u001b[0m \u001b[0;32min\u001b[0m \u001b[0mz_list\u001b[0m\u001b[0;34m:\u001b[0m\u001b[0;34m\u001b[0m\u001b[0;34m\u001b[0m\u001b[0m\n\u001b[0;32m---> 20\u001b[0;31m         \u001b[0murl_data\u001b[0m \u001b[0;34m=\u001b[0m \u001b[0masyncio\u001b[0m\u001b[0;34m.\u001b[0m\u001b[0mrun\u001b[0m\u001b[0;34m(\u001b[0m\u001b[0mscrape_ad_text\u001b[0m\u001b[0;34m(\u001b[0m\u001b[0murl\u001b[0m\u001b[0;34m)\u001b[0m\u001b[0;34m)\u001b[0m\u001b[0;34m\u001b[0m\u001b[0;34m\u001b[0m\u001b[0m\n\u001b[0m\u001b[1;32m     21\u001b[0m         \u001b[0;32mif\u001b[0m \u001b[0m_DEBUG_\u001b[0m\u001b[0;34m:\u001b[0m\u001b[0;34m\u001b[0m\u001b[0;34m\u001b[0m\u001b[0m\n\u001b[1;32m     22\u001b[0m             \u001b[0mprint\u001b[0m\u001b[0;34m(\u001b[0m\u001b[0murl_data\u001b[0m\u001b[0;34m)\u001b[0m\u001b[0;34m\u001b[0m\u001b[0;34m\u001b[0m\u001b[0m\n",
            "\u001b[0;32m/usr/local/lib/python3.11/dist-packages/nest_asyncio.py\u001b[0m in \u001b[0;36mrun\u001b[0;34m(main, debug)\u001b[0m\n\u001b[1;32m     33\u001b[0m                 \u001b[0mtask\u001b[0m\u001b[0;34m.\u001b[0m\u001b[0mcancel\u001b[0m\u001b[0;34m(\u001b[0m\u001b[0;34m)\u001b[0m\u001b[0;34m\u001b[0m\u001b[0;34m\u001b[0m\u001b[0m\n\u001b[1;32m     34\u001b[0m                 \u001b[0;32mwith\u001b[0m \u001b[0msuppress\u001b[0m\u001b[0;34m(\u001b[0m\u001b[0masyncio\u001b[0m\u001b[0;34m.\u001b[0m\u001b[0mCancelledError\u001b[0m\u001b[0;34m)\u001b[0m\u001b[0;34m:\u001b[0m\u001b[0;34m\u001b[0m\u001b[0;34m\u001b[0m\u001b[0m\n\u001b[0;32m---> 35\u001b[0;31m                     \u001b[0mloop\u001b[0m\u001b[0;34m.\u001b[0m\u001b[0mrun_until_complete\u001b[0m\u001b[0;34m(\u001b[0m\u001b[0mtask\u001b[0m\u001b[0;34m)\u001b[0m\u001b[0;34m\u001b[0m\u001b[0;34m\u001b[0m\u001b[0m\n\u001b[0m\u001b[1;32m     36\u001b[0m \u001b[0;34m\u001b[0m\u001b[0m\n\u001b[1;32m     37\u001b[0m     \u001b[0;32mdef\u001b[0m \u001b[0m_get_event_loop\u001b[0m\u001b[0;34m(\u001b[0m\u001b[0mstacklevel\u001b[0m\u001b[0;34m=\u001b[0m\u001b[0;36m3\u001b[0m\u001b[0;34m)\u001b[0m\u001b[0;34m:\u001b[0m\u001b[0;34m\u001b[0m\u001b[0;34m\u001b[0m\u001b[0m\n",
            "\u001b[0;32m/usr/local/lib/python3.11/dist-packages/nest_asyncio.py\u001b[0m in \u001b[0;36mrun_until_complete\u001b[0;34m(self, future)\u001b[0m\n\u001b[1;32m     96\u001b[0m                 raise RuntimeError(\n\u001b[1;32m     97\u001b[0m                     'Event loop stopped before Future completed.')\n\u001b[0;32m---> 98\u001b[0;31m             \u001b[0;32mreturn\u001b[0m \u001b[0mf\u001b[0m\u001b[0;34m.\u001b[0m\u001b[0mresult\u001b[0m\u001b[0;34m(\u001b[0m\u001b[0;34m)\u001b[0m\u001b[0;34m\u001b[0m\u001b[0;34m\u001b[0m\u001b[0m\n\u001b[0m\u001b[1;32m     99\u001b[0m \u001b[0;34m\u001b[0m\u001b[0m\n\u001b[1;32m    100\u001b[0m     \u001b[0;32mdef\u001b[0m \u001b[0m_run_once\u001b[0m\u001b[0;34m(\u001b[0m\u001b[0mself\u001b[0m\u001b[0;34m)\u001b[0m\u001b[0;34m:\u001b[0m\u001b[0;34m\u001b[0m\u001b[0;34m\u001b[0m\u001b[0m\n",
            "\u001b[0;32m/usr/lib/python3.11/asyncio/futures.py\u001b[0m in \u001b[0;36mresult\u001b[0;34m(self)\u001b[0m\n\u001b[1;32m    201\u001b[0m         \u001b[0mself\u001b[0m\u001b[0;34m.\u001b[0m\u001b[0m__log_traceback\u001b[0m \u001b[0;34m=\u001b[0m \u001b[0;32mFalse\u001b[0m\u001b[0;34m\u001b[0m\u001b[0;34m\u001b[0m\u001b[0m\n\u001b[1;32m    202\u001b[0m         \u001b[0;32mif\u001b[0m \u001b[0mself\u001b[0m\u001b[0;34m.\u001b[0m\u001b[0m_exception\u001b[0m \u001b[0;32mis\u001b[0m \u001b[0;32mnot\u001b[0m \u001b[0;32mNone\u001b[0m\u001b[0;34m:\u001b[0m\u001b[0;34m\u001b[0m\u001b[0;34m\u001b[0m\u001b[0m\n\u001b[0;32m--> 203\u001b[0;31m             \u001b[0;32mraise\u001b[0m \u001b[0mself\u001b[0m\u001b[0;34m.\u001b[0m\u001b[0m_exception\u001b[0m\u001b[0;34m.\u001b[0m\u001b[0mwith_traceback\u001b[0m\u001b[0;34m(\u001b[0m\u001b[0mself\u001b[0m\u001b[0;34m.\u001b[0m\u001b[0m_exception_tb\u001b[0m\u001b[0;34m)\u001b[0m\u001b[0;34m\u001b[0m\u001b[0;34m\u001b[0m\u001b[0m\n\u001b[0m\u001b[1;32m    204\u001b[0m         \u001b[0;32mreturn\u001b[0m \u001b[0mself\u001b[0m\u001b[0;34m.\u001b[0m\u001b[0m_result\u001b[0m\u001b[0;34m\u001b[0m\u001b[0;34m\u001b[0m\u001b[0m\n\u001b[1;32m    205\u001b[0m \u001b[0;34m\u001b[0m\u001b[0m\n",
            "\u001b[0;32m/usr/lib/python3.11/asyncio/tasks.py\u001b[0m in \u001b[0;36m__step\u001b[0;34m(***failed resolving arguments***)\u001b[0m\n\u001b[1;32m    275\u001b[0m                 \u001b[0;31m# We use the `send` method directly, because coroutines\u001b[0m\u001b[0;34m\u001b[0m\u001b[0;34m\u001b[0m\u001b[0m\n\u001b[1;32m    276\u001b[0m                 \u001b[0;31m# don't have `__iter__` and `__next__` methods.\u001b[0m\u001b[0;34m\u001b[0m\u001b[0;34m\u001b[0m\u001b[0m\n\u001b[0;32m--> 277\u001b[0;31m                 \u001b[0mresult\u001b[0m \u001b[0;34m=\u001b[0m \u001b[0mcoro\u001b[0m\u001b[0;34m.\u001b[0m\u001b[0msend\u001b[0m\u001b[0;34m(\u001b[0m\u001b[0;32mNone\u001b[0m\u001b[0;34m)\u001b[0m\u001b[0;34m\u001b[0m\u001b[0;34m\u001b[0m\u001b[0m\n\u001b[0m\u001b[1;32m    278\u001b[0m             \u001b[0;32melse\u001b[0m\u001b[0;34m:\u001b[0m\u001b[0;34m\u001b[0m\u001b[0;34m\u001b[0m\u001b[0m\n\u001b[1;32m    279\u001b[0m                 \u001b[0mresult\u001b[0m \u001b[0;34m=\u001b[0m \u001b[0mcoro\u001b[0m\u001b[0;34m.\u001b[0m\u001b[0mthrow\u001b[0m\u001b[0;34m(\u001b[0m\u001b[0mexc\u001b[0m\u001b[0;34m)\u001b[0m\u001b[0;34m\u001b[0m\u001b[0;34m\u001b[0m\u001b[0m\n",
            "\u001b[0;32m/tmp/ipython-input-1187077216.py\u001b[0m in \u001b[0;36mscrape_ad_text\u001b[0;34m(url)\u001b[0m\n\u001b[1;32m     48\u001b[0m             \u001b[0mresults\u001b[0m\u001b[0;34m.\u001b[0m\u001b[0mappend\u001b[0m\u001b[0;34m(\u001b[0m\u001b[0;34m{\u001b[0m\u001b[0;34m\"url\"\u001b[0m\u001b[0;34m:\u001b[0m \u001b[0murl\u001b[0m\u001b[0;34m,\u001b[0m \u001b[0;34m\"desc\"\u001b[0m\u001b[0;34m:\u001b[0m \u001b[0;34mf\"Hiba: {str(e)}\"\u001b[0m\u001b[0;34m,\u001b[0m\u001b[0;34m\"price\"\u001b[0m\u001b[0;34m:\u001b[0m\u001b[0;34mf\"Hiba: {str(e)}\"\u001b[0m\u001b[0;34m}\u001b[0m\u001b[0;34m)\u001b[0m\u001b[0;34m\u001b[0m\u001b[0;34m\u001b[0m\u001b[0m\n\u001b[1;32m     49\u001b[0m \u001b[0;34m\u001b[0m\u001b[0m\n\u001b[0;32m---> 50\u001b[0;31m         \u001b[0;32mawait\u001b[0m \u001b[0mbrowser\u001b[0m\u001b[0;34m.\u001b[0m\u001b[0mclose\u001b[0m\u001b[0;34m(\u001b[0m\u001b[0;34m)\u001b[0m\u001b[0;34m\u001b[0m\u001b[0;34m\u001b[0m\u001b[0m\n\u001b[0m\u001b[1;32m     51\u001b[0m \u001b[0;34m\u001b[0m\u001b[0m\n\u001b[1;32m     52\u001b[0m     \u001b[0;32mreturn\u001b[0m \u001b[0mresults\u001b[0m  \u001b[0;31m#return a list\u001b[0m\u001b[0;34m\u001b[0m\u001b[0;34m\u001b[0m\u001b[0m\n",
            "\u001b[0;32m/usr/local/lib/python3.11/dist-packages/playwright/async_api/_generated.py\u001b[0m in \u001b[0;36mclose\u001b[0;34m(self, reason)\u001b[0m\n\u001b[1;32m  14224\u001b[0m         \"\"\"\n\u001b[1;32m  14225\u001b[0m \u001b[0;34m\u001b[0m\u001b[0m\n\u001b[0;32m> 14226\u001b[0;31m         \u001b[0;32mreturn\u001b[0m \u001b[0mmapping\u001b[0m\u001b[0;34m.\u001b[0m\u001b[0mfrom_maybe_impl\u001b[0m\u001b[0;34m(\u001b[0m\u001b[0;32mawait\u001b[0m \u001b[0mself\u001b[0m\u001b[0;34m.\u001b[0m\u001b[0m_impl_obj\u001b[0m\u001b[0;34m.\u001b[0m\u001b[0mclose\u001b[0m\u001b[0;34m(\u001b[0m\u001b[0mreason\u001b[0m\u001b[0;34m=\u001b[0m\u001b[0mreason\u001b[0m\u001b[0;34m)\u001b[0m\u001b[0;34m)\u001b[0m\u001b[0;34m\u001b[0m\u001b[0;34m\u001b[0m\u001b[0m\n\u001b[0m\u001b[1;32m  14227\u001b[0m \u001b[0;34m\u001b[0m\u001b[0m\n\u001b[1;32m  14228\u001b[0m     \u001b[0;32masync\u001b[0m \u001b[0;32mdef\u001b[0m \u001b[0mnew_browser_cdp_session\u001b[0m\u001b[0;34m(\u001b[0m\u001b[0mself\u001b[0m\u001b[0;34m)\u001b[0m \u001b[0;34m->\u001b[0m \u001b[0;34m\"CDPSession\"\u001b[0m\u001b[0;34m:\u001b[0m\u001b[0;34m\u001b[0m\u001b[0;34m\u001b[0m\u001b[0m\n",
            "\u001b[0;32m/usr/local/lib/python3.11/dist-packages/playwright/_impl/_browser.py\u001b[0m in \u001b[0;36mclose\u001b[0;34m(self, reason)\u001b[0m\n\u001b[1;32m    239\u001b[0m         \u001b[0;32mexcept\u001b[0m \u001b[0mException\u001b[0m \u001b[0;32mas\u001b[0m \u001b[0me\u001b[0m\u001b[0;34m:\u001b[0m\u001b[0;34m\u001b[0m\u001b[0;34m\u001b[0m\u001b[0m\n\u001b[1;32m    240\u001b[0m             \u001b[0;32mif\u001b[0m \u001b[0;32mnot\u001b[0m \u001b[0mis_target_closed_error\u001b[0m\u001b[0;34m(\u001b[0m\u001b[0me\u001b[0m\u001b[0;34m)\u001b[0m\u001b[0;34m:\u001b[0m\u001b[0;34m\u001b[0m\u001b[0;34m\u001b[0m\u001b[0m\n\u001b[0;32m--> 241\u001b[0;31m                 \u001b[0;32mraise\u001b[0m \u001b[0me\u001b[0m\u001b[0;34m\u001b[0m\u001b[0;34m\u001b[0m\u001b[0m\n\u001b[0m\u001b[1;32m    242\u001b[0m \u001b[0;34m\u001b[0m\u001b[0m\n\u001b[1;32m    243\u001b[0m     \u001b[0;34m@\u001b[0m\u001b[0mproperty\u001b[0m\u001b[0;34m\u001b[0m\u001b[0;34m\u001b[0m\u001b[0m\n",
            "\u001b[0;32m/usr/local/lib/python3.11/dist-packages/playwright/_impl/_browser.py\u001b[0m in \u001b[0;36mclose\u001b[0;34m(self, reason)\u001b[0m\n\u001b[1;32m    236\u001b[0m                 \u001b[0;32mawait\u001b[0m \u001b[0mself\u001b[0m\u001b[0;34m.\u001b[0m\u001b[0m_connection\u001b[0m\u001b[0;34m.\u001b[0m\u001b[0mstop_async\u001b[0m\u001b[0;34m(\u001b[0m\u001b[0;34m)\u001b[0m\u001b[0;34m\u001b[0m\u001b[0;34m\u001b[0m\u001b[0m\n\u001b[1;32m    237\u001b[0m             \u001b[0;32melse\u001b[0m\u001b[0;34m:\u001b[0m\u001b[0;34m\u001b[0m\u001b[0;34m\u001b[0m\u001b[0m\n\u001b[0;32m--> 238\u001b[0;31m                 \u001b[0;32mawait\u001b[0m \u001b[0mself\u001b[0m\u001b[0;34m.\u001b[0m\u001b[0m_channel\u001b[0m\u001b[0;34m.\u001b[0m\u001b[0msend\u001b[0m\u001b[0;34m(\u001b[0m\u001b[0;34m\"close\"\u001b[0m\u001b[0;34m,\u001b[0m \u001b[0;32mNone\u001b[0m\u001b[0;34m,\u001b[0m \u001b[0;34m{\u001b[0m\u001b[0;34m\"reason\"\u001b[0m\u001b[0;34m:\u001b[0m \u001b[0mreason\u001b[0m\u001b[0;34m}\u001b[0m\u001b[0;34m)\u001b[0m\u001b[0;34m\u001b[0m\u001b[0;34m\u001b[0m\u001b[0m\n\u001b[0m\u001b[1;32m    239\u001b[0m         \u001b[0;32mexcept\u001b[0m \u001b[0mException\u001b[0m \u001b[0;32mas\u001b[0m \u001b[0me\u001b[0m\u001b[0;34m:\u001b[0m\u001b[0;34m\u001b[0m\u001b[0;34m\u001b[0m\u001b[0m\n\u001b[1;32m    240\u001b[0m             \u001b[0;32mif\u001b[0m \u001b[0;32mnot\u001b[0m \u001b[0mis_target_closed_error\u001b[0m\u001b[0;34m(\u001b[0m\u001b[0me\u001b[0m\u001b[0;34m)\u001b[0m\u001b[0;34m:\u001b[0m\u001b[0;34m\u001b[0m\u001b[0;34m\u001b[0m\u001b[0m\n",
            "\u001b[0;32m/usr/local/lib/python3.11/dist-packages/playwright/_impl/_connection.py\u001b[0m in \u001b[0;36msend\u001b[0;34m(self, method, timeout_calculator, params, is_internal, title)\u001b[0m\n\u001b[1;32m     67\u001b[0m         \u001b[0mtitle\u001b[0m\u001b[0;34m:\u001b[0m \u001b[0mstr\u001b[0m \u001b[0;34m=\u001b[0m \u001b[0;32mNone\u001b[0m\u001b[0;34m,\u001b[0m\u001b[0;34m\u001b[0m\u001b[0;34m\u001b[0m\u001b[0m\n\u001b[1;32m     68\u001b[0m     ) -> Any:\n\u001b[0;32m---> 69\u001b[0;31m         return await self._connection.wrap_api_call(\n\u001b[0m\u001b[1;32m     70\u001b[0m             \u001b[0;32mlambda\u001b[0m\u001b[0;34m:\u001b[0m \u001b[0mself\u001b[0m\u001b[0;34m.\u001b[0m\u001b[0m_inner_send\u001b[0m\u001b[0;34m(\u001b[0m\u001b[0mmethod\u001b[0m\u001b[0;34m,\u001b[0m \u001b[0mtimeout_calculator\u001b[0m\u001b[0;34m,\u001b[0m \u001b[0mparams\u001b[0m\u001b[0;34m,\u001b[0m \u001b[0;32mFalse\u001b[0m\u001b[0;34m)\u001b[0m\u001b[0;34m,\u001b[0m\u001b[0;34m\u001b[0m\u001b[0;34m\u001b[0m\u001b[0m\n\u001b[1;32m     71\u001b[0m             \u001b[0mis_internal\u001b[0m\u001b[0;34m,\u001b[0m\u001b[0;34m\u001b[0m\u001b[0;34m\u001b[0m\u001b[0m\n",
            "\u001b[0;32m/usr/local/lib/python3.11/dist-packages/playwright/_impl/_connection.py\u001b[0m in \u001b[0;36mwrap_api_call\u001b[0;34m(self, cb, is_internal, title)\u001b[0m\n\u001b[1;32m    556\u001b[0m             \u001b[0;32mreturn\u001b[0m \u001b[0;32mawait\u001b[0m \u001b[0mcb\u001b[0m\u001b[0;34m(\u001b[0m\u001b[0;34m)\u001b[0m\u001b[0;34m\u001b[0m\u001b[0;34m\u001b[0m\u001b[0m\n\u001b[1;32m    557\u001b[0m         \u001b[0;32mexcept\u001b[0m \u001b[0mException\u001b[0m \u001b[0;32mas\u001b[0m \u001b[0merror\u001b[0m\u001b[0;34m:\u001b[0m\u001b[0;34m\u001b[0m\u001b[0;34m\u001b[0m\u001b[0m\n\u001b[0;32m--> 558\u001b[0;31m             \u001b[0;32mraise\u001b[0m \u001b[0mrewrite_error\u001b[0m\u001b[0;34m(\u001b[0m\u001b[0merror\u001b[0m\u001b[0;34m,\u001b[0m \u001b[0;34mf\"{parsed_st['apiName']}: {error}\"\u001b[0m\u001b[0;34m)\u001b[0m \u001b[0;32mfrom\u001b[0m \u001b[0;32mNone\u001b[0m\u001b[0;34m\u001b[0m\u001b[0;34m\u001b[0m\u001b[0m\n\u001b[0m\u001b[1;32m    559\u001b[0m         \u001b[0;32mfinally\u001b[0m\u001b[0;34m:\u001b[0m\u001b[0;34m\u001b[0m\u001b[0;34m\u001b[0m\u001b[0m\n\u001b[1;32m    560\u001b[0m             \u001b[0mself\u001b[0m\u001b[0;34m.\u001b[0m\u001b[0m_api_zone\u001b[0m\u001b[0;34m.\u001b[0m\u001b[0mset\u001b[0m\u001b[0;34m(\u001b[0m\u001b[0;32mNone\u001b[0m\u001b[0;34m)\u001b[0m\u001b[0;34m\u001b[0m\u001b[0;34m\u001b[0m\u001b[0m\n",
            "\u001b[0;31mException\u001b[0m: Browser.close: Connection closed while reading from the driver"
          ]
        }
      ]
    },
    {
      "cell_type": "code",
      "source": [
        "df=pd.DataFrame(zenga_data)\n",
        "csv_path='/content/drive/MyDrive/Zenga/'\n",
        "df.to_csv(csv_path+f'zenga_data_{city}.csv',index=False)"
      ],
      "metadata": {
        "id": "YApLrfYpSjbR"
      },
      "execution_count": 36,
      "outputs": []
    },
    {
      "cell_type": "code",
      "source": [
        "szoveg=df.desc[0]"
      ],
      "metadata": {
        "id": "PcI7PbyRFSG9"
      },
      "execution_count": 37,
      "outputs": []
    },
    {
      "cell_type": "code",
      "source": [
        "raise SystemExit(\"🛑 Kód megszakítva ezen a ponton.\") # A következő rész a AI prompt beállításait tartalmazza"
      ],
      "metadata": {
        "colab": {
          "base_uri": "https://localhost:8080/",
          "height": 128
        },
        "id": "zmCIZa0GTgLC",
        "outputId": "4faa45d8-c1ae-458b-82dd-7f31e7a43efa"
      },
      "execution_count": 38,
      "outputs": [
        {
          "output_type": "error",
          "ename": "SystemExit",
          "evalue": "🛑 Kód megszakítva ezen a ponton.",
          "traceback": [
            "An exception has occurred, use %tb to see the full traceback.\n",
            "\u001b[0;31mSystemExit\u001b[0m\u001b[0;31m:\u001b[0m 🛑 Kód megszakítva ezen a ponton.\n"
          ]
        },
        {
          "output_type": "stream",
          "name": "stderr",
          "text": [
            "/usr/local/lib/python3.11/dist-packages/IPython/core/interactiveshell.py:3561: UserWarning: To exit: use 'exit', 'quit', or Ctrl-D.\n",
            "  warn(\"To exit: use 'exit', 'quit', or Ctrl-D.\", stacklevel=1)\n"
          ]
        }
      ]
    },
    {
      "cell_type": "code",
      "source": [
        "#ujraépítjuk az adatokat, innen bármikor el kell indulni\n",
        "city=\"budaors\"\n",
        "csv_path='/content/drive/MyDrive/Zenga/'\n",
        "df_city=pd.read_csv(csv_path+f'zenga_data_{city}.csv')"
      ],
      "metadata": {
        "id": "ssi9kr2f42f3"
      },
      "execution_count": 63,
      "outputs": []
    },
    {
      "cell_type": "code",
      "metadata": {
        "id": "6842f3b1"
      },
      "source": [
        "from openai import OpenAI\n",
        "import json"
      ],
      "execution_count": 64,
      "outputs": []
    },
    {
      "cell_type": "code",
      "source": [
        "from google.colab import userdata\n",
        "key=userdata.get('OpenAi_API')"
      ],
      "metadata": {
        "id": "kyJt3WXLyKQH"
      },
      "execution_count": 65,
      "outputs": []
    },
    {
      "cell_type": "code",
      "source": [
        "#Demo szöveg\n",
        "szoveg='''\n",
        "Budafok szép panorámás részén a Rózsavölgy feletti dombon, csendes mellékutcában eladó egy bájos kis ház 520 négyzetméteres telken.\n",
        "\n",
        "A kis ház 35 négyzetméteres, egy légtérben van kialakítva benne a nappali, melyet részben nyitott válaszfallal szeparáltak el a konyha-étkező résztől. A zuhanyzós fürdő és a WC egy helyiségben található.\n",
        "\n",
        "A víz, az áram és az internet be van kötve a házba. Gáz és csatorna az utcában. A csatorna bevezetését már kezdeményezte a szomszédos telek tulajdonosa.\n",
        "\n",
        "A telken áll egy másik kis házikó is, ami jelenleg egy 9 négyzetméteres szobaként funkcionál.\n",
        "\n",
        "A kert szép és gondozott, sok gyümölcsfával. Nagyobb mérete miatt sok lehetőséget rejt. Kialakítható rajta több nagy magaságyás, építhető kerti medence vagy finn szauna is.\n",
        "\n",
        "További információkért és időpont egyeztetésért kérem hívjon telefononn.\n",
        "Hitellel vásárlás esetén bankfüggetlen és DÍJMENTES hiteltanácsadó közreműködését biztosítjuk, aki a teljes folyamaton végigkíséri Önt.\n",
        "Az adásvétel biztonságos és gördülékeny bonyolítása érdekében tapasztalt ingatlan szakjogászaink szolgáltatását is ajánlom.\n",
        "'''"
      ],
      "metadata": {
        "id": "PMGh2RYuK_TD"
      },
      "execution_count": 66,
      "outputs": []
    },
    {
      "cell_type": "code",
      "source": [
        "szoveg=df_city.desc[0]\n",
        "\n",
        "\n",
        "print(szoveg)\n",
        "print(df_city.url[0])"
      ],
      "metadata": {
        "colab": {
          "base_uri": "https://localhost:8080/"
        },
        "id": "Sa8OELoo5xca",
        "outputId": "8400787d-169b-4bd8-d00b-21966cf4c47f"
      },
      "execution_count": 68,
      "outputs": [
        {
          "output_type": "stream",
          "name": "stdout",
          "text": [
            "Budaörs központjában önálló családi ház eladó.\n",
            "\n",
            "Budaörsön a Kálvária domb közelében kínálunk eladásra egy 201 nm-es önálló telken álló, egyszintes családi házat.\n",
            "A telken 2 épület van. A fő épület 50 nm-es, 2 szoba, konyha, fürdőszoba.\n",
            "A kisebb épület kb. 20 nm-es,1 szoba, konyha, fürdőszoba, teljesen külön tömbben található a telken, melynek az alsó szintjén kb 20 nm-es garázs-tároló található. A telken 2 szint lett kialakítva. A felső kertrész alatt helyezkedik el a pince.\n",
            "Nagyon kellemes környék a város szívében.\n",
            "https://www.zenga.hu//ingatlan/elado-csaladi-haz-budaors-ofalu/8299009?page=1&pos=1&cr=50\n"
          ]
        }
      ]
    },
    {
      "cell_type": "code",
      "source": [
        "def create_prompt(szoveg):\n",
        "    prompt_message=[\n",
        "            {\"role\": \"system\",\n",
        "             \"content\": f'''\n",
        "                    Te egy ingatlanhirdetés-elemző nyelvész vagy, komoly ingatlanhirdetési tapasztalattal.\n",
        "                    Célod, hogy az ingatlan hirdetések tökéletesek legyenek ezért kidolgoztál egy hirdetés értékelési szempontrendszert.\n",
        "                    Ezek a szempontok alapján tökéletes értékelést tudsz adni az adott hirdetés szövege alapján.\n",
        "                    A szempontok:\n",
        "                        1. Érthetőség\n",
        "                        2. Részletesség / információtartalom\n",
        "                        3. Szerkezet, logikai felépítés\n",
        "                        4. Célcsoport megszólítása\n",
        "                        5. Stílus és nyelvhelyesség\n",
        "                        6. Előnyök kiemelése\n",
        "                        7. Negatívumok őszinte kezelése\n",
        "                        8. Eladásra ösztönzés'''},\n",
        "            {\"role\": \"user\",\n",
        "             \"content\": \"\"\"\n",
        "                            Értékeld az alábbi ingatlanhirdetés szöveget és az értékelést a scoring mezőbe helyezzed el.\n",
        "                            Az alábbi szempontok alapján 1–5-ig pontozzad, és hozz létre egy összesített eredményt  1-8 közötti szempontok értékelésének átlagaként ez legyen a 9. Összesítés :\n",
        "                            Majd a tudásod alapján adj egy alternatív javaslatot az eredeti szöveg javítására, hogy a lehető legjobban megfeleljen a szempontoknak.\n",
        "                            Az alternatív javaslatot strukturáld, és tördeld a jobb érthetőség érdekében, de markdown formátumot ne használj!\n",
        "                            Fontos, hogy a saját szempontrendszered szerint az alternatív javaslatod értékelése jobb legyen az eredeti értékelésnél!\n",
        "                            A válaszod csak érvényes JSON formátumban legyen, pontosan az alábbi struktúrában:\n",
        "\n",
        "                            {\"scoring\":\n",
        "                                {\n",
        "\n",
        "                                    \"Érthetőség\": <szám>,\n",
        "                                    \"Részletesség\": <szám>,\n",
        "                                    \"Szerkezet\": <szám>,\n",
        "                                    \"Célcsoport\": <szám>,\n",
        "                                    \"Stílus\": <szám>,\n",
        "                                    \"Előnyök\": <szám>,\n",
        "                                    \"Negatívumok\": <szám>,\n",
        "                                    \"Ösztönzés\": <szám>,\n",
        "                                    \"Összesítés\": <szám.tizedes>\"\n",
        "                                },\n",
        "                            \"proposal\":\"Ide kerüljön a javított szöveg javaslatod\"\n",
        "                            }\n",
        "\n",
        "\n",
        "                    A HIRDETÉS SZÖVEGE:\n",
        "                        \"\"\"+f\" {szoveg}\"}\n",
        "        ]\n",
        "    return prompt_message\n"
      ],
      "metadata": {
        "id": "dCeg519FjA1e"
      },
      "execution_count": 69,
      "outputs": []
    },
    {
      "cell_type": "code",
      "source": [
        "prompt_message=create_prompt(szoveg)\n"
      ],
      "metadata": {
        "id": "3QAd5oiRFVZd"
      },
      "execution_count": 70,
      "outputs": []
    },
    {
      "cell_type": "code",
      "source": [
        "def get_response(szoveg:str):\n",
        "    '''\n",
        "    A megadott szöveghez promptot készít (`create_prompt`), elküldi az OpenAI Chat\n",
        "    Completions API-nak (gpt-4o), majd a választ JSON-ként beolvassa és dict-ként visszaadja.\n",
        "\n",
        "    Paraméterek\n",
        "    -----------\n",
        "    szoveg : str\n",
        "        A bemeneti szöveg, amelyből a `create_prompt` összeállítja a `messages` listát.\n",
        "\n",
        "    Visszatérés\n",
        "    -----------\n",
        "    dict\n",
        "        A modell által visszaadott JSON objektum, Python dict-be parse-olva.\n",
        "    '''\n",
        "    client = OpenAI(api_key=key)\n",
        "    prompt_message=create_prompt(szoveg)\n",
        "    response = client.chat.completions.create(\n",
        "        model=\"gpt-4o\",\n",
        "        messages=prompt_message,\n",
        "        temperature=0.5,\n",
        "        max_tokens=7000\n",
        "    )\n",
        "\n",
        "    content = response.choices[0].message.content\n",
        "\n",
        "    # a gpt-4 így adja vissza a json választ, kiszedjük a jsont a felesleges keretből\n",
        "    if content.startswith(\"```json\"):\n",
        "        content = content.strip(\"`\").lstrip(\"json\").strip()\n",
        "\n",
        "    #\n",
        "    out_dict = json.loads(content)\n",
        "\n",
        "    return(out_dict)"
      ],
      "metadata": {
        "id": "yFMMubHWndJ_"
      },
      "execution_count": 76,
      "outputs": []
    },
    {
      "cell_type": "code",
      "source": [
        "resp_data=get_response(prompt_message)"
      ],
      "metadata": {
        "id": "mEusV3hnnjEK"
      },
      "execution_count": 77,
      "outputs": []
    },
    {
      "cell_type": "code",
      "source": [
        "print(resp_data)"
      ],
      "metadata": {
        "colab": {
          "base_uri": "https://localhost:8080/"
        },
        "id": "xscKdn5Bgsby",
        "outputId": "2c17b9b4-ab7c-4d96-e0cb-47dc2052c920"
      },
      "execution_count": 73,
      "outputs": [
        {
          "output_type": "stream",
          "name": "stdout",
          "text": [
            "{'scoring': {'Érthetőség': 4, 'Részletesség': 3, 'Szerkezet': 3, 'Célcsoport': 3, 'Stílus': 3, 'Előnyök': 3, 'Negatívumok': 2, 'Ösztönzés': 2, 'Összesítés': 2.9}, 'proposal': 'Eladó Budaörs központjában egy egyedi lehetőségeket kínáló családi ház! \\n\\nHelyszín: Budaörs, Kálvária domb közelében, csendes, mégis központi elhelyezkedés. \\n\\nIngatlan jellemzői: \\n- A telek mérete: 201 nm \\n- Fő épület: 50 nm, 2 szoba, konyha, fürdőszoba \\n- Melléképület: 20 nm, 1 szoba, konyha, fürdőszoba, különálló épületben \\n- Garázs és tároló: 20 nm, a melléképület alsó szintjén \\n- Két szintes telek kialakítás, felső kertrész alatt pince található \\n\\nElőnyök: \\n- Kellemes, zöld környezet a város szívében \\n- Két különálló lakóegység, ideális nagyobb családok vagy befektetők számára \\n\\nMegjegyzés: \\n- Az ingatlan felújítást igényel, de rengeteg potenciállal rendelkezik. \\n\\nNe hagyja ki ezt a kivételes lehetőséget, hogy egy ilyen egyedi elhelyezkedésű ingatlan tulajdonosa legyen! További információért keressen bizalommal!'}\n"
          ]
        }
      ]
    },
    {
      "cell_type": "code",
      "source": [
        "resp_data[\"scoring\"]"
      ],
      "metadata": {
        "colab": {
          "base_uri": "https://localhost:8080/"
        },
        "id": "lHbiezDEJRi8",
        "outputId": "e3683387-f4f7-4b1e-89be-b30369ebfe8e"
      },
      "execution_count": 74,
      "outputs": [
        {
          "output_type": "execute_result",
          "data": {
            "text/plain": [
              "{'Érthetőség': 4,\n",
              " 'Részletesség': 3,\n",
              " 'Szerkezet': 3,\n",
              " 'Célcsoport': 3,\n",
              " 'Stílus': 3,\n",
              " 'Előnyök': 3,\n",
              " 'Negatívumok': 2,\n",
              " 'Ösztönzés': 2,\n",
              " 'Összesítés': 2.9}"
            ]
          },
          "metadata": {},
          "execution_count": 74
        }
      ]
    },
    {
      "cell_type": "code",
      "source": [
        "resp_data[\"proposal\"]"
      ],
      "metadata": {
        "colab": {
          "base_uri": "https://localhost:8080/",
          "height": 72
        },
        "id": "F2SIdNj_CMop",
        "outputId": "bb711e8b-2c2d-4a7b-b6bc-04f5acfd66c1"
      },
      "execution_count": 75,
      "outputs": [
        {
          "output_type": "execute_result",
          "data": {
            "text/plain": [
              "'Eladó Budaörs központjában egy egyedi lehetőségeket kínáló családi ház! \\n\\nHelyszín: Budaörs, Kálvária domb közelében, csendes, mégis központi elhelyezkedés. \\n\\nIngatlan jellemzői: \\n- A telek mérete: 201 nm \\n- Fő épület: 50 nm, 2 szoba, konyha, fürdőszoba \\n- Melléképület: 20 nm, 1 szoba, konyha, fürdőszoba, különálló épületben \\n- Garázs és tároló: 20 nm, a melléképület alsó szintjén \\n- Két szintes telek kialakítás, felső kertrész alatt pince található \\n\\nElőnyök: \\n- Kellemes, zöld környezet a város szívében \\n- Két különálló lakóegység, ideális nagyobb családok vagy befektetők számára \\n\\nMegjegyzés: \\n- Az ingatlan felújítást igényel, de rengeteg potenciállal rendelkezik. \\n\\nNe hagyja ki ezt a kivételes lehetőséget, hogy egy ilyen egyedi elhelyezkedésű ingatlan tulajdonosa legyen! További információért keressen bizalommal!'"
            ],
            "application/vnd.google.colaboratory.intrinsic+json": {
              "type": "string"
            }
          },
          "metadata": {},
          "execution_count": 75
        }
      ]
    },
    {
      "cell_type": "markdown",
      "source": [
        "Eladó Budaörs központjában egy egyedi lehetőségeket kínáló családi ház!\n",
        "\n",
        "Helyszín: Budaörs, Kálvária domb közelében, csendes, mégis központi elhelyezkedés.\n",
        "\n",
        "Ingatlan jellemzői:\n",
        "- A telek mérete: 201 nm\n",
        "- Fő épület: 50 nm, 2 szoba, konyha, fürdőszoba\n",
        "- Melléképület: 20 nm, 1 szoba, konyha, fürdőszoba, különálló épületben\n",
        "- Garázs és tároló: 20 nm, a melléképület alsó szintjén\n",
        "- Két szintes telek kialakítás, felső kertrész alatt pince található\n",
        "\n",
        "Előnyök:\n",
        "- Kellemes, zöld környezet a város szívében\n",
        "- Két különálló lakóegység, ideális nagyobb családok vagy befektetők számára\n",
        "\n",
        "Megjegyzés:\n",
        "- Az ingatlan felújítást igényel, de rengeteg potenciállal rendelkezik.\n",
        "\n",
        "Ne hagyja ki ezt a kivételes lehetőséget, hogy egy ilyen egyedi elhelyezkedésű ingatlan tulajdonosa legyen! További információért keressen bizalommal!"
      ],
      "metadata": {
        "id": "4I7cbdSSf1p7"
      }
    }
  ]
}