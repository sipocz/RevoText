{
  "nbformat": 4,
  "nbformat_minor": 0,
  "metadata": {
    "colab": {
      "provenance": []
    },
    "kernelspec": {
      "name": "python3",
      "display_name": "Python 3"
    },
    "language_info": {
      "name": "python"
    }
  },
  "cells": [
    {
      "cell_type": "code",
      "execution_count": 39,
      "metadata": {
        "id": "PjvBX7hU2-Cx"
      },
      "outputs": [],
      "source": [
        "!pip install -q playwright nest_asyncio\n",
        "!playwright install chromium\n",
        "import nest_asyncio\n",
        "import asyncio\n",
        "import pandas as pd\n",
        "from playwright.async_api import async_playwright\n",
        "import re\n",
        "nest_asyncio.apply()\n"
      ]
    },
    {
      "cell_type": "code",
      "source": [
        "_BASE_URL_='https://www.zenga.hu'\n",
        "def url_creator(place:str=\"pest\",type:str=\"haz\",ar_min=40000000, ar_max=100000000):\n",
        "\n",
        "    return f\"{_BASE_URL_}/{place}+elado+{type}+ar-{ar_min}-{ar_max}?page=\""
      ],
      "metadata": {
        "id": "NMjPOnj1Q1On"
      },
      "execution_count": 40,
      "outputs": []
    },
    {
      "cell_type": "code",
      "source": [
        "url_creator(\"urom\")"
      ],
      "metadata": {
        "colab": {
          "base_uri": "https://localhost:8080/",
          "height": 36
        },
        "id": "F_xbVMRyRL9j",
        "outputId": "cda15e21-65ca-4ecc-ce08-19b9e5be7e9a"
      },
      "execution_count": 41,
      "outputs": [
        {
          "output_type": "execute_result",
          "data": {
            "text/plain": [
              "'https://www.zenga.hu/urom+elado+haz+ar-40000000-100000000?page='"
            ],
            "application/vnd.google.colaboratory.intrinsic+json": {
              "type": "string"
            }
          },
          "metadata": {},
          "execution_count": 41
        }
      ]
    },
    {
      "cell_type": "code",
      "source": [
        "async def scrape_nof_links(start_url=\"https://www.zenga.hu/komarom-esztergom-megye+elado+haz?page=\",page_num=1):\n",
        "\n",
        "    start_url = start_url+str(page_num)\n",
        "    links = []\n",
        "\n",
        "    async with async_playwright() as p:\n",
        "        browser = await p.chromium.launch(headless=True)\n",
        "        page = await browser.new_page()\n",
        "        await page.goto(start_url)\n",
        "        await page.wait_for_timeout(8000)\n",
        "\n",
        "        # Scroll, hogy több kártya betöltődjön\n",
        "        await page.mouse.wheel(0, 5000)\n",
        "        await page.wait_for_timeout(6000)\n",
        "\n",
        "        div_list = await page.query_selector_all(\"div[data-cy='search-page-total-count']\") # linkek itt vannak a html-ben\n",
        "        text=await div_list[0].text_content()\n",
        "        print(f\"Talált linkek száma: {text}\")\n",
        "        number_of_links = int(re.search(r'\\d+', text.replace('\\u00A0', '').replace(' ', '')).group())\n",
        "\n",
        "\n",
        "        await browser.close()\n",
        "        return number_of_links"
      ],
      "metadata": {
        "id": "668y5fsu64yX"
      },
      "execution_count": 42,
      "outputs": []
    },
    {
      "cell_type": "code",
      "source": [
        "number_of_links=await scrape_nof_links()\n",
        "print(f\"A keresésnek megfelelő linkek száma:{number_of_links}\")"
      ],
      "metadata": {
        "colab": {
          "base_uri": "https://localhost:8080/"
        },
        "id": "fQExZhPu7-XR",
        "outputId": "dd3fa3e0-2a35-49e8-95fd-abad119d8628"
      },
      "execution_count": 43,
      "outputs": [
        {
          "output_type": "stream",
          "name": "stdout",
          "text": [
            "Talált linkek száma:  1 859 találat \n",
            "A keresésnek megfelelő linkek száma:1859\n"
          ]
        }
      ]
    },
    {
      "cell_type": "code",
      "source": [
        "async def scrape_zenga_links(start_url=\"https://www.zenga.hu/komarom-esztergom-megye+elado+haz?page=\",page=1):\n",
        "\n",
        "    start_url = start_url+str(page)\n",
        "    links = []\n",
        "\n",
        "    async with async_playwright() as p:\n",
        "        browser = await p.chromium.launch(headless=True)\n",
        "        page = await browser.new_page()\n",
        "        await page.goto(start_url)\n",
        "        await page.wait_for_timeout(8000)\n",
        "\n",
        "        # Scroll, hogy több kártya betöltődjön\n",
        "        await page.mouse.wheel(0, 5000)\n",
        "        await page.wait_for_timeout(3000)\n",
        "\n",
        "        a_links = await page.query_selector_all(\"a[data-cy='advert-card-link']\") # linkek itt vannak a html-ben\n",
        "        print(f\"Talált linkek száma: {len(a_links)}\")\n",
        "\n",
        "        for a in a_links:\n",
        "            href = await a.get_attribute(\"href\")\n",
        "            if href:\n",
        "                links.append(_BASE_URL_ + \"/\" + href)\n",
        "\n",
        "        await browser.close()\n",
        "        return links"
      ],
      "metadata": {
        "id": "7MkS16R4TvZ6"
      },
      "execution_count": 44,
      "outputs": []
    },
    {
      "cell_type": "code",
      "source": [
        "def get_all_url(place:str,type=\"haz\",l_price=40000000, h_price=100000000)->list:\n",
        "    url=url_creator(place=place,type=type,ar_min=l_price,ar_max=h_price)\n",
        "    print(url)\n",
        "    zenga_links=[]\n",
        "\n",
        "    no_links = asyncio.run(scrape_nof_links(start_url=url,page_num=1))\n",
        "    # Futtatás\n",
        "\n",
        "    for i in range(-(-no_links // 20)):\n",
        "        print(f\"Page: {i+1}\")\n",
        "        zenga_page = asyncio.run( scrape_zenga_links(start_url=url,page=i+1))\n",
        "        zenga_links.extend(zenga_page)\n",
        "    # Kiírás\n",
        "    for i, link in enumerate(zenga_links, 1):\n",
        "        print(f\"{i}. {link}\")\n",
        "    return zenga_links\n"
      ],
      "metadata": {
        "id": "rMNz1W8j4iyM"
      },
      "execution_count": 47,
      "outputs": []
    },
    {
      "cell_type": "code",
      "source": [
        "zenga_links=get_all_url(\"torokbalint\",\"haz\",40000000,100000000)"
      ],
      "metadata": {
        "colab": {
          "base_uri": "https://localhost:8080/"
        },
        "id": "8TQVExFRTqS4",
        "outputId": "33cc8138-39ea-41d5-cfaf-728825212bd1"
      },
      "execution_count": 48,
      "outputs": [
        {
          "output_type": "stream",
          "name": "stdout",
          "text": [
            "https://www.zenga.hu/torokbalint+elado+haz+ar-40000000-100000000?page=\n",
            "Talált linkek száma:  23 találat \n",
            "Page: 1\n",
            "Talált linkek száma: 20\n",
            "Page: 2\n",
            "Talált linkek száma: 3\n",
            "1. https://www.zenga.hu//ingatlan/elado-csaladi-haz-torokbalint/8603944?page=1&pos=1&cr=50\n",
            "2. https://www.zenga.hu//ingatlan/elado-ikerhaz-torokbalint/7843274?page=1&pos=2&cr=5\n",
            "3. https://www.zenga.hu//ingatlan/elado-csaladi-haz-torokbalint/8624680?page=1&pos=3\n",
            "4. https://www.zenga.hu//ingatlan/elado-hazresz-torokbalint/8481940?page=1&pos=4\n",
            "5. https://www.zenga.hu//ingatlan/elado-csaladi-haz-torokbalint/8642644?page=1&pos=5\n",
            "6. https://www.zenga.hu//ingatlan/elado-csaladi-haz-torokbalint/8506373?page=1&pos=6\n",
            "7. https://www.zenga.hu//ingatlan/elado-csaladi-haz-torokbalint/8649772?page=1&pos=7\n",
            "8. https://www.zenga.hu//ingatlan/elado-csaladi-haz-torokbalint-ofalu/8059934?page=1&pos=8\n",
            "9. https://www.zenga.hu//ingatlan/elado-csaladi-haz-torokbalint-ofalu/8291269?page=1&pos=9\n",
            "10. https://www.zenga.hu//ingatlan/elado-csaladi-haz-torokbalint/8629521?page=1&pos=10\n",
            "11. https://www.zenga.hu//ingatlan/elado-hazresz-torokbalint/8520058?page=1&pos=11\n",
            "12. https://www.zenga.hu//ingatlan/elado-csaladi-haz-torokbalint-annahegy/8644752?page=1&pos=12\n",
            "13. https://www.zenga.hu//ingatlan/elado-sorhaz-torokbalint/8520060?page=1&pos=13\n",
            "14. https://www.zenga.hu//ingatlan/elado-csaladi-haz-torokbalint/8436279?page=1&pos=14\n",
            "15. https://www.zenga.hu//ingatlan/elado-csaladi-haz-torokbalint/8626097?page=1&pos=15\n",
            "16. https://www.zenga.hu//ingatlan/elado-sorhaz-torokbalint-ofalu/8389405?page=1&pos=16\n",
            "17. https://www.zenga.hu//ingatlan/elado-csaladi-haz-torokbalint/8623618?page=1&pos=17\n",
            "18. https://www.zenga.hu//ingatlan/elado-hazresz-torokbalint-ofalu/8586836?page=1&pos=18\n",
            "19. https://www.zenga.hu//ingatlan/elado-csaladi-haz-torokbalint-annahegy/8572421?page=1&pos=19\n",
            "20. https://www.zenga.hu//ingatlan/elado-csaladi-haz-torokbalint-ofalu/8531070?page=1&pos=20\n",
            "21. https://www.zenga.hu//ingatlan/elado-csaladi-haz-torokbalint-ofalu/8188928?page=2&pos=1\n",
            "22. https://www.zenga.hu//ingatlan/elado-csaladi-haz-torokbalint/8179516?page=2&pos=2\n",
            "23. https://www.zenga.hu//ingatlan/elado-csaladi-haz-torokbalint/7886806?page=2&pos=3\n"
          ]
        }
      ]
    },
    {
      "cell_type": "code",
      "source": [
        "df=pd.DataFrame(zenga_links,columns=['link'])"
      ],
      "metadata": {
        "id": "4TvwgMowi_xA"
      },
      "execution_count": 49,
      "outputs": []
    },
    {
      "cell_type": "code",
      "source": [
        "csv_path='/content/drive/MyDrive/Zenga/'"
      ],
      "metadata": {
        "id": "Oc2TLBAtj4te"
      },
      "execution_count": 50,
      "outputs": []
    },
    {
      "cell_type": "code",
      "source": [
        "df.to_csv(csv_path+'links_torokbalint.csv',index=False)"
      ],
      "metadata": {
        "id": "gGpPtp2JjDog"
      },
      "execution_count": 51,
      "outputs": []
    },
    {
      "cell_type": "code",
      "source": [
        "async def scrape_ad_text(url):\n",
        "    results = []\n",
        "    async with async_playwright() as p:\n",
        "        browser = await p.chromium.launch(headless=True)\n",
        "        page = await browser.new_page()\n",
        "\n",
        "\n",
        "        try:\n",
        "            print(f\"🔗 {url}\")\n",
        "            await page.goto(url, timeout=20000)\n",
        "            try:\n",
        "                await page.get_by_text(\"Összes süti engedélyezése\").click()\n",
        "                print(\"Süti elfogadva\")\n",
        "            except:\n",
        "                print(\"Süti gomb nem jelent meg\")\n",
        "\n",
        "\n",
        "            await page.wait_for_timeout(7000)\n",
        "            #await page.screenshot(path=\"screenshot.png\")  # DEBUG\n",
        "            desc_element = await page.query_selector(\"span[data-cy='advert-details-description']\")\n",
        "            desc_text = await desc_element.inner_text() if desc_element else \"Nincs szöveg\"\n",
        "            print(f\"Szöveg: {desc_text} \")\n",
        "\n",
        "            price_element = await page.query_selector(\"div[data-cy='advert-details-price']\")\n",
        "            price_text = await price_element.inner_text() if desc_element else \"Nincs ár\"\n",
        "            print(f\"Ár: {price_text} \")\n",
        "\n",
        "\n",
        "            results.append({\"url\": url, \"desc\": desc_text, \"price\":price_text})\n",
        "        except Exception as e:\n",
        "            print(f\"Hiba: {str(e)}\")\n",
        "            results.append({\"url\": url, \"text\": f\"Hiba: {str(e)}\"})\n",
        "\n",
        "        await browser.close()\n",
        "\n",
        "    return results  #return a list\n"
      ],
      "metadata": {
        "id": "a8xw9GhrCarM"
      },
      "execution_count": 52,
      "outputs": []
    },
    {
      "cell_type": "code",
      "source": [
        "def scrape_zenga_list(z_list_list):\n",
        "    out_list=[]\n",
        "    for url in z_list_list:\n",
        "        url_data = asyncio.run(scrape_ad_text(url))\n",
        "        print(url_data)\n",
        "        out_list.extend(url_data)\n",
        "    return out_list"
      ],
      "metadata": {
        "id": "0GX-U9E7JWke"
      },
      "execution_count": 53,
      "outputs": []
    },
    {
      "cell_type": "code",
      "source": [
        "zenga_data=scrape_zenga_list(zenga_links)"
      ],
      "metadata": {
        "colab": {
          "base_uri": "https://localhost:8080/"
        },
        "collapsed": true,
        "id": "M65UJytUJ01V",
        "outputId": "f889f2fb-ba83-429b-a6f4-16501edb572e"
      },
      "execution_count": 54,
      "outputs": [
        {
          "output_type": "stream",
          "name": "stdout",
          "text": [
            "🔗 https://www.zenga.hu//ingatlan/elado-csaladi-haz-torokbalint/8603944?page=1&pos=1&cr=50\n",
            "Süti elfogadva\n",
            "Szöveg: Kizárólag a mi irodánk kínálatában!!!\n",
            "\n",
            "Egyedi lehetőség alakítsa ki saját ízlése szerint!\n",
            "Befektetésnek is egyaránt alkalmas mivel a ház három lakrészre van osztva , ami áll két garzon lakás részből.\n",
            "A nagy ház egy amerikai konyhás nappali fürdőszoba előszoba és az emeleten nagy tágas nappali és két különálló szobából.\n",
            "\n",
            "- Kiadásra is remek lehetőség.\n",
            "Az ingatlan tehermentes rendezett tulajdoni viszonyú akár gyorsan birtokba vehető.\n",
            "Bővebb információért kérem hívjon bizalommal akár hétvégén is. \n",
            "Ár: 58 millió Ft \n",
            "[{'url': 'https://www.zenga.hu//ingatlan/elado-csaladi-haz-torokbalint/8603944?page=1&pos=1&cr=50', 'desc': 'Kizárólag a mi irodánk kínálatában!!!\\n\\nEgyedi lehetőség alakítsa ki saját ízlése szerint!\\nBefektetésnek is egyaránt alkalmas mivel a ház három lakrészre van osztva , ami áll két garzon lakás részből.\\nA nagy ház egy amerikai konyhás nappali fürdőszoba előszoba és az emeleten nagy tágas nappali és két különálló szobából.\\n\\n- Kiadásra is remek lehetőség.\\nAz ingatlan tehermentes rendezett tulajdoni viszonyú akár gyorsan birtokba vehető.\\nBővebb információért kérem hívjon bizalommal akár hétvégén is.', 'price': '58\\xa0millió Ft'}]\n",
            "🔗 https://www.zenga.hu//ingatlan/elado-ikerhaz-torokbalint/7843274?page=1&pos=2&cr=5\n",
            "Süti elfogadva\n",
            "Szöveg: Budapest legkedveltebb zöldövezeti kertvárosában egy igazi családi fészket kínálunk rendkívül kedvező áron.\n",
            "Csendes, mégis központi helyen egy két szintes, bájos kerttel, kellemes terasszal és 3 autó elhelyezésére szolgáló parkoló hellyel rendelkező családi ház várja új lakóit.\n",
            "A földszinten található a terasz kapcsolatos nappali, egy konyha-kamra-étkező trió és a közlekedőről nyílik egy önálló wc, egy fürdőszoba wc-vel és egy gardrób.\n",
            "Az emeleten három hálószoba és egy önálló wc szolgálja a pihenést.\n",
            "Az ingatlan néhány tíz méteres sugarú körén belül található sportközpont uszodával, általános és középiskola, tömegközlekedési kapcsolat. A bevásárló központok (Auchan, Aldi) tömegközlekedéssel 5 perc alatt érhetőek el.\n",
            "Csendes, nyugalmas és biztonságos környék, barátságos szomszédokkal.\n",
            "\n",
            "Minden további kérdésben állok rendelkezésre telefonon és email-en. \n",
            "Ár: 89,5 millió Ft \n",
            "[{'url': 'https://www.zenga.hu//ingatlan/elado-ikerhaz-torokbalint/7843274?page=1&pos=2&cr=5', 'desc': 'Budapest legkedveltebb zöldövezeti kertvárosában egy igazi családi fészket kínálunk rendkívül kedvező áron.\\nCsendes, mégis központi helyen egy két szintes, bájos kerttel, kellemes terasszal és 3 autó elhelyezésére szolgáló parkoló hellyel rendelkező családi ház várja új lakóit.\\nA földszinten található a terasz kapcsolatos nappali, egy konyha-kamra-étkező trió és a közlekedőről nyílik egy önálló wc, egy fürdőszoba wc-vel és egy gardrób.\\nAz emeleten három hálószoba és egy önálló wc szolgálja a pihenést.\\nAz ingatlan néhány tíz méteres sugarú körén belül található sportközpont uszodával, általános és középiskola, tömegközlekedési kapcsolat. A bevásárló központok (Auchan, Aldi) tömegközlekedéssel 5 perc alatt érhetőek el.\\nCsendes, nyugalmas és biztonságos környék, barátságos szomszédokkal.\\n\\nMinden további kérdésben állok rendelkezésre telefonon és email-en.', 'price': '89,5\\xa0millió Ft'}]\n",
            "🔗 https://www.zenga.hu//ingatlan/elado-csaladi-haz-torokbalint/8624680?page=1&pos=3\n",
            "Süti elfogadva\n",
            "Szöveg: Törökbálint külterületének egyik kedvelt részén, a csendes és zöld Pistályban eladó egy 796 négyzetméteres, örökpanorámás telken fekvő,nettó 86,8 négyzetméteres 2000-es években téglából épült családi ház, 40 négyzetméteres, kétállásos garázzsal. A házban nappali és három hálószoba található, egy konyhával és egy fürdőszobával.\n",
            "Az ingatlan részben felújított, szerkezetileg jó állapotú, a további átalakítás lehetőséget ad arra, hogy új tulajdonosa saját igényei szerint alakítsa. A dél-keleti fekvésű telek gyönyörű panorámát kínál, a környék csendes, tiszta levegőjű, természetközeli. Budapest, Kelenföld és a 4-es metró mindössze 10 perc autóval vagy 20 perc alatt busszal elérhető, így a nyugalom és a város közelsége egyszerre adott. Ritka lehetőség ,kiváló adottságokkal.\n",
            "Megtekintéshez keressen bizalommal a hét minden napján!\n",
            "\n",
            "Az OTP Csoport teljes körű ügyintézéssel áll az eladók és a vevők rendelkezésére! A kínálatunkból választott ingatlan finanszírozásához, kedvezményes hitel- és lízingkonstrukciókat ajánlok. Az adásvételi szerződés megkötéséhez igény szerint megbízható ügyvédi közreműködést biztosítunk. \n",
            "Ár: 49,9 millió Ft \n",
            "[{'url': 'https://www.zenga.hu//ingatlan/elado-csaladi-haz-torokbalint/8624680?page=1&pos=3', 'desc': 'Törökbálint külterületének egyik kedvelt részén, a csendes és zöld Pistályban eladó egy 796 négyzetméteres, örökpanorámás telken fekvő,nettó 86,8 négyzetméteres 2000-es években téglából épült családi ház, 40 négyzetméteres, kétállásos garázzsal. A házban nappali és három hálószoba található, egy konyhával és egy fürdőszobával.\\nAz ingatlan részben felújított, szerkezetileg jó állapotú, a további átalakítás lehetőséget ad arra, hogy új tulajdonosa saját igényei szerint alakítsa. A dél-keleti fekvésű telek gyönyörű panorámát kínál, a környék csendes, tiszta levegőjű, természetközeli. Budapest, Kelenföld és a 4-es metró mindössze 10 perc autóval vagy 20 perc alatt busszal elérhető, így a nyugalom és a város közelsége egyszerre adott. Ritka lehetőség ,kiváló adottságokkal.\\nMegtekintéshez keressen bizalommal a hét minden napján!\\n\\nAz OTP Csoport teljes körű ügyintézéssel áll az eladók és a vevők rendelkezésére! A kínálatunkból választott ingatlan finanszírozásához, kedvezményes hitel- és lízingkonstrukciókat ajánlok. Az adásvételi szerződés megkötéséhez igény szerint megbízható ügyvédi közreműködést biztosítunk.', 'price': '49,9\\xa0millió Ft'}]\n",
            "🔗 https://www.zenga.hu//ingatlan/elado-hazresz-torokbalint/8481940?page=1&pos=4\n",
            "Süti elfogadva\n",
            "Szöveg: Képzeld el, hogy egy csendes, de mégis központi elhelyezkedésű házban élsz!\n",
            "\n",
            "Ezt is kínálja neked ez a\n",
            "2 szobás, egyszintes,\n",
            "alacsony rezsijű,\n",
            "55 m2 saját kiskerttel,\n",
            "kerti tárolóval és\n",
            "garázzsal rendelkező házrész a város központjában.\n",
            "\n",
            "A kert lehetőséget ad arra, hogy pihenj, vagy akár grillezz a barátaiddal, és fontos még, hogy itt kisállatot is tarthatsz.\n",
            "\n",
            "A tömegközlekedés, bevásárlás, ügyintézés , oktatási és egészségügyi intézmények néhány száz méteren belül megtalálhatóak!\n",
            "\n",
            "Mindehhez kellemes szomszédság és a központi elhelyezkedés ellenére csendes környezet társul.\n",
            "\n",
            "Törökbálint felkapott környék, ahol a természet közelsége és a városi élet előnyei egyesülnek.\n",
            "Ez egy értékálló befektetés, akár saját részre, akár befektetésnek, kiadásra.\n",
            "\n",
            "A biztonságos és csendes utcák, valamint a barátságos szomszédok miatt ideális otthon azoknak, akik szeretnék élvezni a városi életet, de a saját kertjükben nyugodtan pihennének.\n",
            "\n",
            "Érdeklődj az Otthon Centrum kedvezményes 6% alatti piaci hiteleiről is nálunk! Kedvező előtörlesztési és akciós költségekkel várunk!\n",
            "Teljes körű jogi tanácsadással és lebonyolítással állunk ügyfeleink rendelkezésére.\n",
            "Csak mutass rá az ingatlanra, a többit intézzük!\n",
            "\n",
            "Minden további kérdésben állok rendelkezésre személyesen, telefonon (a szám sms-t nem fogad) és email-ben! \n",
            "Ár: 52,5 millió Ft \n",
            "[{'url': 'https://www.zenga.hu//ingatlan/elado-hazresz-torokbalint/8481940?page=1&pos=4', 'desc': 'Képzeld el, hogy egy csendes, de mégis központi elhelyezkedésű házban élsz!\\n\\nEzt is kínálja neked ez a\\n2 szobás, egyszintes,\\nalacsony rezsijű,\\n55 m2 saját kiskerttel,\\nkerti tárolóval és\\ngarázzsal rendelkező házrész a város központjában.\\n\\nA kert lehetőséget ad arra, hogy pihenj, vagy akár grillezz a barátaiddal, és fontos még, hogy itt kisállatot is tarthatsz.\\n\\nA tömegközlekedés, bevásárlás, ügyintézés , oktatási és egészségügyi intézmények néhány száz méteren belül megtalálhatóak!\\n\\nMindehhez kellemes szomszédság és a központi elhelyezkedés ellenére csendes környezet társul.\\n\\nTörökbálint felkapott környék, ahol a természet közelsége és a városi élet előnyei egyesülnek.\\nEz egy értékálló befektetés, akár saját részre, akár befektetésnek, kiadásra.\\n\\nA biztonságos és csendes utcák, valamint a barátságos szomszédok miatt ideális otthon azoknak, akik szeretnék élvezni a városi életet, de a saját kertjükben nyugodtan pihennének.\\n\\nÉrdeklődj az Otthon Centrum kedvezményes 6% alatti piaci hiteleiről is nálunk! Kedvező előtörlesztési és akciós költségekkel várunk!\\nTeljes körű jogi tanácsadással és lebonyolítással állunk ügyfeleink rendelkezésére.\\nCsak mutass rá az ingatlanra, a többit intézzük!\\n\\nMinden további kérdésben állok rendelkezésre személyesen, telefonon (a szám sms-t nem fogad) és email-ben!', 'price': '52,5\\xa0millió Ft'}]\n",
            "🔗 https://www.zenga.hu//ingatlan/elado-csaladi-haz-torokbalint/8642644?page=1&pos=5\n",
            "Süti elfogadva\n",
            "Szöveg: KÉTGENERÁCIÓS HÁZ BUDAPEST KÖZELÉBEN\n",
            "\n",
            "Törökbálint Pistály legzöldebb részén, KAMARAERDŐ közvetlen szomszédságában, csendes, madárcsicsergős környezetben kínálok megvételre egy KÉTSZINTES, KÉTGENERÁCIÓS CSALÁDI HÁZAT, amely 50 MILLIÓ FORINT ALATT nyújt lehetőséget otthonteremtésre vagy befektetésre.\n",
            "\n",
            "A 132 m²-ES LAKÓTÉR praktikus elosztású: NAPPALI, 3 HÁLÓSZOBA, 2 KONYHA ÉS 2 FÜRDŐSZOBA került kialakításra, így az ingatlan kiválóan alkalmas összeköltözők vagy kétgenerációs családok számára. A ház két külön bejárattal rendelkezik, ami még több szabadságot és rugalmasságot biztosít a lakhatási formák kialakításához.\n",
            "\n",
            "Az épület egy része a ’70-ES ÉVEKBEN, a másik része a 2000-ES ÉVEK ELEJÉN épült, így részben felújított, részben felújítandó állapotú – kiváló alap lehet egyéni ízlés szerinti modernizáláshoz vagy értéknövelő beruházáshoz.\n",
            "\n",
            "A 796 m²-ES TELEK gondozható méretű, a 40 m²-ES DUPLA GARÁZS és a különálló 4 m²-ES TÁROLÓ pedig a tárolási és parkolási igényeket is bőven kielégíti. A kert tágas, napos, a környezet zöld és nyugodt – ideális hely a mindennapi feltöltődéshez.\n",
            "\n",
            "A közművek közül VILLANY BEVEZETÉSRE KERÜLT, a vízellátás FÚRT KÚTRÓL történik, a SZENNYVÍZKEZELÉS SAJÁT CISZTERNÁVAL megoldott. Gáz- és csatornahálózat jelenleg nem elérhető.\n",
            "\n",
            "Közlekedés szempontjából is praktikus a lokáció: a 288-AS BUSZMEGÁLLÓ körülbelül 10 PERC SÉTÁRA található, így KELENFÖLD tömegközlekedéssel is KÖNNYEDÉN MEGKÖZELÍTHETŐ, autóval pedig mindössze 15 PERC a főváros.\n",
            "\n",
            "KINEK AJÁNLJUK?\n",
            "- KÉTGENERÁCIÓS CSALÁDOKNAK, akik együtt, de mégis külön szeretnének élni\n",
            "- ÖSSZEKÖLTÖZŐKNEK, akik külön bejáratot és önálló konyhát keresnek\n",
            "- BEFEKTETŐKNEK, akik értéket látnak az átalakítási lehetőségekben\n",
            "- TERMÉSZETKEDVELŐKNEK, akik zöldövezetben, madárcsicsergős környezetben képzelik el az otthonukat\n",
            "- AZOKNAK, AKIK 50 MILLIÓ FT ALATT keresnek fejleszthető, tágas ingatlant Budapest közelében\n",
            "\n",
            "Örömmel várom HÍVÁSÁT az ingatlan megtekintése kapcsán akár HÉTVÉGÉN VAGY AZ ESTI órákban is! \n",
            "Ár: 49,9 millió Ft \n",
            "[{'url': 'https://www.zenga.hu//ingatlan/elado-csaladi-haz-torokbalint/8642644?page=1&pos=5', 'desc': 'KÉTGENERÁCIÓS HÁZ BUDAPEST KÖZELÉBEN\\n\\nTörökbálint Pistály legzöldebb részén, KAMARAERDŐ közvetlen szomszédságában, csendes, madárcsicsergős környezetben kínálok megvételre egy KÉTSZINTES, KÉTGENERÁCIÓS CSALÁDI HÁZAT, amely 50 MILLIÓ FORINT ALATT nyújt lehetőséget otthonteremtésre vagy befektetésre.\\n\\nA 132 m²-ES LAKÓTÉR praktikus elosztású: NAPPALI, 3 HÁLÓSZOBA, 2 KONYHA ÉS 2 FÜRDŐSZOBA került kialakításra, így az ingatlan kiválóan alkalmas összeköltözők vagy kétgenerációs családok számára. A ház két külön bejárattal rendelkezik, ami még több szabadságot és rugalmasságot biztosít a lakhatási formák kialakításához.\\n\\nAz épület egy része a ’70-ES ÉVEKBEN, a másik része a 2000-ES ÉVEK ELEJÉN épült, így részben felújított, részben felújítandó állapotú – kiváló alap lehet egyéni ízlés szerinti modernizáláshoz vagy értéknövelő beruházáshoz.\\n\\nA 796 m²-ES TELEK gondozható méretű, a 40 m²-ES DUPLA GARÁZS és a különálló 4 m²-ES TÁROLÓ pedig a tárolási és parkolási igényeket is bőven kielégíti. A kert tágas, napos, a környezet zöld és nyugodt – ideális hely a mindennapi feltöltődéshez.\\n\\nA közművek közül VILLANY BEVEZETÉSRE KERÜLT, a vízellátás FÚRT KÚTRÓL történik, a SZENNYVÍZKEZELÉS SAJÁT CISZTERNÁVAL megoldott. Gáz- és csatornahálózat jelenleg nem elérhető.\\n\\nKözlekedés szempontjából is praktikus a lokáció: a 288-AS BUSZMEGÁLLÓ körülbelül 10 PERC SÉTÁRA található, így KELENFÖLD tömegközlekedéssel is KÖNNYEDÉN MEGKÖZELÍTHETŐ, autóval pedig mindössze 15 PERC a főváros.\\n\\nKINEK AJÁNLJUK?\\n- KÉTGENERÁCIÓS CSALÁDOKNAK, akik együtt, de mégis külön szeretnének élni\\n- ÖSSZEKÖLTÖZŐKNEK, akik külön bejáratot és önálló konyhát keresnek\\n- BEFEKTETŐKNEK, akik értéket látnak az átalakítási lehetőségekben\\n- TERMÉSZETKEDVELŐKNEK, akik zöldövezetben, madárcsicsergős környezetben képzelik el az otthonukat\\n- AZOKNAK, AKIK 50 MILLIÓ FT ALATT keresnek fejleszthető, tágas ingatlant Budapest közelében\\n\\nÖrömmel várom HÍVÁSÁT az ingatlan megtekintése kapcsán akár HÉTVÉGÉN VAGY AZ ESTI órákban is!', 'price': '49,9\\xa0millió Ft'}]\n",
            "🔗 https://www.zenga.hu//ingatlan/elado-csaladi-haz-torokbalint/8506373?page=1&pos=6\n",
            "Süti elfogadva\n",
            "Szöveg: JELENLEG A LEGJOBB AJÁNLAT A PIACON AZ ÁR-ÉRTÉK-ÁLLAPOT-NÉGYZETMÉTERÁR TEKINTETÉBEN TÖRÖKBÁLINTON!\n",
            "\n",
            "Törökbálinton 440m² -es PANORÁMÁS telken 140m² -es két generációs családi ház eladó. 4 SZOBÁS, akár 2 GENERÁCIÓSSSÁ IS KÖNNYEN ALAKÍTHATÓ!\n",
            "4 szoba mellé 2 konyha, 2 fürdő, 2 wc.\n",
            "ELEKTROMOS FŰTÉS, 4 db hűtő-fűtő klíma és 2 db norvég hőpanel felel a megfelelő temperálásért. De 2 db MŰKÖDŐ ÉPÍTETT CSERÉPKÁLYHA is adhat meleget, ha erre vágyunk.\n",
            "Gázra való visszaalakítás is lehetséges, gázcsonk az udvarban.\n",
            "Külön álló 30 m² -es szerelő aknás garázs, ahová ellektromos kapun keresztül juthatunk be.\n",
            "A ház alatt 12m² -es HANGULATOS BOROS PINCE található, az udvaron ÁSOTT KÚT, a gyerekeknek pedig kialakítva egy pici játszótér.\n",
            "A garázzsal egy épületben található egy kis tároló és műhely is.\n",
            ",H \"tarifás villanyóra. 360 V és 3 fázis, 3x16 A.\n",
            "\n",
            "3-5 perces séta távolságra bolt,posta,cukrászda, játszóterek, buszmegálló.\n",
            "\n",
            "BUDAPEST 15 PERC ALATT ELÉRHETŐ BUSSZAL!\n",
            "\n",
            "MINDEN TEHERTŐL MENTES ÉS AZONNAL KÖLTÖZHETŐ! ...TOVÁBBI, TÖBBEZRES INGATLAN KÍNÁLAT: www.gdn-ingatlan.hu - GDN azonosító: 381222 \n",
            "Ár: 99 millió Ft \n",
            "[{'url': 'https://www.zenga.hu//ingatlan/elado-csaladi-haz-torokbalint/8506373?page=1&pos=6', 'desc': 'JELENLEG A LEGJOBB AJÁNLAT A PIACON AZ ÁR-ÉRTÉK-ÁLLAPOT-NÉGYZETMÉTERÁR TEKINTETÉBEN TÖRÖKBÁLINTON!\\n\\nTörökbálinton 440m² -es PANORÁMÁS telken 140m² -es két generációs családi ház eladó. 4 SZOBÁS, akár 2 GENERÁCIÓSSSÁ IS KÖNNYEN ALAKÍTHATÓ!\\n4 szoba mellé 2 konyha, 2 fürdő, 2 wc.\\nELEKTROMOS FŰTÉS, 4 db hűtő-fűtő klíma és 2 db norvég hőpanel felel a megfelelő temperálásért. De 2 db MŰKÖDŐ ÉPÍTETT CSERÉPKÁLYHA is adhat meleget, ha erre vágyunk.\\nGázra való visszaalakítás is lehetséges, gázcsonk az udvarban.\\nKülön álló 30 m² -es szerelő aknás garázs, ahová ellektromos kapun keresztül juthatunk be.\\nA ház alatt 12m² -es HANGULATOS BOROS PINCE található, az udvaron ÁSOTT KÚT, a gyerekeknek pedig kialakítva egy pici játszótér.\\nA garázzsal egy épületben található egy kis tároló és műhely is.\\n,H \"tarifás villanyóra. 360 V és 3 fázis, 3x16 A.\\n\\n3-5 perces séta távolságra bolt,posta,cukrászda, játszóterek, buszmegálló.\\n\\nBUDAPEST 15 PERC ALATT ELÉRHETŐ BUSSZAL!\\n\\nMINDEN TEHERTŐL MENTES ÉS AZONNAL KÖLTÖZHETŐ! ...TOVÁBBI, TÖBBEZRES INGATLAN KÍNÁLAT: www.gdn-ingatlan.hu - GDN azonosító: 381222', 'price': '99\\xa0millió Ft'}]\n",
            "🔗 https://www.zenga.hu//ingatlan/elado-csaladi-haz-torokbalint/8649772?page=1&pos=7\n",
            "Süti elfogadva\n",
            "Szöveg: Törökbálinton a Kamaraerdő szomszédságában eladó családi ház\n",
            "\n",
            "HÁZ:\n",
            "- nettó 80 nm, nappali + 3 szoba\n",
            "- 1970 körül épült ytong + téglából\n",
            "- elektromos fűtés\n",
            "- Villany bojler melegvíz ellátás\n",
            "- remek elosztású , napfényes\n",
            "\n",
            "TELEK:\n",
            "- 760 nm saját telek\n",
            "- Dupla garázs\n",
            "- akár több autó beállási lehetőség\n",
            "- körbekerítve\n",
            "- A közművek közül víz bekötve\n",
            "\n",
            "AZ INGATLAN NEM HITELEZHETŐ\n",
            "Zártkerti besorolású ingatlan, gazdasági épület\n",
            "RÖVID HATÁRIDŐVEL KÖLTÖZHETŐ \n",
            "Ár: 49,9 millió Ft \n",
            "[{'url': 'https://www.zenga.hu//ingatlan/elado-csaladi-haz-torokbalint/8649772?page=1&pos=7', 'desc': 'Törökbálinton a Kamaraerdő szomszédságában eladó családi ház\\n\\nHÁZ:\\n- nettó 80 nm, nappali + 3 szoba\\n- 1970 körül épült ytong + téglából\\n- elektromos fűtés\\n- Villany bojler melegvíz ellátás\\n- remek elosztású , napfényes\\n\\nTELEK:\\n- 760 nm saját telek\\n- Dupla garázs\\n- akár több autó beállási lehetőség\\n- körbekerítve\\n- A közművek közül víz bekötve\\n\\nAZ INGATLAN NEM HITELEZHETŐ\\nZártkerti besorolású ingatlan, gazdasági épület\\nRÖVID HATÁRIDŐVEL KÖLTÖZHETŐ', 'price': '49,9\\xa0millió Ft'}]\n",
            "🔗 https://www.zenga.hu//ingatlan/elado-csaladi-haz-torokbalint-ofalu/8059934?page=1&pos=8\n",
            "Süti elfogadva\n",
            "Szöveg: Törökbálint központjában, eladó egy 1122 nm, építési telek, rajta 127 nm bontandó házzal.\n",
            "A telek ideális ikerház építésére is, viszont osztatlan közös telek, elővásárlási joga van az Önkormányzatnak.\n",
            "\n",
            "Az ár irány ár. ...TOVÁBBI, TÖBBEZRES INGATLAN KÍNÁLAT: www.gdn-ingatlan.hu - GDN azonosító: 362740 \n",
            "Ár: 69,9 millió Ft \n",
            "[{'url': 'https://www.zenga.hu//ingatlan/elado-csaladi-haz-torokbalint-ofalu/8059934?page=1&pos=8', 'desc': 'Törökbálint központjában, eladó egy 1122 nm, építési telek, rajta 127 nm bontandó házzal.\\nA telek ideális ikerház építésére is, viszont osztatlan közös telek, elővásárlási joga van az Önkormányzatnak.\\n\\nAz ár irány ár. ...TOVÁBBI, TÖBBEZRES INGATLAN KÍNÁLAT: www.gdn-ingatlan.hu - GDN azonosító: 362740', 'price': '69,9\\xa0millió Ft'}]\n",
            "🔗 https://www.zenga.hu//ingatlan/elado-csaladi-haz-torokbalint-ofalu/8291269?page=1&pos=9\n",
            "Süti elfogadva\n",
            "Szöveg: Törökbálinton 638 nm-es telken, eladó kétgenerációs, 4 szobás, szépen karban tartott, polgári családi ház garázzsal és borospincével.\n",
            "\n",
            "Központi fekvés, jó közlekedés, kényelem több generáció számára is.\n",
            "\n",
            "Az ingatlan egy három szobás és egy különálló kisebb lakrészből áll.\n",
            "\n",
            "A nagyobbik lakrész helyiségei:\n",
            "két magasföldszinti szoba és egy a földszintről külön bejárattal rendelkező, de belső lépcsőn is megközelíthető harmadik szoba, konyha, két fürdőszoba, közlekedő, tároló.\n",
            "A boltíves, száraz borospince a ház alsó szintjéről közelíthető meg.\n",
            "\n",
            "A kisebbik, különálló lakrész egy csendes, világos épület: egy szoba + étkező konyhával és fürdőszobából áll.\n",
            "\n",
            "Az épületnek vastag, sóskúti tégla falazata van, amely utólagos hőszigetelést nem igényel.\n",
            "A fűtés gáz-cirkó és vegyes tüzelésű okkal történik.\n",
            "\n",
            "Az ingatlan a központi elhelyezkedés, a több generációs elosztás és a három külön bejárata miatt bármilyen családi vállalkozás céljára alkalmas.\n",
            "\n",
            "Amennyiben hitelre van szüksége a vásárláshoz, segítünk Önnek megtalálni a legjobb megoldást a legalacsonyabb kamatokkal és egyedi kedvezmény lehetőségekkel. Kérje Hitelcentrumunk ingyenes tájékoztatását! ...TOVÁBBI, TÖBBEZRES INGATLAN KÍNÁLAT: www.gdn-ingatlan.hu - GDN azonosító: 375148 \n",
            "Ár: 89 millió Ft \n",
            "[{'url': 'https://www.zenga.hu//ingatlan/elado-csaladi-haz-torokbalint-ofalu/8291269?page=1&pos=9', 'desc': 'Törökbálinton 638 nm-es telken, eladó kétgenerációs, 4 szobás, szépen karban tartott, polgári családi ház garázzsal és borospincével.\\n\\nKözponti fekvés, jó közlekedés, kényelem több generáció számára is.\\n\\nAz ingatlan egy három szobás és egy különálló kisebb lakrészből áll.\\n\\nA nagyobbik lakrész helyiségei:\\nkét magasföldszinti szoba és egy a földszintről külön bejárattal rendelkező, de belső lépcsőn is megközelíthető harmadik szoba, konyha, két fürdőszoba, közlekedő, tároló.\\nA boltíves, száraz borospince a ház alsó szintjéről közelíthető meg.\\n\\nA kisebbik, különálló lakrész egy csendes, világos épület: egy szoba + étkező konyhával és fürdőszobából áll.\\n\\nAz épületnek vastag, sóskúti tégla falazata van, amely utólagos hőszigetelést nem igényel.\\nA fűtés gáz-cirkó és vegyes tüzelésű okkal történik.\\n\\nAz ingatlan a központi elhelyezkedés, a több generációs elosztás és a három külön bejárata miatt bármilyen családi vállalkozás céljára alkalmas.\\n\\nAmennyiben hitelre van szüksége a vásárláshoz, segítünk Önnek megtalálni a legjobb megoldást a legalacsonyabb kamatokkal és egyedi kedvezmény lehetőségekkel. Kérje Hitelcentrumunk ingyenes tájékoztatását! ...TOVÁBBI, TÖBBEZRES INGATLAN KÍNÁLAT: www.gdn-ingatlan.hu - GDN azonosító: 375148', 'price': '89\\xa0millió Ft'}]\n",
            "🔗 https://www.zenga.hu//ingatlan/elado-csaladi-haz-torokbalint/8629521?page=1&pos=10\n",
            "Süti elfogadva\n",
            "Szöveg: Törökbálint - Pismány részén, Virágneves utcában lévő 796 m2-es telken épült, 132 négyzetméteres családi ház, egy különálló 40 m2 alapterületű garázzsal együtt eladó.\n",
            "\n",
            "A lakóházban 1 nappali, 3 hálószoba, két konyha és két fürdőszoba+WC helyezkedik el. Az ingatlan részben fel lett újítva, a további esetleges átalakítás, az új Tulajdonos kompetenciája.\n",
            "\n",
            "Az enyhén lejtős kertben termő gyümölcsfák vannak, valamint konyhakerti rész is ki lett alakítva.\n",
            "Az ingatlan Törökbálint külterületén található, családiházas zöld környezetben, ahol az első &quot;telepesek&quot; a kiskert tulajdonosok voltak, mára azonban a családi házak megjelenése formálja a környezetet.\n",
            "\n",
            "A közlekedés aszfaltozott úton történik, a helyi buszjárat megállója a bejárat közelében van. Az orvosi ellátás, bevásárlási lehetőség és az iskola elérhető távolságban közelíthető meg.\n",
            "\n",
            "Értékesítési irányára 49.9 Millió Forint, érdeklődni a megadott telefonszámon lehet. \n",
            "Ár: 49,9 millió Ft \n",
            "[{'url': 'https://www.zenga.hu//ingatlan/elado-csaladi-haz-torokbalint/8629521?page=1&pos=10', 'desc': 'Törökbálint - Pismány részén, Virágneves utcában lévő 796 m2-es telken épült, 132 négyzetméteres családi ház, egy különálló 40 m2 alapterületű garázzsal együtt eladó.\\n\\nA lakóházban 1 nappali, 3 hálószoba, két konyha és két fürdőszoba+WC helyezkedik el. Az ingatlan részben fel lett újítva, a további esetleges átalakítás, az új Tulajdonos kompetenciája.\\n\\nAz enyhén lejtős kertben termő gyümölcsfák vannak, valamint konyhakerti rész is ki lett alakítva.\\nAz ingatlan Törökbálint külterületén található, családiházas zöld környezetben, ahol az első &quot;telepesek&quot; a kiskert tulajdonosok voltak, mára azonban a családi házak megjelenése formálja a környezetet.\\n\\nA közlekedés aszfaltozott úton történik, a helyi buszjárat megállója a bejárat közelében van. Az orvosi ellátás, bevásárlási lehetőség és az iskola elérhető távolságban közelíthető meg.\\n\\nÉrtékesítési irányára 49.9 Millió Forint, érdeklődni a megadott telefonszámon lehet.', 'price': '49,9\\xa0millió Ft'}]\n",
            "🔗 https://www.zenga.hu//ingatlan/elado-hazresz-torokbalint/8520058?page=1&pos=11\n",
            "Süti elfogadva\n",
            "Szöveg: TÖRÖKBÁLINT népszerű környék!\n",
            "AZ ANNA-HEGYI PARKERDŐ szomszédságában, eladó egy FELÚJÍTOTT lakás 3 EGYSÉGES INGATLANBAN!\n",
            "Látnivalók:\n",
            "-Majláth kastély\n",
            "-manóösvény/meseerdő\n",
            "-hérics tanösvény\n",
            "\n",
            "67 nm alapterület, nappali + 2 hálószobás ingatlan a zárt udvarban gépkocsi számára beállási lehetőség biztosított!\n",
            "\n",
            "Az ingatlan teljes körű felújítása most készült el!\n",
            "Az épületgépészet (víz- és villanyvezeték), a világítástechnika, a szaniterek, új burkolatok, új nyílászárók, valamint új bejárati ajtó is beépítésre került. modern, igényes kivitelezés, korszerű építési anyagok használata, minőségi burkolatok, a mai kor igényeinek megfelelően.\n",
            "A szobák parkettával, a vizes helyiségek kerámia járólappal burkoltak. Az ingatlan fűtése modern, energiatakarékos HŰTŐ-FŰTŐ KLÍMA és elektromos rendszerű infra panel a legmagasabb fokú kényelmet és hatékonyságot biztosítja\n",
            "Az ingatlan fűtése modern, energiatakarékos hűtő-fűtő klíma és elektromos rendszerű infra-panel a legmagasabb fokú kényelmet és hatékonyságot biztosítja otthonában.\n",
            "\n",
            "Kiváló infrastruktúra, kitűnő tömegközlekedés, közelben iskola, játszótér, bank, rendelő, bevásárlási lehetőség, a kistermelői piac, az m7 és m0 körgyűrű – minden megtalálható. Közelben buszmegálló (140, 172, 272, éjszakai járat) így a főváros bármely pontja könnyen, gyorsan elérhető.\n",
            "\n",
            "Hívjon! Hívásást akár hétvégén is fogadom!\n",
            "Irodánk teljes körű ügyintézéssel várja, a vásárlástól a hitel felvételig.\n",
            "\n",
            "HA EGYBEN SZERETNE EGY SOKFÉLE HASZNOSÍTÁSRA alkalmas ingatlant vásárolni: Összesen 187 nm alapterület, 6 szobás, DUPLAKOMFORTOS, 2 KONYHA+ÉTKEZŐS ingatlan. PADLÁSTÉR és 20 nm-es PINCE is tartozik hozzá. A zárt udvarban 3 gépkocsi számára beállási lehetőség biztosított.\n",
            "\n",
            "Az ingatlan irányára : 158 Millió Ft. \n",
            "Ár: 59 millió Ft \n",
            "[{'url': 'https://www.zenga.hu//ingatlan/elado-hazresz-torokbalint/8520058?page=1&pos=11', 'desc': 'TÖRÖKBÁLINT népszerű környék!\\nAZ ANNA-HEGYI PARKERDŐ szomszédságában, eladó egy FELÚJÍTOTT lakás 3 EGYSÉGES INGATLANBAN!\\nLátnivalók:\\n-Majláth kastély\\n-manóösvény/meseerdő\\n-hérics tanösvény\\n\\n67 nm alapterület, nappali + 2 hálószobás ingatlan a zárt udvarban gépkocsi számára beállási lehetőség biztosított!\\n\\nAz ingatlan teljes körű felújítása most készült el!\\nAz épületgépészet (víz- és villanyvezeték), a világítástechnika, a szaniterek, új burkolatok, új nyílászárók, valamint új bejárati ajtó is beépítésre került. modern, igényes kivitelezés, korszerű építési anyagok használata, minőségi burkolatok, a mai kor igényeinek megfelelően.\\nA szobák parkettával, a vizes helyiségek kerámia járólappal burkoltak. Az ingatlan fűtése modern, energiatakarékos HŰTŐ-FŰTŐ KLÍMA és elektromos rendszerű infra panel a legmagasabb fokú kényelmet és hatékonyságot biztosítja\\nAz ingatlan fűtése modern, energiatakarékos hűtő-fűtő klíma és elektromos rendszerű infra-panel a legmagasabb fokú kényelmet és hatékonyságot biztosítja otthonában.\\n\\nKiváló infrastruktúra, kitűnő tömegközlekedés, közelben iskola, játszótér, bank, rendelő, bevásárlási lehetőség, a kistermelői piac, az m7 és m0 körgyűrű – minden megtalálható. Közelben buszmegálló (140, 172, 272, éjszakai járat) így a főváros bármely pontja könnyen, gyorsan elérhető.\\n\\nHívjon! Hívásást akár hétvégén is fogadom!\\nIrodánk teljes körű ügyintézéssel várja, a vásárlástól a hitel felvételig.\\n\\nHA EGYBEN SZERETNE EGY SOKFÉLE HASZNOSÍTÁSRA alkalmas ingatlant vásárolni: Összesen 187 nm alapterület, 6 szobás, DUPLAKOMFORTOS, 2 KONYHA+ÉTKEZŐS ingatlan. PADLÁSTÉR és 20 nm-es PINCE is tartozik hozzá. A zárt udvarban 3 gépkocsi számára beállási lehetőség biztosított.\\n\\nAz ingatlan irányára : 158 Millió Ft.', 'price': '59\\xa0millió Ft'}]\n",
            "🔗 https://www.zenga.hu//ingatlan/elado-csaladi-haz-torokbalint-annahegy/8644752?page=1&pos=12\n",
            "Süti elfogadva\n",
            "Szöveg: ‼️ KIVÉTELES LEHETŐSÉG TÖRÖKBÁLINTON – ÖNÁLLÓ HÁZ, BŐVÍTÉSI ENGEDÉLLYEL, AZONNAL KÖLTÖZHETŐ ÁLLAPOTBAN!\n",
            "Annahegy, természetvédelmi terület mellett, tulajdonostól eladó!\n",
            "\n",
            "Főbb adatok:\n",
            "• Hasznos alapterület: 48 m²\n",
            "• Bővíthető +44 m²-rel (érvényes építési engedéllyel)\n",
            "• Telek: 791 m²\n",
            "• Fűtés: kondenzációs gázkazán + extra opció kályha\n",
            "• Közművek: víz, gáz, csatorna, villany\n",
            "• Internet: elérhető\n",
            "• Riasztórendszer: van\n",
            "• Parkolás: 3 autó beállása lehetséges, 2 kapun keresztül is megközelíthető\n",
            "\n",
            "2018-as teljes felújítás:\n",
            "• gépészet, tető, nyílászárók, szigetelés (15 cm dryvit)\n",
            "• 3 rétegű üvegezés + redőny + szúnyogháló\n",
            "• Tetőtér szigetelt, nyáron is kellemes klíma\n",
            "• Száraz pince (13,5 m²) – itt található a gázkazán is\n",
            "\n",
            "Elosztás:\n",
            "• Földszint: nappali, IKEA konyha (elektromos főzőlap), zuhanyzós fürdő + WC\n",
            "• Tetőtér: 1 hálószoba + 1 szoba\n",
            "• Pince: tároló + gépészet\n",
            "• Terasz: panorámás kilátással Diósdra és Érdre\n",
            "\n",
            "Kert:\n",
            "Ősfás környezet, új kerti csap, kő grillező, felújított kerti pad, téglatároló.\n",
            "\n",
            "Bővítés lehetősége:\n",
            "+44 m²-re van érvényes engedély és komplett dokumentáció, amit az új tulajdonosnak átadok.\n",
            "\n",
            "Infrastruktúra:\n",
            "Bolt, játszótér, buszmegálló 5–10 perc sétára\n",
            "M0/M1/M7 autópálya pár perc alatt elérhető\n",
            "\n",
            "Az ingatlan per- és tehermentes, magánszemélytől eladó!\n",
            "Ideális fiataloknak, időseknek, vagy befektetésnek hosszú távra!\n",
            "\n",
            "További fotókat és dokumentációt privát üzenetben küldök komoly érdeklődőknek! \n",
            "Ár: 91,9 millió Ft \n",
            "[{'url': 'https://www.zenga.hu//ingatlan/elado-csaladi-haz-torokbalint-annahegy/8644752?page=1&pos=12', 'desc': '‼️ KIVÉTELES LEHETŐSÉG TÖRÖKBÁLINTON – ÖNÁLLÓ HÁZ, BŐVÍTÉSI ENGEDÉLLYEL, AZONNAL KÖLTÖZHETŐ ÁLLAPOTBAN!\\nAnnahegy, természetvédelmi terület mellett, tulajdonostól eladó!\\n\\nFőbb adatok:\\n• Hasznos alapterület: 48 m²\\n• Bővíthető +44 m²-rel (érvényes építési engedéllyel)\\n• Telek: 791 m²\\n• Fűtés: kondenzációs gázkazán + extra opció kályha\\n• Közművek: víz, gáz, csatorna, villany\\n• Internet: elérhető\\n• Riasztórendszer: van\\n• Parkolás: 3 autó beállása lehetséges, 2 kapun keresztül is megközelíthető\\n\\n2018-as teljes felújítás:\\n• gépészet, tető, nyílászárók, szigetelés (15\\u202fcm dryvit)\\n• 3 rétegű üvegezés + redőny + szúnyogháló\\n• Tetőtér szigetelt, nyáron is kellemes klíma\\n• Száraz pince (13,5 m²) – itt található a gázkazán is\\n\\nElosztás:\\n• Földszint: nappali, IKEA konyha (elektromos főzőlap), zuhanyzós fürdő + WC\\n• Tetőtér: 1 hálószoba + 1 szoba\\n• Pince: tároló + gépészet\\n• Terasz: panorámás kilátással Diósdra és Érdre\\n\\nKert:\\nŐsfás környezet, új kerti csap, kő grillező, felújított kerti pad, téglatároló.\\n\\nBővítés lehetősége:\\n+44 m²-re van érvényes engedély és komplett dokumentáció, amit az új tulajdonosnak átadok.\\n\\nInfrastruktúra:\\nBolt, játszótér, buszmegálló 5–10 perc sétára\\nM0/M1/M7 autópálya pár perc alatt elérhető\\n\\nAz ingatlan per- és tehermentes, magánszemélytől eladó!\\nIdeális fiataloknak, időseknek, vagy befektetésnek hosszú távra!\\n\\nTovábbi fotókat és dokumentációt privát üzenetben küldök komoly érdeklődőknek!', 'price': '91,9\\xa0millió Ft'}]\n",
            "🔗 https://www.zenga.hu//ingatlan/elado-sorhaz-torokbalint/8520060?page=1&pos=13\n",
            "Süti elfogadva\n",
            "Szöveg: Törökbálint egyik legnépszerűbb környékén eladó egy felújított 37 nm-es lakás vagy iroda ingatlan.\n",
            "Közel a természetvédelmi területhez, a 140-es busz vonalán, 3 lakásos udvarban.\n",
            "\n",
            "Ez az ingatlan 37 m2 alapterületű és teljes körűen felújított lakás. Az ingatlan ablakai a belső udvarra néznek. Sokféle hasznosításra alkalmas, iroda vagy üzlethelyiség kialakítására is van lehetőség.\n",
            "\n",
            "A lakás irányára : 40,9 millió Ft.\n",
            "\n",
            "A kitűnő adottságokkal rendelkező, összkomfortos ingatlan, jó beosztású, csendes, világos, é-k-i tájolású. A vizes helyiség kerámia járólappal burkolt, a többi helyiségben laminált padló található. A zuhanyzós fürdő és a wc egy helyiségben lett kialakítva.\n",
            "Az épületgépészet (víz- és villanyvezeték), a világítástechnika, a szaniterek, új burkolatok, új nyílászárók, valamint új bejárati ajtó is beépítésre került. Modern, igényes kivitelezés, korszerű építési anyagok használata, minőségi burkolatok, a mai kor igényeinek megfelelően.\n",
            "\n",
            "Az ingatlan fűtése modern, energiatakarékos hűtő-fűtő klíma és elektromos rendszerű infra-panel a legmagasabb fokú kényelmet és hatékonyságot biztosítja otthonában.\n",
            "\n",
            "Kiváló infrastruktúra, kitűnő tömegközlekedés, közelben iskola, játszótér, bank, rendelő, bevásárlási lehetőség, a kistermelői piac, az m7 és m0 körgyűrű – minden megtalálható. Közelben buszmegálló (140, 172, 272, éjszakai járat) így a főváros bármely pontja könnyen, gyorsan elérhető.\n",
            "Hívjon! Hívásást akár hétvégén is fogadom!\n",
            "Irodánk teljes körű ügyintézéssel várja, a vásárlástól a hitel felvételig.\n",
            "\n",
            "HA EGYBEN SZERETNE EGY SOKFÉLE HASZNOSÍTÁSRA alkalmas ingatlant vásárolni: Összesen 187 nm alapterület, 6 szobás, DUPLAKOMFORTOS, 2 KONYHA+ÉTKEZŐS ingatlan. PADLÁSTÉR és 20 nm-es PINCE is tartozik hozzá. A zárt udvarban 3 gépkocsi számára beállási lehetőség biztosított.\n",
            "\n",
            "Az ingatlan irányára : 158 Millió Ft. \n",
            "Ár: 40,9 millió Ft \n",
            "[{'url': 'https://www.zenga.hu//ingatlan/elado-sorhaz-torokbalint/8520060?page=1&pos=13', 'desc': 'Törökbálint egyik legnépszerűbb környékén eladó egy felújított 37 nm-es lakás vagy iroda ingatlan.\\nKözel a természetvédelmi területhez, a 140-es busz vonalán, 3 lakásos udvarban.\\n\\nEz az ingatlan 37 m2 alapterületű és teljes körűen felújított lakás. Az ingatlan ablakai a belső udvarra néznek. Sokféle hasznosításra alkalmas, iroda vagy üzlethelyiség kialakítására is van lehetőség.\\n\\nA lakás irányára : 40,9 millió Ft.\\n\\nA kitűnő adottságokkal rendelkező, összkomfortos ingatlan, jó beosztású, csendes, világos, é-k-i tájolású. A vizes helyiség kerámia járólappal burkolt, a többi helyiségben laminált padló található. A zuhanyzós fürdő és a wc egy helyiségben lett kialakítva.\\nAz épületgépészet (víz- és villanyvezeték), a világítástechnika, a szaniterek, új burkolatok, új nyílászárók, valamint új bejárati ajtó is beépítésre került. Modern, igényes kivitelezés, korszerű építési anyagok használata, minőségi burkolatok, a mai kor igényeinek megfelelően.\\n\\nAz ingatlan fűtése modern, energiatakarékos hűtő-fűtő klíma és elektromos rendszerű infra-panel a legmagasabb fokú kényelmet és hatékonyságot biztosítja otthonában.\\n\\nKiváló infrastruktúra, kitűnő tömegközlekedés, közelben iskola, játszótér, bank, rendelő, bevásárlási lehetőség, a kistermelői piac, az m7 és m0 körgyűrű – minden megtalálható. Közelben buszmegálló (140, 172, 272, éjszakai járat) így a főváros bármely pontja könnyen, gyorsan elérhető.\\nHívjon! Hívásást akár hétvégén is fogadom!\\nIrodánk teljes körű ügyintézéssel várja, a vásárlástól a hitel felvételig.\\n\\nHA EGYBEN SZERETNE EGY SOKFÉLE HASZNOSÍTÁSRA alkalmas ingatlant vásárolni: Összesen 187 nm alapterület, 6 szobás, DUPLAKOMFORTOS, 2 KONYHA+ÉTKEZŐS ingatlan. PADLÁSTÉR és 20 nm-es PINCE is tartozik hozzá. A zárt udvarban 3 gépkocsi számára beállási lehetőség biztosított.\\n\\nAz ingatlan irányára : 158 Millió Ft.', 'price': '40,9\\xa0millió Ft'}]\n",
            "🔗 https://www.zenga.hu//ingatlan/elado-csaladi-haz-torokbalint/8436279?page=1&pos=14\n",
            "Süti elfogadva\n",
            "Szöveg: ERDŐSZÉLI HÁZ\n",
            "Törökbálint csendes, erődhöz közeli részén kétszintes N+ 3,5 szobás 100 nm-es családi ház 95 M Ft-ért eladó.\n",
            "A tégla falú épület falai szigeteltek, nyílászáróinak túlnyomó része ki van cserélve, a melegvizet gázcirkó biztosítja. A fenti fürdőszoba 2020-ban került felújításra, a tető pedig 2021-ben került cserére.\n",
            "A szintenként 50-50 nm-es ház elrendezése így fest:\n",
            "\n",
            "FÖLDSZINT\n",
            "Nappali, wc, fürdőszoba, étkezős konyha, lépcső alatti tároló, kamra és a pince van ezen a szinten.\n",
            "\n",
            "EMELET\n",
            "Az emeleten 3 szoba, kádas fürdőszoba, és egy tároló. Innen nyílik kijárat a teraszra.\n",
            "\n",
            "TERASZ\n",
            "Ez a terasz óriási! A ház mögött, teljesen elzártan található. Intimitása már-már zavarba ejtő. Különösen az a klassz benne, hogy a terasz a csodás erdőre néz, az erdő a terasz folytatása. Sajnos a képek februárban készültek, és korántsem adják vissza a nyári, zöld hangulatot.\n",
            "\n",
            "KERT\n",
            "Kiskert veszi körbe a házat. Az előkert eltávolít az utcától, az oldalkertben pedig lehetőség nyílik a társasági életre vagy kis kertészkedésre.\n",
            "\n",
            "PARKOLÁS\n",
            "A ház kertjében fedett felszíni beálló van kialakítva. A vendégek az utcán is mindig találnak majd parkolóhelyet.\n",
            "\n",
            "LOKÁCIÓ\n",
            "Bp-es közel, kitűnő közlekedés, ugyanakkor nyugodt, forgalommentes zsákutca, amelynek a végén az erdő vár.\n",
            "Buszmegálló, élelmiszerüzlet, gyógyszertár, pékség gyalog néhány perc.\n",
            "\n",
            "Bővebb információért várom hívását.\n",
            " \n",
            "Ár: 95 millió Ft \n",
            "[{'url': 'https://www.zenga.hu//ingatlan/elado-csaladi-haz-torokbalint/8436279?page=1&pos=14', 'desc': 'ERDŐSZÉLI HÁZ\\nTörökbálint csendes, erődhöz közeli részén kétszintes N+ 3,5 szobás 100 nm-es családi ház 95 M Ft-ért eladó.\\nA tégla falú épület falai szigeteltek, nyílászáróinak túlnyomó része ki van cserélve, a melegvizet gázcirkó biztosítja. A fenti fürdőszoba 2020-ban került felújításra, a tető pedig 2021-ben került cserére.\\nA szintenként 50-50 nm-es ház elrendezése így fest:\\n\\nFÖLDSZINT\\nNappali, wc, fürdőszoba, étkezős konyha, lépcső alatti tároló, kamra és a pince van ezen a szinten.\\n\\nEMELET\\nAz emeleten 3 szoba, kádas fürdőszoba, és egy tároló. Innen nyílik kijárat a teraszra.\\n\\nTERASZ\\nEz a terasz óriási! A ház mögött, teljesen elzártan található. Intimitása már-már zavarba ejtő. Különösen az a klassz benne, hogy a terasz a csodás erdőre néz, az erdő a terasz folytatása. Sajnos a képek februárban készültek, és korántsem adják vissza a nyári, zöld hangulatot.\\n\\nKERT\\nKiskert veszi körbe a házat. Az előkert eltávolít az utcától, az oldalkertben pedig lehetőség nyílik a társasági életre vagy kis kertészkedésre.\\n\\nPARKOLÁS\\nA ház kertjében fedett felszíni beálló van kialakítva. A vendégek az utcán is mindig találnak majd parkolóhelyet.\\n\\nLOKÁCIÓ\\nBp-es közel, kitűnő közlekedés, ugyanakkor nyugodt, forgalommentes zsákutca, amelynek a végén az erdő vár.\\nBuszmegálló, élelmiszerüzlet, gyógyszertár, pékség gyalog néhány perc.\\n\\nBővebb információért várom hívását.\\n', 'price': '95\\xa0millió Ft'}]\n",
            "🔗 https://www.zenga.hu//ingatlan/elado-csaladi-haz-torokbalint/8626097?page=1&pos=15\n",
            "Süti elfogadva\n",
            "Szöveg: Törökbálint külterületének egyik kedvelt részén, a csendes és zöld Pistályban eladó egy 796 négyzetméteres, örökpanorámás telken fekvő,nettó 86,8 négyzetméteres 2000-es években téglából épült családi ház, 40 négyzetméteres, kétállásos garázzsal. A házban nappali és három hálószoba található, egy konyhával és egy fürdőszobával.\n",
            "Az ingatlan részben felújított, szerkezetileg jó állapotú, a további átalakítás lehetőséget ad arra, hogy új tulajdonosa saját igényei szerint alakítsa. A dél-keleti fekvésű telek gyönyörű panorámát kínál, a környék csendes, tiszta levegőjű, természetközeli. Budapest, Kelenföld és a 4-es metró mindössze 10 perc autóval vagy 20 perc alatt busszal elérhető, így a nyugalom és a város közelsége egyszerre adott. Ritka lehetőség ,kiváló adottságokkal.\n",
            "Megtekintéshez keressen bizalommal a hét minden napján!\n",
            "\n",
            "Az OTP Csoport teljes körű ügyintézéssel áll az eladók és a vevők rendelkezésére! A kínálatunkból választott ingatlan finanszírozásához, kedvezményes hitel- és lízingkonstrukciókat ajánlok. Az adásvételi szerződés megkötéséhez igény szerint megbízható ügyvédi közreműködést biztosítunk.\n",
            "\n",
            "Referencia szám: M307373 \n",
            "Ár: 49,9 millió Ft \n",
            "[{'url': 'https://www.zenga.hu//ingatlan/elado-csaladi-haz-torokbalint/8626097?page=1&pos=15', 'desc': 'Törökbálint külterületének egyik kedvelt részén, a csendes és zöld Pistályban eladó egy 796 négyzetméteres, örökpanorámás telken fekvő,nettó 86,8 négyzetméteres 2000-es években téglából épült családi ház, 40 négyzetméteres, kétállásos garázzsal. A házban nappali és három hálószoba található, egy konyhával és egy fürdőszobával.\\nAz ingatlan részben felújított, szerkezetileg jó állapotú, a további átalakítás lehetőséget ad arra, hogy új tulajdonosa saját igényei szerint alakítsa. A dél-keleti fekvésű telek gyönyörű panorámát kínál, a környék csendes, tiszta levegőjű, természetközeli. Budapest, Kelenföld és a 4-es metró mindössze 10 perc autóval vagy 20 perc alatt busszal elérhető, így a nyugalom és a város közelsége egyszerre adott. Ritka lehetőség ,kiváló adottságokkal.\\nMegtekintéshez keressen bizalommal a hét minden napján!\\n\\nAz OTP Csoport teljes körű ügyintézéssel áll az eladók és a vevők rendelkezésére! A kínálatunkból választott ingatlan finanszírozásához, kedvezményes hitel- és lízingkonstrukciókat ajánlok. Az adásvételi szerződés megkötéséhez igény szerint megbízható ügyvédi közreműködést biztosítunk.\\n\\nReferencia szám: M307373', 'price': '49,9\\xa0millió Ft'}]\n",
            "🔗 https://www.zenga.hu//ingatlan/elado-sorhaz-torokbalint-ofalu/8389405?page=1&pos=16\n",
            "Süti elfogadva\n",
            "Szöveg: Eladó Törökbálint központjában egy világos, nyugodt környezetben lévő saját kerttel és egy nagyméretű, tetőtér beépítéses garázzsal rendelkező házrész.\n",
            "A telken 3 lakás osztozik, mind saját kerttel rendelkezik (a kerteken nincs átjárás)\n",
            "A lakást az évek alatt folyamatosan újították, így sorra került a cirkó fűtés, új nyílászárók, szigetelés, villanyhálózat, új fürdőszoba került kialakításra, a szobákba laminált parketta lett letéve (de megmaradt alatta a régi jó állapotú fa parketta is).\n",
            "A házba a kerten át a teraszon keresztül lehet bejutni, a két szoba külön bejáratú a nagyméretű konyhában kényelmesen elfér egy tágas étkező is.\n",
            "A folyosón helyet kapott még egy kis dolgozó sarok is ami oda lett tervezve, így igény esetén maradhat is.\n",
            "Tetőtér beépíthető.\n",
            "\n",
            "Rövid határidővel költözhető!\n",
            "\n",
            "\n",
            "Kérdés esetén hívjon bizalommal! \n",
            "Ár: 54,9 millió Ft \n",
            "[{'url': 'https://www.zenga.hu//ingatlan/elado-sorhaz-torokbalint-ofalu/8389405?page=1&pos=16', 'desc': 'Eladó Törökbálint központjában egy világos, nyugodt környezetben lévő saját kerttel és egy nagyméretű, tetőtér beépítéses garázzsal rendelkező házrész.\\nA telken 3 lakás osztozik, mind saját kerttel rendelkezik (a kerteken nincs átjárás)\\nA lakást az évek alatt folyamatosan újították, így sorra került a cirkó fűtés, új nyílászárók, szigetelés, villanyhálózat, új fürdőszoba került kialakításra, a szobákba laminált parketta lett letéve (de megmaradt alatta a régi jó állapotú fa parketta is).\\nA házba a kerten át a teraszon keresztül lehet bejutni, a két szoba külön bejáratú a nagyméretű konyhában kényelmesen elfér egy tágas étkező is.\\nA folyosón helyet kapott még egy kis dolgozó sarok is ami oda lett tervezve, így igény esetén maradhat is.\\nTetőtér beépíthető.\\n\\nRövid határidővel költözhető!\\n\\n\\nKérdés esetén hívjon bizalommal!', 'price': '54,9\\xa0millió Ft'}]\n",
            "🔗 https://www.zenga.hu//ingatlan/elado-csaladi-haz-torokbalint/8623618?page=1&pos=17\n",
            "Süti elfogadva\n",
            "Szöveg: Törökbálint külterületének egyik kedvelt részén, a csendes és zöld Pistályban eladó egy 796 négyzetméteres, örökpanorámás telken fekvő,nettó 86,8 négyzetméteres 2000-es években téglából épült családi ház, 40 négyzetméteres, kétállásos garázzsal. A házban nappali és három hálószoba található, egy konyhával és egy fürdőszobával.\n",
            "Az ingatlan részben felújított, szerkezetileg jó állapotú, a további átalakítás lehetőséget ad arra, hogy új tulajdonosa saját igényei szerint alakítsa. A dél-keleti fekvésű telek gyönyörű panorámát kínál, a környék csendes, tiszta levegőjű, természetközeli. Budapest, Kelenföld és a 4-es metró mindössze 10 perc autóval vagy 20 perc alatt busszal elérhető, így a nyugalom és a város közelsége egyszerre adott. Ritka lehetőség ,kiváló adottságokkal.\n",
            "Az ingatlan jelenlegi besorolása miatt most rendkívül kedvező áron elérhető, ugyanakkor ez azt is jelenti, hogy csak készpénzes vevők jelentkezését várjuk.\n",
            "\n",
            "Megtekintéshez keressen bizalommal a hét minden napján!\n",
            "\n",
            "Az OTP Csoport teljes körű ügyintézéssel áll az eladók és a vevők rendelkezésére! A kínálatunkból választott ingatlan finanszírozásához, kedvezményes hitel- és lízingkonstrukciókat ajánlok. Az adásvételi szerződés megkötéséhez igény szerint megbízható ügyvédi közreműködést biztosítunk. \n",
            "Ár: 49,9 millió Ft \n",
            "[{'url': 'https://www.zenga.hu//ingatlan/elado-csaladi-haz-torokbalint/8623618?page=1&pos=17', 'desc': 'Törökbálint külterületének egyik kedvelt részén, a csendes és zöld Pistályban eladó egy 796 négyzetméteres, örökpanorámás telken fekvő,nettó 86,8 négyzetméteres 2000-es években téglából épült családi ház, 40 négyzetméteres, kétállásos garázzsal. A házban nappali és három hálószoba található, egy konyhával és egy fürdőszobával.\\nAz ingatlan részben felújított, szerkezetileg jó állapotú, a további átalakítás lehetőséget ad arra, hogy új tulajdonosa saját igényei szerint alakítsa. A dél-keleti fekvésű telek gyönyörű panorámát kínál, a környék csendes, tiszta levegőjű, természetközeli. Budapest, Kelenföld és a 4-es metró mindössze 10 perc autóval vagy 20 perc alatt busszal elérhető, így a nyugalom és a város közelsége egyszerre adott. Ritka lehetőség ,kiváló adottságokkal.\\nAz ingatlan jelenlegi besorolása miatt most rendkívül kedvező áron elérhető, ugyanakkor ez azt is jelenti, hogy csak készpénzes vevők jelentkezését várjuk.\\n\\nMegtekintéshez keressen bizalommal a hét minden napján!\\n\\nAz OTP Csoport teljes körű ügyintézéssel áll az eladók és a vevők rendelkezésére! A kínálatunkból választott ingatlan finanszírozásához, kedvezményes hitel- és lízingkonstrukciókat ajánlok. Az adásvételi szerződés megkötéséhez igény szerint megbízható ügyvédi közreműködést biztosítunk.', 'price': '49,9\\xa0millió Ft'}]\n",
            "🔗 https://www.zenga.hu//ingatlan/elado-hazresz-torokbalint-ofalu/8586836?page=1&pos=18\n",
            "Süti elfogadva\n",
            "Szöveg: Törökbálint központi részén mégis csendes kiutcában, 87 m2-es felújított családi házrész, ~400 m2 telekkel eladó!\n",
            "Az ingatlan akár AZONNAL KÖLTÖZHETŐ. Elhelyezkedésének köszönhetően remek adottságokkal rendelkezik bevásárlási lehetőség, egészségügyi és egyéb szolgáltatások, iskola, óvoda, tömegközlekedés (172,272, 140, 140B autóbuszok megállója) gyalogosan is pár perc alatt elérhetők. Az M7-es és M0-ás autópályák szintén pár perc alatt megközelíthetők.\n",
            "A ház felújítása során nem csak a belső esztétikára fordítottak. A tető is teljes felújításon esett át, a külső nyílászárókat is kicserélték, redőnyökkel és szúnyoghálókkal látták el azokat. A ház folytatása ként egy tárolót építettek (innen nyílik a padlásfeljáró is). A 2 szoba + nappalis összkomfortos házrész, külön bejárattal, saját lekerített kerttel, használati megosztással és külön mért közművekkel rendelkezik.\n",
            "Az épület egy része alatt (23 m2) boltíves pince is található.\n",
            "Ha bármilyen kérdésed lenne az ingatlannal kapcsolatban, ne habozz felvenni velünk a kapcsolatot. Ügyfeleink bizalommal fordulhatnak hozzánk, hiszen készséggel állunk rendelkezésükre. Az ingatlan bemutatása mellett a mi célunk az, hogy segítsük megtalálni az ideális otthont. Akár készpénzből akár államilag támogatott vagy szabad piaci hitelt szeretnél felvenni a vásárláshoz, tanácsadó kollégánk díjmentes, banksemleges ügyintézéssel áll rendelkezésre. Igény esetén ügyvédi segítséget is ajánlunk a teljes ügymenet jogi lebonyolításához. \n",
            "Ár: 79,9 millió Ft \n",
            "[{'url': 'https://www.zenga.hu//ingatlan/elado-hazresz-torokbalint-ofalu/8586836?page=1&pos=18', 'desc': 'Törökbálint központi részén mégis csendes kiutcában, 87 m2-es felújított családi házrész, ~400 m2 telekkel eladó!\\nAz ingatlan akár AZONNAL KÖLTÖZHETŐ. Elhelyezkedésének köszönhetően remek adottságokkal rendelkezik bevásárlási lehetőség, egészségügyi és egyéb szolgáltatások, iskola, óvoda, tömegközlekedés (172,272, 140, 140B autóbuszok megállója) gyalogosan is pár perc alatt elérhetők. Az M7-es és M0-ás autópályák szintén pár perc alatt megközelíthetők.\\nA ház felújítása során nem csak a belső esztétikára fordítottak. A tető is teljes felújításon esett át, a külső nyílászárókat is kicserélték, redőnyökkel és szúnyoghálókkal látták el azokat. A ház folytatása ként egy tárolót építettek (innen nyílik a padlásfeljáró is). A 2 szoba + nappalis összkomfortos házrész, külön bejárattal, saját lekerített kerttel, használati megosztással és külön mért közművekkel rendelkezik.\\nAz épület egy része alatt (23 m2) boltíves pince is található.\\nHa bármilyen kérdésed lenne az ingatlannal kapcsolatban, ne habozz felvenni velünk a kapcsolatot. Ügyfeleink bizalommal fordulhatnak hozzánk, hiszen készséggel állunk rendelkezésükre. Az ingatlan bemutatása mellett a mi célunk az, hogy segítsük megtalálni az ideális otthont. Akár készpénzből akár államilag támogatott vagy szabad piaci hitelt szeretnél felvenni a vásárláshoz, tanácsadó kollégánk díjmentes, banksemleges ügyintézéssel áll rendelkezésre. Igény esetén ügyvédi segítséget is ajánlunk a teljes ügymenet jogi lebonyolításához.', 'price': '79,9\\xa0millió Ft'}]\n",
            "🔗 https://www.zenga.hu//ingatlan/elado-csaladi-haz-torokbalint-annahegy/8572421?page=1&pos=19\n",
            "Süti elfogadva\n",
            "Szöveg: Törökbálinton Extra MŰSZAKI TARTALOMMAL ELADÓ ÚJ ÉPÍTÉSŰ CSALÁDI HÁZ!\n",
            "TELEK: 700 m2\n",
            "INGATLAN: 108m2\n",
            "Az ingatlanos hasznos lakótere 85 m2 + 20,60 m2 terasszal és saját kertkapcsolattal, ami 700m2.\n",
            "Az ingatlan áll:\n",
            "*3 Szoba,\n",
            "*Nappali teraszkapcsolattal,\n",
            "*Konyha-étkező,\n",
            "*Tágas fürdő,\n",
            "*Külön mellékhelyiség.\n",
            "A helyiségek napfényesek, köszönhetően a jó tájolásnak és a jó méretű nyílászáróknak.\n",
            "Az ház aszfaltozott utcában található, rendezett házak környezetében.\n",
            "Műszaki adatok:\n",
            "*30-as Porotherm tégla,\n",
            "*15 cm Szigetelés,\n",
            "*hőszivattyú padlófűtéssel minden helyiségben,\n",
            "*Betoncserép,\n",
            "*3 Rétegű 6 légkamrás nyílászárók,\n",
            "*2 Autónak térkövezett beálló,\n",
            "*Riasztó előkészítése,\n",
            "*Szaniterek,\n",
            "*Hideg/meleg burkolatok (5000 Ft/ m2),\n",
            "Várható átadás: 2025 december\n",
            "Tömegközlekedés, iskola, óvoda, bevásárlási lehetőségek perceken belül elérhetőek.\n",
            "97.000.000 mft \n",
            "Ár: 97 millió Ft \n",
            "[{'url': 'https://www.zenga.hu//ingatlan/elado-csaladi-haz-torokbalint-annahegy/8572421?page=1&pos=19', 'desc': 'Törökbálinton Extra MŰSZAKI TARTALOMMAL ELADÓ ÚJ ÉPÍTÉSŰ CSALÁDI HÁZ!\\nTELEK: 700 m2\\nINGATLAN: 108m2\\nAz ingatlanos hasznos lakótere 85 m2 + 20,60 m2 terasszal és saját kertkapcsolattal, ami 700m2.\\nAz ingatlan áll:\\n*3 Szoba,\\n*Nappali teraszkapcsolattal,\\n*Konyha-étkező,\\n*Tágas fürdő,\\n*Külön mellékhelyiség.\\nA helyiségek napfényesek, köszönhetően a jó tájolásnak és a jó méretű nyílászáróknak.\\nAz ház aszfaltozott utcában található, rendezett házak környezetében.\\nMűszaki adatok:\\n*30-as Porotherm tégla,\\n*15 cm Szigetelés,\\n*hőszivattyú padlófűtéssel minden helyiségben,\\n*Betoncserép,\\n*3 Rétegű 6 légkamrás nyílászárók,\\n*2 Autónak térkövezett beálló,\\n*Riasztó előkészítése,\\n*Szaniterek,\\n*Hideg/meleg burkolatok (5000 Ft/ m2),\\nVárható átadás: 2025 december\\nTömegközlekedés, iskola, óvoda, bevásárlási lehetőségek perceken belül elérhetőek.\\n97.000.000 mft', 'price': '97\\xa0millió Ft'}]\n",
            "🔗 https://www.zenga.hu//ingatlan/elado-csaladi-haz-torokbalint-ofalu/8531070?page=1&pos=20\n",
            "Süti elfogadva\n",
            "Szöveg: 162 nm. családi ház, 900 nm. összközműves telken.\n",
            "A ház az 1950-es évek elején épült az akkori trendnek megfelelően nyitott verandával, U alakban.\n",
            "4 nagy méretű szoba, konyha (2 évvel ezelőtt felújítva) étkező 2 fürdőszoba WC-kel. A ház egyszintes, utcahossza 18 m.\n",
            "Radiátoros fűtése van a háznak, gázkazánnal működtetve. A meleg víz villany-és gázbojler együttesével működik. Internet van.\n",
            "Garázs kialakítható, 2 gépkocsi részére.\n",
            "A ház radikális felújítást igényel, akár bontandó is lehet.\n",
            "A telek nagysága és a 25%os beépítési lehetősége (Lke-4 övezet) kiváló lehetőség egy, a mai kor követelményeinek és ízlésének megfelelő új otthon megteremtésének.\n",
            "Irányár: 95 M.HUF. \n",
            "Ár: 95 millió Ft \n",
            "[{'url': 'https://www.zenga.hu//ingatlan/elado-csaladi-haz-torokbalint-ofalu/8531070?page=1&pos=20', 'desc': '162 nm. családi ház, 900 nm. összközműves telken.\\nA ház az 1950-es évek elején épült az akkori trendnek megfelelően nyitott verandával, U alakban.\\n4 nagy méretű szoba, konyha (2 évvel ezelőtt felújítva) étkező 2 fürdőszoba WC-kel. A ház egyszintes, utcahossza 18 m.\\nRadiátoros fűtése van a háznak, gázkazánnal működtetve. A meleg víz villany-és gázbojler együttesével működik. Internet van.\\nGarázs kialakítható, 2 gépkocsi részére.\\nA ház radikális felújítást igényel, akár bontandó is lehet.\\nA telek nagysága és a 25%os beépítési lehetősége (Lke-4 övezet) kiváló lehetőség egy, a mai kor követelményeinek és ízlésének megfelelő új otthon megteremtésének.\\nIrányár: 95 M.HUF.', 'price': '95\\xa0millió Ft'}]\n",
            "🔗 https://www.zenga.hu//ingatlan/elado-csaladi-haz-torokbalint-ofalu/8188928?page=2&pos=1\n",
            "Süti elfogadva\n",
            "Szöveg: Sürgősen eladó egy erősen felújítandó családi ház kis udvarral. A ház 100m2,udvar 100m2. Kívül belül felújítandó. Törökbálint városközpontba van. Szanatórium,hívatal,közlekedés,boltok a közelbe.06306451491 \n",
            "Ár: 47 millió Ft \n",
            "[{'url': 'https://www.zenga.hu//ingatlan/elado-csaladi-haz-torokbalint-ofalu/8188928?page=2&pos=1', 'desc': 'Sürgősen eladó egy erősen felújítandó családi ház kis udvarral. A ház 100m2,udvar 100m2. Kívül belül felújítandó. Törökbálint városközpontba van. Szanatórium,hívatal,közlekedés,boltok a közelbe.06306451491', 'price': '47\\xa0millió Ft'}]\n",
            "🔗 https://www.zenga.hu//ingatlan/elado-csaladi-haz-torokbalint/8179516?page=2&pos=2\n",
            "Süti elfogadva\n",
            "Szöveg: Ez egy csendes és nyugodt környék, ahol még a madarak is halkabban csiripelnek. A szőlőhegyek és mezőgazdasági területek miatt a levegő tiszta, és a kilátás gyönyörű.\n",
            "\n",
            "Két külön helyrajzi számon szereplő telek egyben nyitva, mindkettőn egy-egy felújítandó épülettel.\n",
            "Az épületek szerkezetileg teljesen jó állapotban vannak.\n",
            "\n",
            "Az egyik épület 2000-ben épült, benne három szoba, két fürdő és két vécé található. A tető szerkezetileg teljesen jó állapotban van, a villanyvezetékek és a vízvezetékek újak. Az épület ytong téglából készült és műanyag nyílászárók vannak benne.\n",
            "\n",
            "\n",
            "Ez kiváló lehetőség mindazoknak, akik szeretnék saját ízlésük szerint felújítani és kialakítani otthonukat egy nyugodt környezetben. Tökéletes hétvégi házként vagy állandó lakóhelyként is.\n",
            "\n",
            "\n",
            "A környék közlekedési szempontból is ideális, hiszen az M1 és M7 autópályák bevezető szakasza közel van, így gyorsan elérhető Budapest.\n",
            "\n",
            "A közeli Törökbálinton minden megtalálható: boltok (Auchan, Tesco, IKEA, Praktiker), éttermek, iskolák és egyéb szolgáltatások.\n",
            "\n",
            "Sportolási lehetőségek is bőven akadnak a környéken: futás, kerékpározás, túrázás a természetben, valamint több sportközpont is könnyen elérhető.\n",
            "\n",
            "Gyere, nézd meg, és érezd a vidéki élet nyugalmát, anélkül, hogy lemondanál a városi kényelemről! Ne hagyd ki, mert ilyen lehetőség nem sűrűn adódik!\n",
            "\n",
            "\n",
            "English description,\n",
            "\n",
            "Property for Sale near Törökbálint, in Pistály Dűlő!\n",
            "\n",
            "Pistály Dűlő, near Törökbálint, offers a quiet and peaceful environment. The vineyards and agricultural areas make for clean air and beautiful views.\n",
            "\n",
            "The property consists of two separate plots, each with a building in need of renovation. The buildings are structurally in excellent condition.\n",
            "\n",
            "One of the buildings, built in 2000, includes three rooms, two bathrooms, and two toilets. The roof is in excellent condition, and the electrical and plumbing systems are new.\n",
            "\n",
            "The building is made of Ytong bricks and features plastic windows.\n",
            "\n",
            "This is an excellent opportunity for those who wish to renovate and design their home according to their own taste in a peaceful environment. It is ideal as a weekend retreat or permanent residence.\n",
            "\n",
            "Nearby towns include Törökbálint, which has several shops, restaurants, schools, and other services. Budapest is also not far, making it easy to access the capital for larger shopping trips or city programs.\n",
            "\n",
            "The area's tranquility and natural beauty make it popular among those who enjoy rural life but do not want to completely detach from urban conveniences.\n",
            "\n",
            "German description,\n",
            "\n",
            "\n",
            "**Immobilie zu verkaufen in der Nähe von Törökbálint, in Pistály Dűlő!**\n",
            "\n",
            "Pistály Dűlő, in der Nähe von Törökbálint, bietet eine ruhige und friedliche Umgebung. Die Weinberge und landwirtschaftlichen Flächen sorgen für saubere Luft und schöne Aussicht.\n",
            "\n",
            "Das Grundstück besteht aus zwei separaten Parzellen, jede mit einem renovierungsbedürftigen Gebäude. Die Gebäude sind strukturell in ausgezeichnetem Zustand.\n",
            "\n",
            "Eines der Gebäude, das im Jahr 2000 gebaut wurde, umfasst drei Zimmer, zwei Badezimmer und zwei Toiletten. Das Dach ist in ausgezeichnetem Zustand und die Elektro- und Sanitärsysteme sind neu.\n",
            "\n",
            "Das Gebäude ist aus Ytong-Ziegeln gebaut und verfügt über Kunststofffenster.\n",
            "\n",
            "Dies ist eine ausgezeichnete Gelegenheit für diejenigen, die ihr Zuhause nach ihrem eigenen Geschmack in einer ruhigen Umgebung renovieren und gestalten möchten. Es ist ideal als Wochenendhaus oder ständiger Wohnsitz.\n",
            "\n",
            "Nahegelegene Städte sind unter anderem Törökbálint, das mehrere Geschäfte, Restaurants, Schulen und andere Dienstleistungen bietet. Budapest ist ebenfalls nicht weit entfernt und ermöglicht einfache Einkaufs- oder Stadtbesuche.\n",
            "\n",
            "Die Ruhe und die natürliche Schönheit der Gegend machen sie bei denen beliebt, die das Landleben genießen, aber nicht vollständig auf städtische Annehmlichkeiten verzichten möchten. \n",
            "Ár: 84,99 millió Ft \n",
            "[{'url': 'https://www.zenga.hu//ingatlan/elado-csaladi-haz-torokbalint/8179516?page=2&pos=2', 'desc': \"Ez egy csendes és nyugodt környék, ahol még a madarak is halkabban csiripelnek. A szőlőhegyek és mezőgazdasági területek miatt a levegő tiszta, és a kilátás gyönyörű.\\n\\nKét külön helyrajzi számon szereplő telek egyben nyitva, mindkettőn egy-egy felújítandó épülettel.\\nAz épületek szerkezetileg teljesen jó állapotban vannak.\\n\\nAz egyik épület 2000-ben épült, benne három szoba, két fürdő és két vécé található. A tető szerkezetileg teljesen jó állapotban van, a villanyvezetékek és a vízvezetékek újak. Az épület ytong téglából készült és műanyag nyílászárók vannak benne.\\n\\n\\nEz kiváló lehetőség mindazoknak, akik szeretnék saját ízlésük szerint felújítani és kialakítani otthonukat egy nyugodt környezetben. Tökéletes hétvégi házként vagy állandó lakóhelyként is.\\n\\n\\nA környék közlekedési szempontból is ideális, hiszen az M1 és M7 autópályák bevezető szakasza közel van, így gyorsan elérhető Budapest.\\n\\nA közeli Törökbálinton minden megtalálható: boltok (Auchan, Tesco, IKEA, Praktiker), éttermek, iskolák és egyéb szolgáltatások.\\n\\nSportolási lehetőségek is bőven akadnak a környéken: futás, kerékpározás, túrázás a természetben, valamint több sportközpont is könnyen elérhető.\\n\\nGyere, nézd meg, és érezd a vidéki élet nyugalmát, anélkül, hogy lemondanál a városi kényelemről! Ne hagyd ki, mert ilyen lehetőség nem sűrűn adódik!\\n\\n\\nEnglish description,\\n\\nProperty for Sale near Törökbálint, in Pistály Dűlő!\\n\\nPistály Dűlő, near Törökbálint, offers a quiet and peaceful environment. The vineyards and agricultural areas make for clean air and beautiful views.\\n\\nThe property consists of two separate plots, each with a building in need of renovation. The buildings are structurally in excellent condition.\\n\\nOne of the buildings, built in 2000, includes three rooms, two bathrooms, and two toilets. The roof is in excellent condition, and the electrical and plumbing systems are new.\\n\\nThe building is made of Ytong bricks and features plastic windows.\\n\\nThis is an excellent opportunity for those who wish to renovate and design their home according to their own taste in a peaceful environment. It is ideal as a weekend retreat or permanent residence.\\n\\nNearby towns include Törökbálint, which has several shops, restaurants, schools, and other services. Budapest is also not far, making it easy to access the capital for larger shopping trips or city programs.\\n\\nThe area's tranquility and natural beauty make it popular among those who enjoy rural life but do not want to completely detach from urban conveniences.\\n\\nGerman description,\\n\\n\\n**Immobilie zu verkaufen in der Nähe von Törökbálint, in Pistály Dűlő!**\\n\\nPistály Dűlő, in der Nähe von Törökbálint, bietet eine ruhige und friedliche Umgebung. Die Weinberge und landwirtschaftlichen Flächen sorgen für saubere Luft und schöne Aussicht.\\n\\nDas Grundstück besteht aus zwei separaten Parzellen, jede mit einem renovierungsbedürftigen Gebäude. Die Gebäude sind strukturell in ausgezeichnetem Zustand.\\n\\nEines der Gebäude, das im Jahr 2000 gebaut wurde, umfasst drei Zimmer, zwei Badezimmer und zwei Toiletten. Das Dach ist in ausgezeichnetem Zustand und die Elektro- und Sanitärsysteme sind neu.\\n\\nDas Gebäude ist aus Ytong-Ziegeln gebaut und verfügt über Kunststofffenster.\\n\\nDies ist eine ausgezeichnete Gelegenheit für diejenigen, die ihr Zuhause nach ihrem eigenen Geschmack in einer ruhigen Umgebung renovieren und gestalten möchten. Es ist ideal als Wochenendhaus oder ständiger Wohnsitz.\\n\\nNahegelegene Städte sind unter anderem Törökbálint, das mehrere Geschäfte, Restaurants, Schulen und andere Dienstleistungen bietet. Budapest ist ebenfalls nicht weit entfernt und ermöglicht einfache Einkaufs- oder Stadtbesuche.\\n\\nDie Ruhe und die natürliche Schönheit der Gegend machen sie bei denen beliebt, die das Landleben genießen, aber nicht vollständig auf städtische Annehmlichkeiten verzichten möchten.\", 'price': '84,99\\xa0millió Ft'}]\n",
            "🔗 https://www.zenga.hu//ingatlan/elado-csaladi-haz-torokbalint/7886806?page=2&pos=3\n",
            "Süti elfogadva\n",
            "Szöveg: Tulajdonostól eladó, azonnal költözhető családi ház \n",
            "Ár: 78,5 millió Ft \n",
            "[{'url': 'https://www.zenga.hu//ingatlan/elado-csaladi-haz-torokbalint/7886806?page=2&pos=3', 'desc': 'Tulajdonostól eladó, azonnal költözhető családi ház', 'price': '78,5\\xa0millió Ft'}]\n"
          ]
        }
      ]
    },
    {
      "cell_type": "code",
      "source": [
        "df=pd.DataFrame(zenga_data)\n",
        "csv_path='/content/drive/MyDrive/Zenga/'\n",
        "df.to_csv(csv_path+'zenga_data_torokbalint.csv',index=False)"
      ],
      "metadata": {
        "id": "YApLrfYpSjbR"
      },
      "execution_count": 55,
      "outputs": []
    },
    {
      "cell_type": "code",
      "source": [
        "szoveg=df.desc[0]"
      ],
      "metadata": {
        "id": "PcI7PbyRFSG9"
      },
      "execution_count": 56,
      "outputs": []
    },
    {
      "cell_type": "code",
      "source": [
        "raise SystemExit(\"🛑 Kód megszakítva ezen a ponton.\") # A következő rész a AI prompt beállításait tartalmazza"
      ],
      "metadata": {
        "colab": {
          "base_uri": "https://localhost:8080/",
          "height": 128
        },
        "id": "zmCIZa0GTgLC",
        "outputId": "3023e50e-8048-4ce5-d92c-85f06132ceda"
      },
      "execution_count": 57,
      "outputs": [
        {
          "output_type": "error",
          "ename": "SystemExit",
          "evalue": "🛑 Kód megszakítva ezen a ponton.",
          "traceback": [
            "An exception has occurred, use %tb to see the full traceback.\n",
            "\u001b[0;31mSystemExit\u001b[0m\u001b[0;31m:\u001b[0m 🛑 Kód megszakítva ezen a ponton.\n"
          ]
        },
        {
          "output_type": "stream",
          "name": "stderr",
          "text": [
            "/usr/local/lib/python3.11/dist-packages/IPython/core/interactiveshell.py:3561: UserWarning: To exit: use 'exit', 'quit', or Ctrl-D.\n",
            "  warn(\"To exit: use 'exit', 'quit', or Ctrl-D.\", stacklevel=1)\n"
          ]
        }
      ]
    },
    {
      "cell_type": "code",
      "metadata": {
        "id": "6842f3b1"
      },
      "source": [
        "from openai import OpenAI\n",
        "import json"
      ],
      "execution_count": 58,
      "outputs": []
    },
    {
      "cell_type": "code",
      "source": [
        "from google.colab import userdata\n",
        "key=userdata.get('OpenAi_API')"
      ],
      "metadata": {
        "id": "kyJt3WXLyKQH"
      },
      "execution_count": 59,
      "outputs": []
    },
    {
      "cell_type": "code",
      "source": [
        "szoveg='''\n",
        "Budafok szép panorámás részén a Rózsavölgy feletti dombon, csendes mellékutcában eladó egy bájos kis ház 520 négyzetméteres telken.\n",
        "\n",
        "A kis ház 35 négyzetméteres, egy légtérben van kialakítva benne a nappali, melyet részben nyitott válaszfallal szeparáltak el a konyha-étkező résztől. A zuhanyzós fürdő és a WC egy helyiségben található.\n",
        "\n",
        "A víz, az áram és az internet be van kötve a házba. Gáz és csatorna az utcában. A csatorna bevezetését már kezdeményezte a szomszédos telek tulajdonosa.\n",
        "\n",
        "A telken áll egy másik kis házikó is, ami jelenleg egy 9 négyzetméteres szobaként funkcionál.\n",
        "\n",
        "A kert szép és gondozott, sok gyümölcsfával. Nagyobb mérete miatt sok lehetőséget rejt. Kialakítható rajta több nagy magaságyás, építhető kerti medence vagy finn szauna is.\n",
        "\n",
        "További információkért és időpont egyeztetésért kérem hívjon telefononn.\n",
        "Hitellel vásárlás esetén bankfüggetlen és DÍJMENTES hiteltanácsadó közreműködését biztosítjuk, aki a teljes folyamaton végigkíséri Önt.\n",
        "Az adásvétel biztonságos és gördülékeny bonyolítása érdekében tapasztalt ingatlan szakjogászaink szolgáltatását is ajánlom.\n",
        "'''"
      ],
      "metadata": {
        "id": "PMGh2RYuK_TD"
      },
      "execution_count": 60,
      "outputs": []
    },
    {
      "cell_type": "code",
      "source": [
        "def create_prompt(szoveg):\n",
        "    prompt_message=[\n",
        "            {\"role\": \"system\",\n",
        "             \"content\": f'''\n",
        "                    Te egy ingatlanhirdetés-elemző nyelvész vagy, komoly ingatlanhirdetési tapasztalattal.\n",
        "                    Célod, hogy az ingatlan hirdetések tökéletesek legyenek ezért kidolgoztál egy hirdetés értékelési szempontrendszert.\n",
        "                    Ezek a szempontok alapján tökéletes értékelést tudsz adni az adott hirdetés szövege alapján.\n",
        "                    A szempontok:\n",
        "                        1. Érthetőség\n",
        "                        2. Részletesség / információtartalom\n",
        "                        3. Szerkezet, logikai felépítés\n",
        "                        4. Célcsoport megszólítása\n",
        "                        5. Stílus és nyelvhelyesség\n",
        "                        6. Előnyök kiemelése\n",
        "                        7. Negatívumok őszinte kezelése\n",
        "                        8. Eladásra ösztönzés'''},\n",
        "            {\"role\": \"user\",\n",
        "             \"content\": \"\"\"\n",
        "                            Értékeld az alábbi ingatlanhirdetés szöveget és az értékelést a scoring mezőbe helyezzed el.\n",
        "                            Az alábbi szempontok alapján 1–5-ig pontozzad, és hozz létre egy összesített eredményt  1-8 közötti szempontok értékelésének átlagaként ez legyen a 9. Összesítés :\n",
        "                            Majd a tudásod alapján adj egy alternatív javaslatot az eredeti szöveg javítására, hogy a lehető legjobban megfeleljen a szempontoknak.\n",
        "                            Az alternatív javaslatot strukturáld, és tördeld a jobb érthetőség érdekében, de markdown formátumot ne használj!\n",
        "                            Fontos, hogy a saját szempontrendszered szerint az alternatív javaslatod értékelése jobb legyen az eredeti értékelésnél!\n",
        "                            A válaszod csak érvényes JSON formátumban legyen, pontosan az alábbi struktúrában:\n",
        "\n",
        "                            {\"scoring\":\n",
        "                                {\n",
        "\n",
        "                                    \"Érthetőség\": <szám>,\n",
        "                                    \"Részletesség\": <szám>,\n",
        "                                    \"Szerkezet\": <szám>,\n",
        "                                    \"Célcsoport\": <szám>,\n",
        "                                    \"Stílus\": <szám>,\n",
        "                                    \"Előnyök\": <szám>,\n",
        "                                    \"Negatívumok\": <szám>,\n",
        "                                    \"Ösztönzés\": <szám>,\n",
        "                                    \"Összesítés\": <szám.tizedes>\"\n",
        "                                },\n",
        "                            \"proposal\":\"Ide kerüljön a javított szöveg javaslatod\"\n",
        "                            }\n",
        "\n",
        "\n",
        "                    A HIRDETÉS SZÖVEGE:\n",
        "                        \"\"\"+f\" {szoveg}\"}\n",
        "        ]\n",
        "    return prompt_message\n"
      ],
      "metadata": {
        "id": "dCeg519FjA1e"
      },
      "execution_count": 61,
      "outputs": []
    },
    {
      "cell_type": "code",
      "source": [
        "prompt_message=create_prompt(szoveg)\n"
      ],
      "metadata": {
        "id": "3QAd5oiRFVZd"
      },
      "execution_count": 62,
      "outputs": []
    },
    {
      "cell_type": "code",
      "source": [
        "def get_response(szoveg:str):\n",
        "    client = OpenAI(api_key=key)\n",
        "    prompt_message=create_prompt(szoveg)\n",
        "    response = client.chat.completions.create(\n",
        "        model=\"gpt-4o\",\n",
        "        messages=prompt_message,\n",
        "        temperature=0.5,\n",
        "        max_tokens=2900\n",
        "    )\n",
        "\n",
        "    content = response.choices[0].message.content\n",
        "\n",
        "    # a gpt-4 így adja vissza a json választ, kiszedjük a jsont a felesleges keretből\n",
        "    if content.startswith(\"```json\"):\n",
        "        content = content.strip(\"`\").lstrip(\"json\").strip()\n",
        "\n",
        "    #\n",
        "    out_dict = json.loads(content)\n",
        "\n",
        "    return(out_dict)"
      ],
      "metadata": {
        "id": "yFMMubHWndJ_"
      },
      "execution_count": 63,
      "outputs": []
    },
    {
      "cell_type": "code",
      "source": [
        "resp_data=get_response(prompt_message)"
      ],
      "metadata": {
        "id": "mEusV3hnnjEK"
      },
      "execution_count": 64,
      "outputs": []
    },
    {
      "cell_type": "code",
      "source": [
        "print(resp_data)"
      ],
      "metadata": {
        "colab": {
          "base_uri": "https://localhost:8080/"
        },
        "id": "xscKdn5Bgsby",
        "outputId": "fa2b146a-8c9c-4342-d2d3-99f78f385129"
      },
      "execution_count": 65,
      "outputs": [
        {
          "output_type": "stream",
          "name": "stdout",
          "text": [
            "{'scoring': {'Érthetőség': 4, 'Részletesség': 4, 'Szerkezet': 3, 'Célcsoport': 3, 'Stílus': 4, 'Előnyök': 4, 'Negatívumok': 3, 'Ösztönzés': 4, 'Összesítés': 3.6}, 'proposal': 'Eladó egy bájos kis ház Budafok szép panorámás részén, a Rózsavölgy feletti dombon, csendes mellékutcában, 520 négyzetméteres telken.\\n\\nA ház 35 négyzetméteres, egy légterű nappalival, amelyet részben nyitott válaszfal választ el a konyha-étkezőtől. A fürdőszoba zuhanyzós, a WC-vel egy helyiségben található.\\n\\nA ház rendelkezik víz-, áram- és internetkapcsolattal. A gáz és a csatorna az utcában elérhető, a csatorna bevezetését már kezdeményezte a szomszédos telek tulajdonosa.\\n\\nA telken található egy másik kis házikó is, amely jelenleg 9 négyzetméteres szobaként funkcionál.\\n\\nA kert gondozott, sok gyümölcsfával, és nagyobb mérete miatt sok lehetőséget rejt. Kialakítható rajta magaságyás, építhető kerti medence vagy finn szauna.\\n\\nTovábbi információkért és időpont egyeztetésért kérem, hívjon telefonon.\\n\\nHitellel vásárlás esetén díjmentes, bankfüggetlen hiteltanácsadó segítségét biztosítjuk, aki végigkíséri Önt a teljes folyamaton.\\nAz adásvétel biztonságos lebonyolítása érdekében tapasztalt ingatlan szakjogászaink szolgáltatását is ajánljuk.'}\n"
          ]
        }
      ]
    },
    {
      "cell_type": "code",
      "source": [
        "resp_data[\"scoring\"]"
      ],
      "metadata": {
        "colab": {
          "base_uri": "https://localhost:8080/"
        },
        "id": "lHbiezDEJRi8",
        "outputId": "b15a955d-7c6d-4e6e-9951-924ed216afe6"
      },
      "execution_count": 66,
      "outputs": [
        {
          "output_type": "execute_result",
          "data": {
            "text/plain": [
              "{'Érthetőség': 4,\n",
              " 'Részletesség': 4,\n",
              " 'Szerkezet': 3,\n",
              " 'Célcsoport': 3,\n",
              " 'Stílus': 4,\n",
              " 'Előnyök': 4,\n",
              " 'Negatívumok': 3,\n",
              " 'Ösztönzés': 4,\n",
              " 'Összesítés': 3.6}"
            ]
          },
          "metadata": {},
          "execution_count": 66
        }
      ]
    },
    {
      "cell_type": "code",
      "source": [
        "resp_data[\"proposal\"]"
      ],
      "metadata": {
        "colab": {
          "base_uri": "https://localhost:8080/",
          "height": 90
        },
        "id": "F2SIdNj_CMop",
        "outputId": "eb9bd151-4d4d-4e12-827b-35319fd4a6be"
      },
      "execution_count": 67,
      "outputs": [
        {
          "output_type": "execute_result",
          "data": {
            "text/plain": [
              "'Eladó egy bájos kis ház Budafok szép panorámás részén, a Rózsavölgy feletti dombon, csendes mellékutcában, 520 négyzetméteres telken.\\n\\nA ház 35 négyzetméteres, egy légterű nappalival, amelyet részben nyitott válaszfal választ el a konyha-étkezőtől. A fürdőszoba zuhanyzós, a WC-vel egy helyiségben található.\\n\\nA ház rendelkezik víz-, áram- és internetkapcsolattal. A gáz és a csatorna az utcában elérhető, a csatorna bevezetését már kezdeményezte a szomszédos telek tulajdonosa.\\n\\nA telken található egy másik kis házikó is, amely jelenleg 9 négyzetméteres szobaként funkcionál.\\n\\nA kert gondozott, sok gyümölcsfával, és nagyobb mérete miatt sok lehetőséget rejt. Kialakítható rajta magaságyás, építhető kerti medence vagy finn szauna.\\n\\nTovábbi információkért és időpont egyeztetésért kérem, hívjon telefonon.\\n\\nHitellel vásárlás esetén díjmentes, bankfüggetlen hiteltanácsadó segítségét biztosítjuk, aki végigkíséri Önt a teljes folyamaton.\\nAz adásvétel biztonságos lebonyolítása érdekében tapasztalt ingatlan szakjogászaink szolgáltatását is ajánljuk.'"
            ],
            "application/vnd.google.colaboratory.intrinsic+json": {
              "type": "string"
            }
          },
          "metadata": {},
          "execution_count": 67
        }
      ]
    },
    {
      "cell_type": "markdown",
      "source": [
        "Eladásra kínálunk egy bájos kis házat Budafok szép panorámás részén, a Rózsavölgy feletti dombon, egy csendes mellékutcában. Az ingatlan 520 négyzetméteres telken helyezkedik el.\n",
        "\n",
        "A ház alapterülete 35 négyzetméter, ahol egy légtérben található a nappali, amelyet részben nyitott válaszfallal választottak el a konyha-étkező résztől. A fürdőszoba zuhanyzóval és WC-vel egy helyiségben található.\n",
        "\n",
        "A házba víz, áram és internet is be van kötve. A gáz és csatorna az utcában elérhető, a csatorna bevezetését már kezdeményezte a szomszédos telek tulajdonosa.\n",
        "\n",
        "A telken található még egy 9 négyzetméteres kis házikó, amely jelenleg szobaként funkcionál.\n",
        "\n",
        "A kert gondozott és tele van gyümölcsfákkal, így számos lehetőséget kínál: kialakítható rajta több nagy magaságyás, építhető kerti medence vagy finn szauna is.\n",
        "\n",
        "További információkért és időpont egyeztetésért kérem, hívjon telefonon. Hitellel történő vásárlás esetén bankfüggetlen és díjmentes hiteltanácsadó közreműködését biztosítjuk, aki a teljes folyamaton végigkíséri Önt. Az adásvétel biztonságos és gördülékeny lebonyolítása érdekében tapasztalt ingatlan szakjogászaink szolgáltatását is ajánljuk."
      ],
      "metadata": {
        "id": "4I7cbdSSf1p7"
      }
    }
  ]
}