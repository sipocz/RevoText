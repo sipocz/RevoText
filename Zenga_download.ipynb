{
  "nbformat": 4,
  "nbformat_minor": 0,
  "metadata": {
    "colab": {
      "provenance": [],
      "machine_shape": "hm"
    },
    "kernelspec": {
      "name": "python3",
      "display_name": "Python 3"
    },
    "language_info": {
      "name": "python"
    }
  },
  "cells": [
    {
      "cell_type": "code",
      "execution_count": null,
      "metadata": {
        "id": "PjvBX7hU2-Cx"
      },
      "outputs": [],
      "source": [
        "%%capture\n",
        "!pip install -q playwright nest_asyncio\n",
        "!playwright install chromium\n",
        "import nest_asyncio\n",
        "import asyncio\n",
        "import pandas as pd\n",
        "from playwright.async_api import async_playwright\n",
        "import re\n",
        "nest_asyncio.apply()\n"
      ]
    },
    {
      "cell_type": "code",
      "source": [
        "_BASE_URL_='https://www.zenga.hu'\n",
        "def url_creator(place:str=\"pest\",prop_type:str=\"haz\",price_min=40000000, price_max=100000000):\n",
        "\n",
        "    return f\"{_BASE_URL_}/{place}+elado+{prop_type}+ar-{price_min}-{price_max}?page=\""
      ],
      "metadata": {
        "id": "NMjPOnj1Q1On"
      },
      "execution_count": null,
      "outputs": []
    },
    {
      "cell_type": "code",
      "source": [
        "url_creator(\"urom\")"
      ],
      "metadata": {
        "colab": {
          "base_uri": "https://localhost:8080/",
          "height": 36
        },
        "id": "F_xbVMRyRL9j",
        "outputId": "996f6c90-f909-42fb-f2c6-76c15d39b335"
      },
      "execution_count": null,
      "outputs": [
        {
          "output_type": "execute_result",
          "data": {
            "text/plain": [
              "'https://www.zenga.hu/urom+elado+haz+ar-40000000-100000000?page='"
            ],
            "application/vnd.google.colaboratory.intrinsic+json": {
              "type": "string"
            }
          },
          "metadata": {},
          "execution_count": 3
        }
      ]
    },
    {
      "cell_type": "code",
      "source": [
        "async def scrape_nof_links(start_url=\"https://www.zenga.hu/komarom-esztergom-megye+elado+haz?page=\",page_num=1):\n",
        "    '''\n",
        "    Az megadott strat_url oldalán lévő linkek számát adja vissza\n",
        "    :param start_url: az oldal url-je\n",
        "    :param page_num: az oldal száma\n",
        "    '''\n",
        "    start_url = start_url+str(page_num)\n",
        "    links = []\n",
        "\n",
        "    async with async_playwright() as p:\n",
        "        browser = await p.chromium.launch(headless=True)\n",
        "        page = await browser.new_page()\n",
        "        await page.goto(start_url)\n",
        "        await page.wait_for_timeout(8000)\n",
        "\n",
        "        # Scroll, hogy több kártya betöltődjön\n",
        "        await page.mouse.wheel(0, 5000)\n",
        "        await page.wait_for_timeout(6000)\n",
        "\n",
        "        div_list = await page.query_selector_all(\"div[data-cy='search-page-total-count']\") # linkek itt vannak a html-ben\n",
        "        text=await div_list[0].text_content()\n",
        "        print(f\"Talált linkek száma: {text}\")\n",
        "        number_of_links = int(re.search(r'\\d+', text.replace('\\u00A0', '').replace(' ', '')).group())\n",
        "\n",
        "\n",
        "        await browser.close()\n",
        "        return number_of_links"
      ],
      "metadata": {
        "id": "668y5fsu64yX"
      },
      "execution_count": null,
      "outputs": []
    },
    {
      "cell_type": "code",
      "source": [
        "number_of_links=await scrape_nof_links()\n",
        "print(f\"A keresésnek megfelelő linkek száma:{number_of_links}\")"
      ],
      "metadata": {
        "colab": {
          "base_uri": "https://localhost:8080/"
        },
        "id": "fQExZhPu7-XR",
        "outputId": "e4750aa6-a3ba-4050-b48a-0aa01beba61a"
      },
      "execution_count": null,
      "outputs": [
        {
          "output_type": "stream",
          "name": "stdout",
          "text": [
            "Talált linkek száma:  1 823 találat \n",
            "A keresésnek megfelelő linkek száma:1823\n"
          ]
        }
      ]
    },
    {
      "cell_type": "code",
      "source": [
        "async def scrape_zenga_links(start_url=\"https://www.zenga.hu/komarom-esztergom-megye+elado+haz?page=\",zenga_page=1)->list:\n",
        "    '''\n",
        "    A zenga.hu adott keresési oldaláról (oldalszám alapján) összegyűjti az ingatlanhirdetések\n",
        "    kártyalinkjeit.\n",
        "\n",
        "    Paraméterek\n",
        "    ----------\n",
        "        start_url : str, alapértelmezett: \"https://www.zenga.hu/komarom-esztergom-megye+elado+haz?page=\"\n",
        "            A listaoldal alapprefixe, amely \"page=\" végű query-vel zárul. A függvény a megadott\n",
        "            oldalszámot fűzi a végére.\n",
        "        zenga_page : int, alapértelmezett: 1\n",
        "            A lekérdezni kívánt oldal száma.\n",
        "\n",
        "    Visszatérés\n",
        "    -----------\n",
        "        list[str]\n",
        "            A hirdetéskártyák abszolút URL-jeinek listája.\n",
        "    '''\n",
        "\n",
        "    start_url = start_url+str(zenga_page)\n",
        "    links = []\n",
        "\n",
        "    async with async_playwright() as p:\n",
        "        browser = await p.chromium.launch(headless=True)\n",
        "        page = await browser.new_page()\n",
        "        await page.goto(start_url)\n",
        "        await page.wait_for_timeout(8000)\n",
        "\n",
        "        # Scroll, hogy több kártya betöltődjön\n",
        "        await page.mouse.wheel(0, 5000)\n",
        "        await page.wait_for_timeout(3000)\n",
        "\n",
        "        a_links = await page.query_selector_all(\"a[data-cy='advert-card-link']\") # linkek itt vannak a html-ben\n",
        "        print(f\"Talált linkek száma: {len(a_links)}\")\n",
        "\n",
        "        for a in a_links:\n",
        "            href = await a.get_attribute(\"href\")\n",
        "            if href:\n",
        "                links.append(_BASE_URL_ + \"/\" + href)\n",
        "\n",
        "        await browser.close()\n",
        "        return links"
      ],
      "metadata": {
        "id": "7MkS16R4TvZ6"
      },
      "execution_count": null,
      "outputs": []
    },
    {
      "cell_type": "code",
      "source": [
        "def get_all_url(place:str,prop_type=\"haz\",l_price=40000000, h_price=100000000)->list:\n",
        "    '''\n",
        "    A megadott hely (place), ingatlantípus (prop_type) és ársáv (HUF) alapján összegyűjti a\n",
        "    zenga.hu hirdetéslistáiról az összes hirdetés URL-jét. Először lekéri a találatok\n",
        "    számát, majd az összes szükséges oldalon végiglépked és kimenti a linkeket.\n",
        "\n",
        "    Paraméterek\n",
        "    -----------\n",
        "    place : str\n",
        "        Település/megyenév vagy slug, amit a `url_creator` elfogad (pl. \"komarom-esztergom-megye\").\n",
        "    prop_type : str, alapértelmezett: \"haz\"\n",
        "        Ingatlantípus (pl. \"haz\", \"lakas\", \"telek\").\n",
        "        l_price : int, alapértelmezett: 40_000_000\n",
        "        Alsó árhatár HUF-ban.\n",
        "    h_price : int, alapértelmezett: 100_000_000\n",
        "        Felső árhatár HUF-ban.\n",
        "\n",
        "    Visszatérés\n",
        "    -----------\n",
        "    list[str]\n",
        "        A talált hirdetések abszolút URL-jeinek listája.\n",
        "    '''\n",
        "\n",
        "    url=url_creator(place=place,prop_type=prop_type,price_min=l_price,price_max=h_price)\n",
        "    print(url)\n",
        "    zenga_links=[]\n",
        "\n",
        "    no_links = asyncio.run(scrape_nof_links(start_url=url,page_num=1))\n",
        "    # Futtatás\n",
        "\n",
        "    for i in range(-(-no_links // 20)):\n",
        "        print(f\"Page: {i+1}\")\n",
        "        zenga_page = asyncio.run( scrape_zenga_links(start_url=url,zenga_page=i+1))\n",
        "        zenga_links.extend(zenga_page)\n",
        "    # Kiírás\n",
        "    for i, link in enumerate(zenga_links, 1):\n",
        "        print(f\"{i}. {link}\")\n",
        "    return zenga_links\n"
      ],
      "metadata": {
        "id": "rMNz1W8j4iyM"
      },
      "execution_count": null,
      "outputs": []
    },
    {
      "cell_type": "code",
      "source": [
        "zenga_links=get_all_url(\"torokbalint\",\"haz\",40000000,100000000) # csak teszt"
      ],
      "metadata": {
        "colab": {
          "base_uri": "https://localhost:8080/"
        },
        "id": "8TQVExFRTqS4",
        "outputId": "da7d0f82-4a26-4702-8c7c-ecc16f270b42"
      },
      "execution_count": null,
      "outputs": [
        {
          "output_type": "stream",
          "name": "stdout",
          "text": [
            "https://www.zenga.hu/torokbalint+elado+haz+ar-40000000-100000000?page=\n",
            "Talált linkek száma:  21 találat \n",
            "Page: 1\n",
            "Talált linkek száma: 20\n",
            "Page: 2\n",
            "Talált linkek száma: 1\n",
            "1. https://www.zenga.hu//ingatlan/elado-csaladi-haz-torokbalint-ofalu/8671805?page=1&pos=1&cr=79\n",
            "2. https://www.zenga.hu//ingatlan/elado-csaladi-haz-torokbalint/8624680?page=1&pos=2&cr=11\n",
            "3. https://www.zenga.hu//ingatlan/elado-ikerhaz-torokbalint/7843274?page=1&pos=3&cr=5\n",
            "4. https://www.zenga.hu//ingatlan/elado-hazresz-torokbalint/8481940?page=1&pos=4\n",
            "5. https://www.zenga.hu//ingatlan/elado-csaladi-haz-torokbalint/8626097?page=1&pos=5\n",
            "6. https://www.zenga.hu//ingatlan/elado-csaladi-haz-torokbalint/8642644?page=1&pos=6\n",
            "7. https://www.zenga.hu//ingatlan/elado-hazresz-torokbalint/8520058?page=1&pos=7\n",
            "8. https://www.zenga.hu//ingatlan/elado-csaladi-haz-torokbalint/8649772?page=1&pos=8\n",
            "9. https://www.zenga.hu//ingatlan/elado-csaladi-haz-torokbalint-annahegy/8644752?page=1&pos=9\n",
            "10. https://www.zenga.hu//ingatlan/elado-csaladi-haz-torokbalint/8629521?page=1&pos=10\n",
            "11. https://www.zenga.hu//ingatlan/elado-csaladi-haz-torokbalint-ofalu/8059934?page=1&pos=11\n",
            "12. https://www.zenga.hu//ingatlan/elado-csaladi-haz-torokbalint/8506373?page=1&pos=12\n",
            "13. https://www.zenga.hu//ingatlan/elado-csaladi-haz-torokbalint-ofalu/8291269?page=1&pos=13\n",
            "14. https://www.zenga.hu//ingatlan/elado-csaladi-haz-torokbalint/8436279?page=1&pos=14\n",
            "15. https://www.zenga.hu//ingatlan/elado-sorhaz-torokbalint-ofalu/8389405?page=1&pos=15\n",
            "16. https://www.zenga.hu//ingatlan/elado-csaladi-haz-torokbalint/8623618?page=1&pos=16\n",
            "17. https://www.zenga.hu//ingatlan/elado-hazresz-torokbalint-ofalu/8586836?page=1&pos=17\n",
            "18. https://www.zenga.hu//ingatlan/elado-csaladi-haz-torokbalint-annahegy/8572421?page=1&pos=18\n",
            "19. https://www.zenga.hu//ingatlan/elado-csaladi-haz-torokbalint-ofalu/8531070?page=1&pos=19\n",
            "20. https://www.zenga.hu//ingatlan/elado-csaladi-haz-torokbalint/8179516?page=1&pos=20\n",
            "21. https://www.zenga.hu//ingatlan/elado-csaladi-haz-torokbalint/7886806?page=2&pos=1\n"
          ]
        }
      ]
    },
    {
      "cell_type": "code",
      "source": [
        "city=\"zsambek\"\n",
        "property=\"haz\""
      ],
      "metadata": {
        "id": "to2kmnlWRlg7"
      },
      "execution_count": null,
      "outputs": []
    },
    {
      "cell_type": "code",
      "source": [
        "zenga_links=get_all_url(city,property,20000000,100000000)\n",
        "df=pd.DataFrame(zenga_links,columns=['link'])\n",
        "csv_path='/content/drive/MyDrive/Zenga/'"
      ],
      "metadata": {
        "id": "Oc2TLBAtj4te",
        "colab": {
          "base_uri": "https://localhost:8080/"
        },
        "outputId": "688cb8b8-f6a4-4bb8-a911-1a624261a739"
      },
      "execution_count": null,
      "outputs": [
        {
          "output_type": "stream",
          "name": "stdout",
          "text": [
            "https://www.zenga.hu/zsambek+elado+haz+ar-20000000-100000000?page=\n",
            "Talált linkek száma:  37 találat \n",
            "Page: 1\n",
            "Talált linkek száma: 20\n",
            "Page: 2\n",
            "Talált linkek száma: 17\n",
            "1. https://www.zenga.hu//ingatlan/elado-csaladi-haz-zsambek/8669448?page=1&pos=1&cr=75\n",
            "2. https://www.zenga.hu//ingatlan/elado-csaladi-haz-zsambek/8497907?page=1&pos=2&cr=6\n",
            "3. https://www.zenga.hu//ingatlan/elado-csaladi-haz-zsambek/8659521?page=1&pos=3&cr=5\n",
            "4. https://www.zenga.hu//ingatlan/elado-ikerhaz-zsambek/8564513?page=1&pos=4\n",
            "5. https://www.zenga.hu//ingatlan/elado-ikerhaz-zsambek/8564520?page=1&pos=5\n",
            "6. https://www.zenga.hu//ingatlan/elado-csaladi-haz-zsambek/8519461?page=1&pos=6\n",
            "7. https://www.zenga.hu//ingatlan/elado-ikerhaz-zsambek/8646267?page=1&pos=7\n",
            "8. https://www.zenga.hu//ingatlan/elado-ikerhaz-zsambek/8564508?page=1&pos=8\n",
            "9. https://www.zenga.hu//ingatlan/elado-ikerhaz-zsambek/8564504?page=1&pos=9\n",
            "10. https://www.zenga.hu//ingatlan/elado-ikerhaz-zsambek/8445100?page=1&pos=10\n",
            "11. https://www.zenga.hu//ingatlan/elado-csaladi-haz-zsambek/8648326?page=1&pos=11\n",
            "12. https://www.zenga.hu//ingatlan/elado-ikerhaz-zsambek/8445097?page=1&pos=12\n",
            "13. https://www.zenga.hu//ingatlan/elado-ikerhaz-zsambek/8646284?page=1&pos=13\n",
            "14. https://www.zenga.hu//ingatlan/elado-csaladi-haz-zsambek/8494694?page=1&pos=14\n",
            "15. https://www.zenga.hu//ingatlan/elado-ikerhaz-zsambek/8390014?page=1&pos=15\n",
            "16. https://www.zenga.hu//ingatlan/elado-csaladi-haz-zsambek/8582639?page=1&pos=16\n",
            "17. https://www.zenga.hu//ingatlan/elado-ikerhaz-zsambek/8604997?page=1&pos=17\n",
            "18. https://www.zenga.hu//ingatlan/elado-csaladi-haz-zsambek/8651980?page=1&pos=18\n",
            "19. https://www.zenga.hu//ingatlan/elado-ikerhaz-zsambek/8558722?page=1&pos=19\n",
            "20. https://www.zenga.hu//ingatlan/elado-csaladi-haz-zsambek/8555582?page=1&pos=20\n",
            "21. https://www.zenga.hu//ingatlan/elado-ikerhaz-zsambek/8508349?page=2&pos=1\n",
            "22. https://www.zenga.hu//ingatlan/elado-ikerhaz-zsambek/8508732?page=2&pos=2\n",
            "23. https://www.zenga.hu//ingatlan/elado-ikerhaz-zsambek/8269715?page=2&pos=3\n",
            "24. https://www.zenga.hu//ingatlan/elado-ikerhaz-zsambek/8274635?page=2&pos=4\n",
            "25. https://www.zenga.hu//ingatlan/elado-ikerhaz-zsambek/8508731?page=2&pos=5\n",
            "26. https://www.zenga.hu//ingatlan/elado-ikerhaz-zsambek/8508733?page=2&pos=6\n",
            "27. https://www.zenga.hu//ingatlan/elado-ikerhaz-zsambek/8279417?page=2&pos=7\n",
            "28. https://www.zenga.hu//ingatlan/elado-ikerhaz-zsambek/8508729?page=2&pos=8\n",
            "29. https://www.zenga.hu//ingatlan/elado-csaladi-haz-zsambek/8517336?page=2&pos=9\n",
            "30. https://www.zenga.hu//ingatlan/elado-ikerhaz-zsambek/8279418?page=2&pos=10\n",
            "31. https://www.zenga.hu//ingatlan/elado-ikerhaz-zsambek/8508348?page=2&pos=11\n",
            "32. https://www.zenga.hu//ingatlan/elado-ikerhaz-zsambek/8554271?page=2&pos=12\n",
            "33. https://www.zenga.hu//ingatlan/elado-csaladi-haz-zsambek/8625316?page=2&pos=13\n",
            "34. https://www.zenga.hu//ingatlan/elado-csaladi-haz-zsambek/8596725?page=2&pos=14\n",
            "35. https://www.zenga.hu//ingatlan/elado-csaladi-haz-zsambek/8543504?page=2&pos=15\n",
            "36. https://www.zenga.hu//ingatlan/elado-csaladi-haz-zsambek/8494557?page=2&pos=16\n",
            "37. https://www.zenga.hu//ingatlan/elado-csaladi-haz-zsambek/7751056?page=2&pos=17\n"
          ]
        }
      ]
    },
    {
      "cell_type": "code",
      "source": [
        "df.to_csv(csv_path+f'links_{city}_{property}.csv',index=False)"
      ],
      "metadata": {
        "id": "gGpPtp2JjDog"
      },
      "execution_count": null,
      "outputs": []
    },
    {
      "cell_type": "code",
      "source": [
        "async def scrape_ad_text(url):\n",
        "    '''\n",
        "    Egy zenga.hu hirdetés részletező oldaláról leolvassa a leírást és az árat és visszaadja egy listában.\n",
        "\n",
        "    Paraméterek\n",
        "    -----------\n",
        "    url : str\n",
        "        A hirdetés részletező oldalának abszolút URL-je.\n",
        "\n",
        "    Visszatérés\n",
        "    -----------\n",
        "    list[dict[str, str]]\n",
        "        Alapesetben egy elemű lista, eleme: {\"url\": <url>, \"desc\": <leírás>, \"price\": <ár>}.\n",
        "        Hiba esetén a lista egy hibaüzenetet tartalmazó rekordot ad vissza\n",
        "        (ld. Megjegyzések a kulcsnév-konzisztenciáról).\n",
        "    '''\n",
        "\n",
        "    results = []\n",
        "    async with async_playwright() as p:\n",
        "        browser = await p.chromium.launch(headless=True)\n",
        "        page = await browser.new_page()\n",
        "\n",
        "\n",
        "        try:\n",
        "            print(f\"🔗 {url}\")\n",
        "            await page.goto(url, timeout=20000)\n",
        "            try:\n",
        "                await page.get_by_text(\"Összes süti engedélyezése\").click()\n",
        "                print(\"Süti elfogadva\")\n",
        "            except:\n",
        "                print(\"Süti gomb nem jelent meg\")\n",
        "\n",
        "\n",
        "            await page.wait_for_timeout(7000)\n",
        "            #await page.screenshot(path=\"screenshot.png\")  # DEBUG\n",
        "            desc_element = await page.query_selector(\"span[data-cy='advert-details-description']\")\n",
        "            desc_text = await desc_element.inner_text() if desc_element else \"Nincs szöveg\"\n",
        "            print(f\"Szöveg: {desc_text} \")\n",
        "\n",
        "            price_element = await page.query_selector(\"div[data-cy='advert-details-price']\")\n",
        "            price_text = await price_element.inner_text() if price_element else \"Nincs ár\"\n",
        "            print(f\"Ár: {price_text} \")\n",
        "\n",
        "\n",
        "            results.append({\"url\": url, \"desc\": desc_text, \"price\":price_text})\n",
        "        except Exception as e:\n",
        "            print(f\"Hiba: {str(e)}\")\n",
        "            results.append({\"url\": url, \"desc\": f\"Hiba: {str(e)}\",\"price\":f\"Hiba: {str(e)}\"})\n",
        "\n",
        "        await browser.close()\n",
        "\n",
        "    return results  #return a list\n"
      ],
      "metadata": {
        "id": "a8xw9GhrCarM"
      },
      "execution_count": null,
      "outputs": []
    },
    {
      "cell_type": "code",
      "source": [
        "_DEBUG_=True"
      ],
      "metadata": {
        "id": "nVMADeJO-SX_"
      },
      "execution_count": null,
      "outputs": []
    },
    {
      "cell_type": "code",
      "source": [
        "def scrape_zenga_list(z_list):\n",
        "    \"\"\"\n",
        "    A megadott zenga.hu hirdetés-URL-ek listáját sorban feldolgozza: mindegyikre lefuttatja a\n",
        "    `scrape_ad_text` aszinkron függvényt.\n",
        "\n",
        "    Paraméterek\n",
        "    -----------\n",
        "    z_list : list[str]\n",
        "        Hirdetés-részletező oldalak abszolút URL-jeinek listája.\n",
        "\n",
        "    Visszatérés\n",
        "    -----------\n",
        "    list[dict[str, str]]\n",
        "        A hirdetésekből kinyert rekordok listája. Az egyes elemek a `scrape_ad_text` által\n",
        "        visszaadott dict-ek (pl. {\"url\", \"desc\", \"price\"}.\n",
        "\n",
        "    \"\"\"\n",
        "    out_list=[]\n",
        "    for url in z_list:\n",
        "        url_data = asyncio.run(scrape_ad_text(url))\n",
        "        if _DEBUG_:\n",
        "            print(url_data)\n",
        "        out_list.extend(url_data)\n",
        "    return out_list"
      ],
      "metadata": {
        "id": "0GX-U9E7JWke"
      },
      "execution_count": null,
      "outputs": []
    },
    {
      "cell_type": "code",
      "source": [
        "%%capture\n",
        "zenga_data=scrape_zenga_list(zenga_links)"
      ],
      "metadata": {
        "id": "M65UJytUJ01V"
      },
      "execution_count": null,
      "outputs": []
    },
    {
      "cell_type": "code",
      "source": [
        "df=pd.DataFrame(zenga_data)\n",
        "csv_path='/content/drive/MyDrive/Zenga/'\n",
        "df.to_csv(csv_path+f'zenga_data_{city}_{property}.csv',index=False)"
      ],
      "metadata": {
        "id": "YApLrfYpSjbR"
      },
      "execution_count": null,
      "outputs": []
    },
    {
      "cell_type": "code",
      "source": [
        "szoveg=df.desc[0]"
      ],
      "metadata": {
        "id": "PcI7PbyRFSG9"
      },
      "execution_count": null,
      "outputs": []
    },
    {
      "cell_type": "code",
      "source": [
        "raise SystemExit(\"🛑 Kód megszakítva ezen a ponton.\") # A következő rész a AI prompt beállításait tartalmazza"
      ],
      "metadata": {
        "colab": {
          "base_uri": "https://localhost:8080/",
          "height": 128
        },
        "id": "zmCIZa0GTgLC",
        "outputId": "5482b1cb-8fa7-44b3-e780-cb34f858abcf"
      },
      "execution_count": null,
      "outputs": [
        {
          "output_type": "error",
          "ename": "SystemExit",
          "evalue": "🛑 Kód megszakítva ezen a ponton.",
          "traceback": [
            "An exception has occurred, use %tb to see the full traceback.\n",
            "\u001b[0;31mSystemExit\u001b[0m\u001b[0;31m:\u001b[0m 🛑 Kód megszakítva ezen a ponton.\n"
          ]
        },
        {
          "output_type": "stream",
          "name": "stderr",
          "text": [
            "/usr/local/lib/python3.12/dist-packages/IPython/core/interactiveshell.py:3561: UserWarning: To exit: use 'exit', 'quit', or Ctrl-D.\n",
            "  warn(\"To exit: use 'exit', 'quit', or Ctrl-D.\", stacklevel=1)\n"
          ]
        }
      ]
    },
    {
      "cell_type": "code",
      "source": [
        "city=\"zsambek\"\n",
        "property=\"haz\""
      ],
      "metadata": {
        "id": "CxRmYlGuXvLr"
      },
      "execution_count": null,
      "outputs": []
    },
    {
      "cell_type": "code",
      "source": [
        "#ujraépítjuk az adatokat, innen bármikor el kell indulni bármilyen csv-ből.\n",
        "csv_path='/content/drive/MyDrive/Zenga/'\n",
        "df_city=pd.read_csv(csv_path+f'zenga_data_{city}.csv')"
      ],
      "metadata": {
        "id": "ssi9kr2f42f3"
      },
      "execution_count": null,
      "outputs": []
    },
    {
      "cell_type": "code",
      "metadata": {
        "id": "6842f3b1"
      },
      "source": [
        "from openai import OpenAI\n",
        "import json"
      ],
      "execution_count": null,
      "outputs": []
    },
    {
      "cell_type": "code",
      "source": [
        "from google.colab import userdata\n",
        "key=userdata.get('OpenAi_API')"
      ],
      "metadata": {
        "id": "kyJt3WXLyKQH"
      },
      "execution_count": null,
      "outputs": []
    },
    {
      "cell_type": "code",
      "source": [
        "#Demo szöveg\n",
        "szoveg='''\n",
        "Budafok szép panorámás részén a Rózsavölgy feletti dombon, csendes mellékutcában eladó egy bájos kis ház 520 négyzetméteres telken.\n",
        "\n",
        "A kis ház 35 négyzetméteres, egy légtérben van kialakítva benne a nappali, melyet részben nyitott válaszfallal szeparáltak el a konyha-étkező résztől. A zuhanyzós fürdő és a WC egy helyiségben található.\n",
        "\n",
        "A víz, az áram és az internet be van kötve a házba. Gáz és csatorna az utcában. A csatorna bevezetését már kezdeményezte a szomszédos telek tulajdonosa.\n",
        "\n",
        "A telken áll egy másik kis házikó is, ami jelenleg egy 9 négyzetméteres szobaként funkcionál.\n",
        "\n",
        "A kert szép és gondozott, sok gyümölcsfával. Nagyobb mérete miatt sok lehetőséget rejt. Kialakítható rajta több nagy magaságyás, építhető kerti medence vagy finn szauna is.\n",
        "\n",
        "További információkért és időpont egyeztetésért kérem hívjon telefononn.\n",
        "Hitellel vásárlás esetén bankfüggetlen és DÍJMENTES hiteltanácsadó közreműködését biztosítjuk, aki a teljes folyamaton végigkíséri Önt.\n",
        "Az adásvétel biztonságos és gördülékeny bonyolítása érdekében tapasztalt ingatlan szakjogászaink szolgáltatását is ajánlom.\n",
        "'''"
      ],
      "metadata": {
        "id": "PMGh2RYuK_TD"
      },
      "execution_count": null,
      "outputs": []
    },
    {
      "cell_type": "code",
      "source": [
        "szoveg=df_city.desc[0]\n",
        "\n",
        "\n",
        "print(szoveg)\n",
        "print(df_city.url[0])"
      ],
      "metadata": {
        "colab": {
          "base_uri": "https://localhost:8080/"
        },
        "id": "Sa8OELoo5xca",
        "outputId": "1201dcd9-4397-420f-f7b3-1027d3036d72"
      },
      "execution_count": null,
      "outputs": [
        {
          "output_type": "stream",
          "name": "stdout",
          "text": [
            "3563 m2-es TELEK!!!!!!\n",
            "Zsámbékon központi helyen, ÉPÍTÉSI ÖVEZETBEN két utcáról megközelíthető telek, rajta egy 143 m2-es felújítandó vagy bontandó házzal eladó!!! A családi ház 1960-as években épült és hat szobából két fürdőszobából egy konyhából, három kamrából áll. BEFEKTETŐKNEK ajánlom figyelmébe, ugyanis\n",
            "a telek méretéből adódóan ikerház is építhető rá.\n",
            "Lke-0-3 jelű építési övezetbe tartozik, 30% beépíthető!\n",
            "Amennyiben felkeltette az érdeklődését és megtekintené az ingatlant hívjon bizalommal, akár hétvégén is.\n",
            "https://www.zenga.hu//ingatlan/elado-csaladi-haz-zsambek/8497907?page=1&pos=1&cr=6\n"
          ]
        }
      ]
    },
    {
      "cell_type": "code",
      "source": [
        "def create_prompt(szoveg):\n",
        "    prompt_message=[\n",
        "            {\"role\": \"system\",\n",
        "             \"content\": f'''\n",
        "                    Te egy ingatlanhirdetés-elemző nyelvész vagy, komoly ingatlanhirdetési tapasztalattal.\n",
        "                    Célod, hogy az ingatlan hirdetések tökéletesek legyenek ezért kidolgoztál egy hirdetés értékelési szempontrendszert.\n",
        "                    Ezek a szempontok alapján tökéletes értékelést tudsz adni az adott hirdetés szövege alapján.\n",
        "                    A szempontok:\n",
        "                        1. Érthetőség\n",
        "                        2. Részletesség / információtartalom\n",
        "                        3. Szerkezet, logikai felépítés\n",
        "                        4. Célcsoport megszólítása\n",
        "                        5. Stílus és nyelvhelyesség\n",
        "                        6. Előnyök kiemelése\n",
        "                        7. Negatívumok őszinte kezelése\n",
        "                        8. Eladásra ösztönzés'''},\n",
        "            {\"role\": \"user\",\n",
        "             \"content\": \"\"\"\n",
        "                            Értékeld az alábbi ingatlanhirdetés szöveget és az értékelést a scoring mezőbe helyezzed el.\n",
        "                            Az alábbi szempontok alapján 1–5-ig pontozzad, és hozz létre egy összesített eredményt  1-8 közötti szempontok értékelésének átlagaként ez legyen a 9. Összesítés :\n",
        "                            Majd a tudásod alapján adj egy alternatív javaslatot az eredeti szöveg javítására, hogy a lehető legjobban megfeleljen a szempontoknak.\n",
        "                            Az alternatív javaslatot strukturáld, és tördeld a jobb érthetőség érdekében, de markdown formátumot ne használj!\n",
        "                            Fontos, hogy a saját szempontrendszered szerint az alternatív javaslatod értékelése jobb legyen az eredeti értékelésnél!\n",
        "                            A válaszod csak érvényes JSON formátumban legyen, pontosan az alábbi struktúrában:\n",
        "\n",
        "                            {\"scoring\":\n",
        "                                {\n",
        "\n",
        "                                    \"Érthetőség\": <szám>,\n",
        "                                    \"Részletesség\": <szám>,\n",
        "                                    \"Szerkezet\": <szám>,\n",
        "                                    \"Célcsoport\": <szám>,\n",
        "                                    \"Stílus\": <szám>,\n",
        "                                    \"Előnyök\": <szám>,\n",
        "                                    \"Negatívumok\": <szám>,\n",
        "                                    \"Ösztönzés\": <szám>,\n",
        "                                    \"Összesítés\": <szám.tizedes>\"\n",
        "                                },\n",
        "                            \"proposal\":\"Ide kerüljön a javított szöveg javaslatod\"\n",
        "                            }\n",
        "\n",
        "\n",
        "                    A HIRDETÉS SZÖVEGE:\n",
        "                        \"\"\"+f\" {szoveg}\"}\n",
        "        ]\n",
        "    return prompt_message\n"
      ],
      "metadata": {
        "id": "dCeg519FjA1e"
      },
      "execution_count": null,
      "outputs": []
    },
    {
      "cell_type": "code",
      "source": [
        "prompt_message=create_prompt(szoveg)\n"
      ],
      "metadata": {
        "id": "3QAd5oiRFVZd"
      },
      "execution_count": null,
      "outputs": []
    },
    {
      "cell_type": "code",
      "source": [
        "def get_response(szoveg:str):\n",
        "    '''\n",
        "    A megadott szöveghez promptot készít (`create_prompt`), elküldi az OpenAI Chat\n",
        "    Completions API-nak (gpt-4o), majd a választ JSON-ként beolvassa és dict-ként visszaadja.\n",
        "\n",
        "    Paraméterek\n",
        "    -----------\n",
        "    szoveg : str\n",
        "        A bemeneti szöveg, amelyből a `create_prompt` összeállítja a `messages` listát.\n",
        "\n",
        "    Visszatérés\n",
        "    -----------\n",
        "    dict\n",
        "        A modell által visszaadott JSON objektum, Python dict-be parse-olva.\n",
        "    '''\n",
        "    client = OpenAI(api_key=key)\n",
        "    prompt_message=create_prompt(szoveg)\n",
        "    response = client.chat.completions.create(\n",
        "        model=\"gpt-4o\",\n",
        "        messages=prompt_message,\n",
        "        temperature=0.5,\n",
        "        max_tokens=7000\n",
        "    )\n",
        "\n",
        "    content = response.choices[0].message.content\n",
        "\n",
        "    # a gpt-4 így adja vissza a json választ, kiszedjük a jsont a felesleges keretből\n",
        "    if content.startswith(\"```json\"):\n",
        "        content = content.strip(\"`\").lstrip(\"json\").strip()\n",
        "\n",
        "    #\n",
        "    out_dict = json.loads(content)\n",
        "\n",
        "    return(out_dict)"
      ],
      "metadata": {
        "id": "yFMMubHWndJ_"
      },
      "execution_count": null,
      "outputs": []
    },
    {
      "cell_type": "code",
      "source": [
        "resp_data=get_response(prompt_message)"
      ],
      "metadata": {
        "id": "mEusV3hnnjEK"
      },
      "execution_count": null,
      "outputs": []
    },
    {
      "cell_type": "code",
      "source": [
        "print(resp_data)"
      ],
      "metadata": {
        "colab": {
          "base_uri": "https://localhost:8080/"
        },
        "id": "xscKdn5Bgsby",
        "outputId": "607cd976-683b-450e-e579-823dbf1c854d"
      },
      "execution_count": null,
      "outputs": [
        {
          "output_type": "stream",
          "name": "stdout",
          "text": [
            "{'scoring': {'Érthetőség': 4, 'Részletesség': 3, 'Szerkezet': 3, 'Célcsoport': 4, 'Stílus': 3, 'Előnyök': 4, 'Negatívumok': 2, 'Ösztönzés': 3, 'Összesítés': 3.3}, 'proposal': 'Eladó Zsámbékon, központi helyen található 3563 m2-es telek, amely két utcáról is megközelíthető. Az ingatlanon egy 143 m2-es, 1960-as években épült családi ház található, amely felújítandó vagy bontandó állapotú. A ház hat szobából, két fürdőszobából, egy konyhából és három kamrából áll.\\n\\nA telek Lke-0-3 jelű építési övezetbe tartozik, ahol 30% beépíthetőség lehetséges, így ikerház építésére is alkalmas. Kiváló lehetőség befektetők számára!\\n\\nHa felkeltette érdeklődését, kérem, hívjon bizalommal, akár hétvégén is, hogy megtekintse az ingatlant!'}\n"
          ]
        }
      ]
    },
    {
      "cell_type": "code",
      "source": [
        "resp_data[\"scoring\"]"
      ],
      "metadata": {
        "colab": {
          "base_uri": "https://localhost:8080/"
        },
        "id": "lHbiezDEJRi8",
        "outputId": "1a4b0187-a5b1-4d2e-e881-cfd441843740"
      },
      "execution_count": null,
      "outputs": [
        {
          "output_type": "execute_result",
          "data": {
            "text/plain": [
              "{'Érthetőség': 4,\n",
              " 'Részletesség': 3,\n",
              " 'Szerkezet': 3,\n",
              " 'Célcsoport': 4,\n",
              " 'Stílus': 3,\n",
              " 'Előnyök': 4,\n",
              " 'Negatívumok': 2,\n",
              " 'Ösztönzés': 3,\n",
              " 'Összesítés': 3.3}"
            ]
          },
          "metadata": {},
          "execution_count": 30
        }
      ]
    },
    {
      "cell_type": "code",
      "source": [
        "resp_data[\"proposal\"]"
      ],
      "metadata": {
        "colab": {
          "base_uri": "https://localhost:8080/",
          "height": 54
        },
        "id": "F2SIdNj_CMop",
        "outputId": "b2713d4a-f3f6-4795-81b2-aee8bb1c0ff5"
      },
      "execution_count": null,
      "outputs": [
        {
          "output_type": "execute_result",
          "data": {
            "text/plain": [
              "'Eladó Zsámbékon, központi helyen található 3563 m2-es telek, amely két utcáról is megközelíthető. Az ingatlanon egy 143 m2-es, 1960-as években épült családi ház található, amely felújítandó vagy bontandó állapotú. A ház hat szobából, két fürdőszobából, egy konyhából és három kamrából áll.\\n\\nA telek Lke-0-3 jelű építési övezetbe tartozik, ahol 30% beépíthetőség lehetséges, így ikerház építésére is alkalmas. Kiváló lehetőség befektetők számára!\\n\\nHa felkeltette érdeklődését, kérem, hívjon bizalommal, akár hétvégén is, hogy megtekintse az ingatlant!'"
            ],
            "application/vnd.google.colaboratory.intrinsic+json": {
              "type": "string"
            }
          },
          "metadata": {},
          "execution_count": 31
        }
      ]
    }
  ]
}