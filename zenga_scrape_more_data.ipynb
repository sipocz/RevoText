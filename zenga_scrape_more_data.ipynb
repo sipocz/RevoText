{
  "cells": [
    {
      "cell_type": "code",
      "execution_count": null,
      "metadata": {
        "colab": {
          "base_uri": "https://localhost:8080/"
        },
        "id": "PjvBX7hU2-Cx",
        "outputId": "d00c565d-2354-4dd7-988c-fa4a4790f15b"
      },
      "outputs": [
        {
          "output_type": "stream",
          "name": "stdout",
          "text": [
            "\u001b[2K   \u001b[90m━━━━━━━━━━━━━━━━━━━━━━━━━━━━━━━━━━━━━━━━\u001b[0m \u001b[32m45.9/45.9 MB\u001b[0m \u001b[31m57.4 MB/s\u001b[0m eta \u001b[36m0:00:00\u001b[0m\n",
            "\u001b[?25hDownloading Chromium 139.0.7258.5 (playwright build v1181)\u001b[2m from https://cdn.playwright.dev/dbazure/download/playwright/builds/chromium/1181/chromium-linux.zip\u001b[22m\n",
            "\u001b[1G172.5 MiB [] 0% 0.0s\u001b[0K\u001b[1G172.5 MiB [] 0% 50.3s\u001b[0K\u001b[1G172.5 MiB [] 0% 29.5s\u001b[0K\u001b[1G172.5 MiB [] 0% 17.6s\u001b[0K\u001b[1G172.5 MiB [] 0% 9.5s\u001b[0K\u001b[1G172.5 MiB [] 1% 5.0s\u001b[0K\u001b[1G172.5 MiB [] 2% 3.4s\u001b[0K\u001b[1G172.5 MiB [] 4% 2.5s\u001b[0K\u001b[1G172.5 MiB [] 5% 2.2s\u001b[0K\u001b[1G172.5 MiB [] 7% 1.9s\u001b[0K\u001b[1G172.5 MiB [] 8% 1.7s\u001b[0K\u001b[1G172.5 MiB [] 10% 1.5s\u001b[0K\u001b[1G172.5 MiB [] 12% 1.4s\u001b[0K\u001b[1G172.5 MiB [] 14% 1.3s\u001b[0K\u001b[1G172.5 MiB [] 16% 1.2s\u001b[0K\u001b[1G172.5 MiB [] 18% 1.1s\u001b[0K\u001b[1G172.5 MiB [] 19% 1.1s\u001b[0K\u001b[1G172.5 MiB [] 21% 1.0s\u001b[0K\u001b[1G172.5 MiB [] 23% 0.9s\u001b[0K\u001b[1G172.5 MiB [] 26% 0.8s\u001b[0K\u001b[1G172.5 MiB [] 28% 0.8s\u001b[0K\u001b[1G172.5 MiB [] 30% 0.8s\u001b[0K\u001b[1G172.5 MiB [] 33% 0.7s\u001b[0K\u001b[1G172.5 MiB [] 35% 0.7s\u001b[0K\u001b[1G172.5 MiB [] 38% 0.6s\u001b[0K\u001b[1G172.5 MiB [] 40% 0.6s\u001b[0K\u001b[1G172.5 MiB [] 43% 0.6s\u001b[0K\u001b[1G172.5 MiB [] 45% 0.5s\u001b[0K\u001b[1G172.5 MiB [] 47% 0.5s\u001b[0K\u001b[1G172.5 MiB [] 49% 0.5s\u001b[0K\u001b[1G172.5 MiB [] 52% 0.4s\u001b[0K\u001b[1G172.5 MiB [] 54% 0.4s\u001b[0K\u001b[1G172.5 MiB [] 56% 0.4s\u001b[0K\u001b[1G172.5 MiB [] 58% 0.4s\u001b[0K\u001b[1G172.5 MiB [] 60% 0.4s\u001b[0K\u001b[1G172.5 MiB [] 62% 0.3s\u001b[0K\u001b[1G172.5 MiB [] 64% 0.3s\u001b[0K\u001b[1G172.5 MiB [] 67% 0.3s\u001b[0K\u001b[1G172.5 MiB [] 69% 0.3s\u001b[0K\u001b[1G172.5 MiB [] 71% 0.2s\u001b[0K\u001b[1G172.5 MiB [] 74% 0.2s\u001b[0K\u001b[1G172.5 MiB [] 76% 0.2s\u001b[0K\u001b[1G172.5 MiB [] 78% 0.2s\u001b[0K\u001b[1G172.5 MiB [] 81% 0.2s\u001b[0K\u001b[1G172.5 MiB [] 83% 0.1s\u001b[0K\u001b[1G172.5 MiB [] 86% 0.1s\u001b[0K\u001b[1G172.5 MiB [] 88% 0.1s\u001b[0K\u001b[1G172.5 MiB [] 91% 0.1s\u001b[0K\u001b[1G172.5 MiB [] 93% 0.1s\u001b[0K\u001b[1G172.5 MiB [] 95% 0.0s\u001b[0K\u001b[1G172.5 MiB [] 98% 0.0s\u001b[0K\u001b[1G172.5 MiB [] 99% 0.0s\u001b[0K\u001b[1G172.5 MiB [] 100% 0.0s\u001b[0K\n",
            "Chromium 139.0.7258.5 (playwright build v1181) downloaded to /root/.cache/ms-playwright/chromium-1181\n",
            "Downloading FFMPEG playwright build v1011\u001b[2m from https://cdn.playwright.dev/dbazure/download/playwright/builds/ffmpeg/1011/ffmpeg-linux.zip\u001b[22m\n",
            "\u001b[1G2.3 MiB [] 0% 0.0s\u001b[0K\u001b[1G2.3 MiB [] 2% 0.7s\u001b[0K\u001b[1G2.3 MiB [] 8% 0.4s\u001b[0K\u001b[1G2.3 MiB [] 20% 0.2s\u001b[0K\u001b[1G2.3 MiB [] 51% 0.1s\u001b[0K\u001b[1G2.3 MiB [] 100% 0.0s\u001b[0K\n",
            "FFMPEG playwright build v1011 downloaded to /root/.cache/ms-playwright/ffmpeg-1011\n",
            "Downloading Chromium Headless Shell 139.0.7258.5 (playwright build v1181)\u001b[2m from https://cdn.playwright.dev/dbazure/download/playwright/builds/chromium/1181/chromium-headless-shell-linux.zip\u001b[22m\n",
            "\u001b[1G104.8 MiB [] 0% 0.0s\u001b[0K\u001b[1G104.8 MiB [] 0% 30.6s\u001b[0K\u001b[1G104.8 MiB [] 0% 17.9s\u001b[0K\u001b[1G104.8 MiB [] 0% 10.7s\u001b[0K\u001b[1G104.8 MiB [] 1% 6.0s\u001b[0K\u001b[1G104.8 MiB [] 2% 2.9s\u001b[0K\u001b[1G104.8 MiB [] 4% 1.9s\u001b[0K\u001b[1G104.8 MiB [] 7% 1.5s\u001b[0K\u001b[1G104.8 MiB [] 9% 1.3s\u001b[0K\u001b[1G104.8 MiB [] 11% 1.1s\u001b[0K\u001b[1G104.8 MiB [] 14% 1.0s\u001b[0K\u001b[1G104.8 MiB [] 17% 0.9s\u001b[0K\u001b[1G104.8 MiB [] 20% 0.8s\u001b[0K\u001b[1G104.8 MiB [] 23% 0.7s\u001b[0K\u001b[1G104.8 MiB [] 27% 0.6s\u001b[0K\u001b[1G104.8 MiB [] 31% 0.5s\u001b[0K\u001b[1G104.8 MiB [] 34% 0.5s\u001b[0K\u001b[1G104.8 MiB [] 37% 0.5s\u001b[0K\u001b[1G104.8 MiB [] 41% 0.4s\u001b[0K\u001b[1G104.8 MiB [] 45% 0.4s\u001b[0K\u001b[1G104.8 MiB [] 48% 0.3s\u001b[0K\u001b[1G104.8 MiB [] 52% 0.3s\u001b[0K\u001b[1G104.8 MiB [] 57% 0.3s\u001b[0K\u001b[1G104.8 MiB [] 61% 0.2s\u001b[0K\u001b[1G104.8 MiB [] 64% 0.2s\u001b[0K\u001b[1G104.8 MiB [] 69% 0.2s\u001b[0K\u001b[1G104.8 MiB [] 72% 0.2s\u001b[0K\u001b[1G104.8 MiB [] 76% 0.1s\u001b[0K\u001b[1G104.8 MiB [] 80% 0.1s\u001b[0K\u001b[1G104.8 MiB [] 83% 0.1s\u001b[0K\u001b[1G104.8 MiB [] 87% 0.1s\u001b[0K\u001b[1G104.8 MiB [] 91% 0.0s\u001b[0K\u001b[1G104.8 MiB [] 96% 0.0s\u001b[0K\u001b[1G104.8 MiB [] 99% 0.0s\u001b[0K\u001b[1G104.8 MiB [] 100% 0.0s\u001b[0K\n",
            "Chromium Headless Shell 139.0.7258.5 (playwright build v1181) downloaded to /root/.cache/ms-playwright/chromium_headless_shell-1181\n"
          ]
        }
      ],
      "source": [
        "!pip install -q playwright nest_asyncio\n",
        "!playwright install chromium\n",
        "import nest_asyncio\n",
        "import asyncio\n",
        "import pandas as pd\n",
        "from playwright.async_api import async_playwright\n",
        "import re\n",
        "nest_asyncio.apply()\n"
      ]
    },
    {
      "cell_type": "code",
      "execution_count": null,
      "metadata": {
        "id": "NMjPOnj1Q1On"
      },
      "outputs": [],
      "source": [
        "_BASE_URL_='https://www.zenga.hu'\n",
        "def url_creator(place:str=\"pest\",prop_type:str=\"haz\",price_min=40000000, price_max=100000000):\n",
        "\n",
        "    return f\"{_BASE_URL_}/{place}+elado+{prop_type}+ar-{price_min}-{price_max}?page=\""
      ]
    },
    {
      "cell_type": "code",
      "execution_count": null,
      "metadata": {
        "colab": {
          "base_uri": "https://localhost:8080/",
          "height": 35
        },
        "id": "F_xbVMRyRL9j",
        "outputId": "ffc18a92-3f94-41bf-9702-d24628cbf867"
      },
      "outputs": [
        {
          "output_type": "execute_result",
          "data": {
            "text/plain": [
              "'https://www.zenga.hu/biatorbagy+elado+haz+ar-40000000-100000000?page='"
            ],
            "application/vnd.google.colaboratory.intrinsic+json": {
              "type": "string"
            }
          },
          "metadata": {},
          "execution_count": 3
        }
      ],
      "source": [
        "url_creator(\"biatorbagy\")"
      ]
    },
    {
      "cell_type": "code",
      "execution_count": null,
      "metadata": {
        "id": "668y5fsu64yX"
      },
      "outputs": [],
      "source": [
        "async def scrape_nof_links(start_url=\"https://www.zenga.hu/komarom-esztergom-megye+elado+haz?page=\",page_num=1):\n",
        "    '''\n",
        "    Az megadott strat_url oldalán lévő linkek számát adja vissza\n",
        "    :param start_url: az oldal url-je\n",
        "    :param page_num: az oldal száma\n",
        "    '''\n",
        "    start_url = start_url+str(page_num)\n",
        "    links = []\n",
        "\n",
        "    async with async_playwright() as p:\n",
        "        browser = await p.chromium.launch(headless=True)\n",
        "        page = await browser.new_page()\n",
        "        await page.goto(start_url)\n",
        "        await page.wait_for_timeout(8000)\n",
        "\n",
        "        # Scroll, hogy több kártya betöltődjön\n",
        "        await page.mouse.wheel(0, 5000)\n",
        "        await page.wait_for_timeout(6000)\n",
        "\n",
        "        div_list = await page.query_selector_all(\"div[data-cy='search-page-total-count']\") # linkek itt vannak a html-ben\n",
        "        text=await div_list[0].text_content()\n",
        "        print(f\"Talált linkek száma: {text}\")\n",
        "        number_of_links = int(re.search(r'\\d+', text.replace('\\u00A0', '').replace(' ', '')).group())\n",
        "\n",
        "\n",
        "        await browser.close()\n",
        "        return number_of_links"
      ]
    },
    {
      "cell_type": "code",
      "execution_count": null,
      "metadata": {
        "colab": {
          "base_uri": "https://localhost:8080/"
        },
        "id": "fQExZhPu7-XR",
        "outputId": "1356c09e-fa62-4569-8d2e-63db8d3d8138"
      },
      "outputs": [
        {
          "output_type": "stream",
          "name": "stdout",
          "text": [
            "Talált linkek száma:  1 823 találat \n",
            "A keresésnek megfelelő linkek száma:1823\n"
          ]
        }
      ],
      "source": [
        "number_of_links=await scrape_nof_links()\n",
        "print(f\"A keresésnek megfelelő linkek száma:{number_of_links}\")"
      ]
    },
    {
      "cell_type": "code",
      "execution_count": null,
      "metadata": {
        "id": "7MkS16R4TvZ6"
      },
      "outputs": [],
      "source": [
        "async def scrape_zenga_links(start_url=\"https://www.zenga.hu/komarom-esztergom-megye+elado+haz?page=\",zenga_page=1)->list:\n",
        "    '''\n",
        "    A zenga.hu adott keresési oldaláról (oldalszám alapján) összegyűjti az ingatlanhirdetések\n",
        "    kártyalinkjeit.\n",
        "\n",
        "    Paraméterek\n",
        "    ----------\n",
        "        start_url : str, alapértelmezett: \"https://www.zenga.hu/komarom-esztergom-megye+elado+haz?page=\"\n",
        "            A listaoldal alapprefixe, amely \"page=\" végű query-vel zárul. A függvény a megadott\n",
        "            oldalszámot fűzi a végére.\n",
        "        zenga_page : int, alapértelmezett: 1\n",
        "            A lekérdezni kívánt oldal száma.\n",
        "\n",
        "    Visszatérés\n",
        "    -----------\n",
        "        list[str]\n",
        "            A hirdetéskártyák abszolút URL-jeinek listája.\n",
        "    '''\n",
        "\n",
        "    start_url = start_url+str(zenga_page)\n",
        "    links = []\n",
        "\n",
        "    async with async_playwright() as p:\n",
        "        browser = await p.chromium.launch(headless=True)\n",
        "        page = await browser.new_page()\n",
        "        await page.goto(start_url)\n",
        "        await page.wait_for_timeout(8000)\n",
        "\n",
        "        # Scroll, hogy több kártya betöltődjön\n",
        "        await page.mouse.wheel(0, 5000)\n",
        "        await page.wait_for_timeout(3000)\n",
        "\n",
        "        a_links = await page.query_selector_all(\"a[data-cy='advert-card-link']\") # linkek itt vannak a html-ben\n",
        "        print(f\"Talált linkek száma: {len(a_links)}\")\n",
        "\n",
        "        for a in a_links:\n",
        "            href = await a.get_attribute(\"href\")\n",
        "            if href:\n",
        "                links.append(_BASE_URL_ + \"/\" + href)\n",
        "\n",
        "        await browser.close()\n",
        "        return links"
      ]
    },
    {
      "cell_type": "code",
      "execution_count": null,
      "metadata": {
        "id": "rMNz1W8j4iyM"
      },
      "outputs": [],
      "source": [
        "def get_all_url(place:str,prop_type=\"udulo-hetvegi-haz\",l_price=40000000, h_price=100000000)->list:\n",
        "    '''\n",
        "    A megadott hely (place), ingatlantípus (prop_type) és ársáv (HUF) alapján összegyűjti a\n",
        "    zenga.hu hirdetéslistáiról az összes hirdetés URL-jét. Először lekéri a találatok\n",
        "    számát, majd az összes szükséges oldalon végiglépked és kimenti a linkeket.\n",
        "\n",
        "    Paraméterek\n",
        "    -----------\n",
        "    place : str\n",
        "        Település/megyenév vagy slug, amit a `url_creator` elfogad (pl. \"komarom-esztergom-megye\").\n",
        "    prop_type : str, alapértelmezett: \"haz\"\n",
        "        Ingatlantípus (pl. \"haz\", \"lakas\", \"telek\"). (Megj.: ütközik a beépített `type` névvel.)\n",
        "    l_price : int, alapértelmezett: 40_000_000\n",
        "        Alsó árhatár HUF-ban.\n",
        "    h_price : int, alapértelmezett: 100_000_000\n",
        "        Felső árhatár HUF-ban.\n",
        "\n",
        "    Visszatérés\n",
        "    -----------\n",
        "    list[str]\n",
        "        A talált hirdetések abszolút URL-jeinek listája.\n",
        "    '''\n",
        "\n",
        "    url=url_creator(place=place,type=prop_type,price_min=l_price,price_max=h_price)\n",
        "    print(url)\n",
        "    zenga_links=[]\n",
        "\n",
        "    no_links = asyncio.run(scrape_nof_links(start_url=url,page_num=1))\n",
        "    # Futtatás\n",
        "\n",
        "    for i in range(-(-no_links // 20)):\n",
        "        print(f\"Page: {i+1}\")\n",
        "        zenga_page = asyncio.run( scrape_zenga_links(start_url=url,zenga_page=i+1))\n",
        "        zenga_links.extend(zenga_page)\n",
        "    # Kiírás\n",
        "    for i, link in enumerate(zenga_links, 1):\n",
        "        print(f\"{i}. {link}\")\n",
        "    return zenga_links\n"
      ]
    },
    {
      "cell_type": "code",
      "execution_count": null,
      "metadata": {
        "colab": {
          "base_uri": "https://localhost:8080/"
        },
        "id": "8TQVExFRTqS4",
        "outputId": "e8f53802-e072-4bb3-c9c3-bda88593282c"
      },
      "outputs": [
        {
          "output_type": "stream",
          "name": "stdout",
          "text": [
            "https://www.zenga.hu/biatorbagy+elado+haz+ar-40000000-100000000?page=\n",
            "Talált linkek száma:  13 találat \n",
            "Page: 1\n",
            "Talált linkek száma: 13\n",
            "1. https://www.zenga.hu//ingatlan/elado-csaladi-haz-biatorbagy-torbagy/8661104?page=1&pos=1&cr=79\n",
            "2. https://www.zenga.hu//ingatlan/elado-csaladi-haz-biatorbagy/8323033?page=1&pos=2&cr=20\n",
            "3. https://www.zenga.hu//ingatlan/elado-csaladi-haz-biatorbagy/8595591?page=1&pos=3\n",
            "4. https://www.zenga.hu//ingatlan/elado-csaladi-haz-biatorbagy/8656953?page=1&pos=4\n",
            "5. https://www.zenga.hu//ingatlan/elado-csaladi-haz-biatorbagy/8655481?page=1&pos=5\n",
            "6. https://www.zenga.hu//ingatlan/elado-hazresz-biatorbagy/8651573?page=1&pos=6\n",
            "7. https://www.zenga.hu//ingatlan/elado-csaladi-haz-biatorbagy/8345664?page=1&pos=7\n",
            "8. https://www.zenga.hu//ingatlan/elado-csaladi-haz-biatorbagy/8244737?page=1&pos=8\n",
            "9. https://www.zenga.hu//ingatlan/elado-kuria-biatorbagy/7907575?page=1&pos=9\n",
            "10. https://www.zenga.hu//ingatlan/elado-csaladi-haz-biatorbagy-bia/8059292?page=1&pos=10\n",
            "11. https://www.zenga.hu//ingatlan/elado-csaladi-haz-biatorbagy-katalinhegy/8042674?page=1&pos=11\n",
            "12. https://www.zenga.hu//ingatlan/elado-csaladi-haz-biatorbagy-torbagy/7772356?page=1&pos=12\n",
            "13. https://www.zenga.hu//ingatlan/elado-egyeb-haz-biatorbagy-katalinhegy/7500094?page=1&pos=13\n"
          ]
        }
      ],
      "source": [
        "zenga_links=get_all_url(\"biatorbagy\",\"haz\",40000000,100000000) # csak teszt"
      ]
    },
    {
      "cell_type": "code",
      "execution_count": null,
      "metadata": {
        "id": "4TvwgMowi_xA"
      },
      "outputs": [],
      "source": [
        "\n"
      ]
    },
    {
      "cell_type": "code",
      "source": [
        "city=\"balaton-deli-part+balaton-eszaki-part\"\n",
        "property=\"udulo-hetvegi-haz\" # \"udulo-hetvegi-haz\", \"haz\""
      ],
      "metadata": {
        "id": "ptPVveWy7Dp9"
      },
      "execution_count": null,
      "outputs": []
    },
    {
      "cell_type": "code",
      "execution_count": null,
      "metadata": {
        "colab": {
          "base_uri": "https://localhost:8080/"
        },
        "id": "Oc2TLBAtj4te",
        "outputId": "718be1ae-411c-4b1f-f14f-fa79e65f867f"
      },
      "outputs": [
        {
          "output_type": "stream",
          "name": "stdout",
          "text": [
            "https://www.zenga.hu/balaton-deli-part+balaton-eszaki-part+elado+udulo-hetvegi-haz+ar-10000000-40000000?page=\n",
            "Talált linkek száma:  128 találat \n",
            "Page: 1\n",
            "Talált linkek száma: 20\n",
            "Page: 2\n",
            "Talált linkek száma: 20\n",
            "Page: 3\n",
            "Talált linkek száma: 20\n",
            "Page: 4\n",
            "Talált linkek száma: 20\n",
            "Page: 5\n",
            "Talált linkek száma: 20\n",
            "Page: 6\n",
            "Talált linkek száma: 20\n",
            "Page: 7\n",
            "Talált linkek száma: 8\n",
            "1. https://www.zenga.hu//ingatlan/elado-udulo-nyaralo-gyenesdias/8669458?page=1&pos=1&cr=95\n",
            "2. https://www.zenga.hu//ingatlan/elado-kertes-haz-balatonkenese/8263900?page=1&pos=2&cr=55\n",
            "3. https://www.zenga.hu//ingatlan/elado-udulo-nyaralo-balatonbereny/8596411?page=1&pos=3&cr=50\n",
            "4. https://www.zenga.hu//ingatlan/elado-udulo-nyaralo-fonyod/8658241?page=1&pos=4&cr=42\n",
            "5. https://www.zenga.hu//ingatlan/elado-udulo-nyaralo-balatonmariafurdo/8579431?page=1&pos=5&cr=21\n",
            "6. https://www.zenga.hu//ingatlan/elado-udulo-nyaralo-balatonakarattya/8600951?page=1&pos=6&cr=15\n",
            "7. https://www.zenga.hu//ingatlan/elado-udulo-nyaralo-siofok-balatonszeplak/8661185?page=1&pos=7&cr=15\n",
            "8. https://www.zenga.hu//ingatlan/elado-udulo-nyaralo-siofok-belvaros/8601011?page=1&pos=8&cr=15\n",
            "9. https://www.zenga.hu//ingatlan/elado-udulo-nyaralo-balatonfured/8621963?page=1&pos=9&cr=10\n",
            "10. https://www.zenga.hu//ingatlan/elado-udulo-nyaralo-siofok-belvaros/8598225?page=1&pos=10&cr=6\n",
            "11. https://www.zenga.hu//ingatlan/elado-udulo-nyaralo-balatonfoldvar/8626758?page=1&pos=11&cr=5\n",
            "12. https://www.zenga.hu//ingatlan/elado-udulo-nyaralo-balatonfoldvar/8599448?page=1&pos=12&cr=5\n",
            "13. https://www.zenga.hu//ingatlan/elado-udulo-nyaralo-balatonakarattya/8590257?page=1&pos=13&cr=5\n",
            "14. https://www.zenga.hu//ingatlan/elado-udulo-nyaralo-siofok-szabadifurdo/8628029?page=1&pos=14&cr=5\n",
            "15. https://www.zenga.hu//ingatlan/elado-udulo-nyaralo-siofok-balatonkiliti/8600005?page=1&pos=15&cr=5\n",
            "16. https://www.zenga.hu//ingatlan/elado-udulo-nyaralo-balatonakarattya/8312656?page=1&pos=16&cr=5\n",
            "17. https://www.zenga.hu//ingatlan/elado-hetvegi-haz-badacsonytomaj/8344151?page=1&pos=17&cr=5\n",
            "18. https://www.zenga.hu//ingatlan/elado-kertes-haz-balatongyorok/8640869?page=1&pos=18\n",
            "19. https://www.zenga.hu//ingatlan/elado-kertes-haz-balatonkenese/8266728?page=1&pos=19\n",
            "20. https://www.zenga.hu//ingatlan/elado-udulo-nyaralo-siofok-balatonszeplak/8629512?page=1&pos=20\n",
            "21. https://www.zenga.hu//ingatlan/elado-udulo-nyaralo-fonyod/8666709?page=2&pos=1\n",
            "22. https://www.zenga.hu//ingatlan/elado-kertes-haz-balatongyorok/8640869?page=2&pos=2\n",
            "23. https://www.zenga.hu//ingatlan/elado-udulo-nyaralo-siofok-balatonszeplak/8629512?page=2&pos=3\n",
            "24. https://www.zenga.hu//ingatlan/elado-udulo-nyaralo-siofok-balatonszeplak/8671904?page=2&pos=4\n",
            "25. https://www.zenga.hu//ingatlan/elado-hetvegi-haz-balatonfuzfo-mamateto/8654092?page=2&pos=5\n",
            "26. https://www.zenga.hu//ingatlan/elado-kertes-haz-alsoors/8197612?page=2&pos=6\n",
            "27. https://www.zenga.hu//ingatlan/elado-udulo-nyaralo-siofok-balatonkiliti/8597906?page=2&pos=7\n",
            "28. https://www.zenga.hu//ingatlan/elado-kertes-haz-keszthely-kertvaros/8623994?page=2&pos=8\n",
            "29. https://www.zenga.hu//ingatlan/elado-kertes-haz-balatongyorok/8643600?page=2&pos=9\n",
            "30. https://www.zenga.hu//ingatlan/elado-kertes-haz-balatonmariafurdo/7931486?page=2&pos=10\n",
            "31. https://www.zenga.hu//ingatlan/elado-kertes-haz-balatonmariafurdo/7274610?page=2&pos=11\n",
            "32. https://www.zenga.hu//ingatlan/elado-kertes-haz-balatonkenese/8632918?page=2&pos=12\n",
            "33. https://www.zenga.hu//ingatlan/elado-kertes-haz-balatonfenyves/8213457?page=2&pos=13\n",
            "34. https://www.zenga.hu//ingatlan/elado-kertes-haz-balatonmariafurdo/8387502?page=2&pos=14\n",
            "35. https://www.zenga.hu//ingatlan/elado-kertes-haz-balatonbereny/8480396?page=2&pos=15\n",
            "36. https://www.zenga.hu//ingatlan/elado-udulo-nyaralo-balatonoszod/8602229?page=2&pos=16\n",
            "37. https://www.zenga.hu//ingatlan/elado-kertes-haz-badacsonytordemic/8349261?page=2&pos=17\n",
            "38. https://www.zenga.hu//ingatlan/elado-kertes-haz-balatonbereny/8515492?page=2&pos=18\n",
            "39. https://www.zenga.hu//ingatlan/elado-kertes-haz-balatonbereny/8473372?page=2&pos=19\n",
            "40. https://www.zenga.hu//ingatlan/elado-udulo-nyaralo-balatonkenese/8601014?page=2&pos=20\n",
            "41. https://www.zenga.hu//ingatlan/elado-kertes-haz-badacsonytomaj/8121519?page=3&pos=1\n",
            "42. https://www.zenga.hu//ingatlan/elado-udulo-nyaralo-balatonfured-balatonaracs/8633030?page=3&pos=2\n",
            "43. https://www.zenga.hu//ingatlan/elado-udulo-nyaralo-balatonfenyves/8663527?page=3&pos=3\n",
            "44. https://www.zenga.hu//ingatlan/elado-kertes-haz-balatonmariafurdo/7931486?page=3&pos=4\n",
            "45. https://www.zenga.hu//ingatlan/elado-kertes-haz-balatonbereny/8000941?page=3&pos=5\n",
            "46. https://www.zenga.hu//ingatlan/elado-udulo-nyaralo-siofok-aranypart/8597831?page=3&pos=6\n",
            "47. https://www.zenga.hu//ingatlan/elado-udulo-nyaralo-balatonfenyves/8652844?page=3&pos=7\n",
            "48. https://www.zenga.hu//ingatlan/elado-kertes-haz-balatonbereny/8618374?page=3&pos=8\n",
            "49. https://www.zenga.hu//ingatlan/elado-kertes-haz-balatonbereny/8393571?page=3&pos=9\n",
            "50. https://www.zenga.hu//ingatlan/elado-udulo-nyaralo-siofok-balatonkiliti/8597791?page=3&pos=10\n",
            "51. https://www.zenga.hu//ingatlan/elado-kertes-haz-abrahamhegy/8648461?page=3&pos=11\n",
            "52. https://www.zenga.hu//ingatlan/elado-kertes-haz-balatonbereny/8384465?page=3&pos=12\n",
            "53. https://www.zenga.hu//ingatlan/elado-kertes-haz-badacsonytomaj/8524420?page=3&pos=13\n",
            "54. https://www.zenga.hu//ingatlan/elado-kertes-haz-balatonszepezd/8641064?page=3&pos=14\n",
            "55. https://www.zenga.hu//ingatlan/elado-kertes-haz-badacsonytomaj/8612724?page=3&pos=15\n",
            "56. https://www.zenga.hu//ingatlan/elado-kertes-haz-balatonbereny/8636287?page=3&pos=16\n",
            "57. https://www.zenga.hu//ingatlan/elado-kertes-haz-balatonmariafurdo/8307421?page=3&pos=17\n",
            "58. https://www.zenga.hu//ingatlan/elado-udulo-nyaralo-siofok-balatonkiliti/8598146?page=3&pos=18\n",
            "59. https://www.zenga.hu//ingatlan/elado-kertes-haz-balatonmariafurdo/7274610?page=3&pos=19\n",
            "60. https://www.zenga.hu//ingatlan/elado-kertes-haz-balatonkenese/8632918?page=3&pos=20\n",
            "61. https://www.zenga.hu//ingatlan/elado-kertes-haz-badacsonytomaj/8121519?page=4&pos=1\n",
            "62. https://www.zenga.hu//ingatlan/elado-udulo-nyaralo-balatonfured-balatonaracs/8633030?page=4&pos=2\n",
            "63. https://www.zenga.hu//ingatlan/elado-kertes-haz-badacsonytomaj/8612724?page=4&pos=3\n",
            "64. https://www.zenga.hu//ingatlan/elado-udulo-nyaralo-siofok-belvaros/8598345?page=4&pos=4\n",
            "65. https://www.zenga.hu//ingatlan/elado-udulo-nyaralo-balatonkenese/8600620?page=4&pos=5\n",
            "66. https://www.zenga.hu//ingatlan/elado-kertes-haz-balatonbereny/8636287?page=4&pos=6\n",
            "67. https://www.zenga.hu//ingatlan/elado-kertes-haz-balatonbereny/8473372?page=4&pos=7\n",
            "68. https://www.zenga.hu//ingatlan/elado-udulo-nyaralo-balatonkenese/8601014?page=4&pos=8\n",
            "69. https://www.zenga.hu//ingatlan/elado-hetvegi-haz-balatonalmadi-voroshegy/8555857?page=4&pos=9\n",
            "70. https://www.zenga.hu//ingatlan/elado-udulo-nyaralo-siofok/8666680?page=4&pos=10\n",
            "71. https://www.zenga.hu//ingatlan/elado-hetvegi-haz-aszofo/8411808?page=4&pos=11\n",
            "72. https://www.zenga.hu//ingatlan/elado-kertes-haz-fonyod/8558288?page=4&pos=12\n",
            "73. https://www.zenga.hu//ingatlan/elado-udulo-nyaralo-balatonboglar/8659837?page=4&pos=13\n",
            "74. https://www.zenga.hu//ingatlan/elado-udulo-nyaralo-fonyod-fonyodliget/8577280?page=4&pos=14\n",
            "75. https://www.zenga.hu//ingatlan/elado-udulo-nyaralo-siofok-belvaros/8633746?page=4&pos=15\n",
            "76. https://www.zenga.hu//ingatlan/elado-kertes-haz-siofok/8435111?page=4&pos=16\n",
            "77. https://www.zenga.hu//ingatlan/elado-kertes-haz-siofok/8399015?page=4&pos=17\n",
            "78. https://www.zenga.hu//ingatlan/elado-kertes-haz-siofok/8435110?page=4&pos=18\n",
            "79. https://www.zenga.hu//ingatlan/elado-udulo-nyaralo-siofok/8485252?page=4&pos=19\n",
            "80. https://www.zenga.hu//ingatlan/elado-udulo-nyaralo-balatonfured/8520000?page=4&pos=20\n",
            "81. https://www.zenga.hu//ingatlan/elado-egyeb-nyaralo-balatonederics/8634849?page=5&pos=1\n",
            "82. https://www.zenga.hu//ingatlan/elado-hetvegi-haz-siofok/8434526?page=5&pos=2\n",
            "83. https://www.zenga.hu//ingatlan/elado-udulo-nyaralo-balatonfenyves/8463893?page=5&pos=3\n",
            "84. https://www.zenga.hu//ingatlan/elado-hetvegi-haz-keszthely/8494357?page=5&pos=4\n",
            "85. https://www.zenga.hu//ingatlan/elado-udulo-nyaralo-balatonkenese/8555769?page=5&pos=5\n",
            "86. https://www.zenga.hu//ingatlan/elado-udulo-nyaralo-balatonkenese/7980092?page=5&pos=6\n",
            "87. https://www.zenga.hu//ingatlan/elado-udulo-nyaralo-siofok/8152240?page=5&pos=7\n",
            "88. https://www.zenga.hu//ingatlan/elado-udulo-nyaralo-balatonakarattya/8443370?page=5&pos=8\n",
            "89. https://www.zenga.hu//ingatlan/elado-udulo-nyaralo-balatonkeresztur/8530980?page=5&pos=9\n",
            "90. https://www.zenga.hu//ingatlan/elado-udulo-nyaralo-balatonakarattya/8316636?page=5&pos=10\n",
            "91. https://www.zenga.hu//ingatlan/elado-udulo-nyaralo-balatonfenyves/8572115?page=5&pos=11\n",
            "92. https://www.zenga.hu//ingatlan/elado-udulo-nyaralo-gyenesdias/7985114?page=5&pos=12\n",
            "93. https://www.zenga.hu//ingatlan/elado-hetvegi-haz-balatonfuzfo/8344030?page=5&pos=13\n",
            "94. https://www.zenga.hu//ingatlan/elado-hetvegi-haz-balatonfuzfo/8344029?page=5&pos=14\n",
            "95. https://www.zenga.hu//ingatlan/elado-hetvegi-haz-balatonfuzfo/8344032?page=5&pos=15\n",
            "96. https://www.zenga.hu//ingatlan/elado-hetvegi-haz-siofok/8396057?page=5&pos=16\n",
            "97. https://www.zenga.hu//ingatlan/elado-hetvegi-haz-balatonbereny/8064338?page=5&pos=17\n",
            "98. https://www.zenga.hu//ingatlan/elado-hetvegi-haz-siofok/8486040?page=5&pos=18\n",
            "99. https://www.zenga.hu//ingatlan/elado-hetvegi-haz-siofok/8434527?page=5&pos=19\n",
            "100. https://www.zenga.hu//ingatlan/elado-udulo-nyaralo-balatonlelle/8235003?page=5&pos=20\n",
            "101. https://www.zenga.hu//ingatlan/elado-udulo-nyaralo-balatonlelle/8235003?page=6&pos=1\n",
            "102. https://www.zenga.hu//ingatlan/elado-udulo-nyaralo-balatonkenese/8581268?page=6&pos=2\n",
            "103. https://www.zenga.hu//ingatlan/elado-udulo-nyaralo-balatonlelle/8120601?page=6&pos=3\n",
            "104. https://www.zenga.hu//ingatlan/elado-udulo-nyaralo-balatonfured/8627578?page=6&pos=4\n",
            "105. https://www.zenga.hu//ingatlan/elado-udulo-nyaralo-balatonkeresztur/8579412?page=6&pos=5\n",
            "106. https://www.zenga.hu//ingatlan/elado-udulo-nyaralo-balatonfured-furdotelep/8605711?page=6&pos=6\n",
            "107. https://www.zenga.hu//ingatlan/elado-hetvegi-haz-abrahamhegy/8605548?page=6&pos=7\n",
            "108. https://www.zenga.hu//ingatlan/elado-hetvegi-haz-balatonalmadi-ujhegy/8559237?page=6&pos=8\n",
            "109. https://www.zenga.hu//ingatlan/elado-udulo-nyaralo-balatonfured-balatonaracs/8593871?page=6&pos=9\n",
            "110. https://www.zenga.hu//ingatlan/elado-udulo-nyaralo-siofok-ezustpart/8580652?page=6&pos=10\n",
            "111. https://www.zenga.hu//ingatlan/elado-udulo-nyaralo-balatonfured-balatonaracs/8580291?page=6&pos=11\n",
            "112. https://www.zenga.hu//ingatlan/elado-udulo-nyaralo-balatonalmadi-ovaritelep/8536104?page=6&pos=12\n",
            "113. https://www.zenga.hu//ingatlan/elado-udulo-nyaralo-balatonfenyves/8484989?page=6&pos=13\n",
            "114. https://www.zenga.hu//ingatlan/elado-udulo-nyaralo-balatonbereny/8517132?page=6&pos=14\n",
            "115. https://www.zenga.hu//ingatlan/elado-udulo-nyaralo-siofok-aranypart/8510361?page=6&pos=15\n",
            "116. https://www.zenga.hu//ingatlan/elado-udulo-nyaralo-balatonalmadi/7868154?page=6&pos=16\n",
            "117. https://www.zenga.hu//ingatlan/elado-kertes-haz-zanka/8399477?page=6&pos=17\n",
            "118. https://www.zenga.hu//ingatlan/elado-udulo-nyaralo-siofok-aranypart/8370254?page=6&pos=18\n",
            "119. https://www.zenga.hu//ingatlan/elado-hetvegi-haz-kovagoors/8360438?page=6&pos=19\n",
            "120. https://www.zenga.hu//ingatlan/elado-udulo-nyaralo-balatonkenese/7994655?page=6&pos=20\n",
            "121. https://www.zenga.hu//ingatlan/elado-egyeb-nyaralo-balatonlelle/8129323?page=7&pos=1\n",
            "122. https://www.zenga.hu//ingatlan/elado-egyeb-nyaralo-balatonboglar/8128222?page=7&pos=2\n",
            "123. https://www.zenga.hu//ingatlan/elado-egyeb-nyaralo-balatonakarattya/7994671?page=7&pos=3\n",
            "124. https://www.zenga.hu//ingatlan/elado-egyeb-nyaralo-balatonfoldvar/7984276?page=7&pos=4\n",
            "125. https://www.zenga.hu//ingatlan/elado-hetvegi-haz-zanka/7956925?page=7&pos=5\n",
            "126. https://www.zenga.hu//ingatlan/elado-udulo-nyaralo-siofok/7839644?page=7&pos=6\n",
            "127. https://www.zenga.hu//ingatlan/elado-egyeb-nyaralo-balatonbereny/7753419?page=7&pos=7\n",
            "128. https://www.zenga.hu//ingatlan/elado-egyeb-nyaralo-siofok-szigetiszolohegy/7601433?page=7&pos=8\n"
          ]
        }
      ],
      "source": [
        "\n",
        "zenga_links=get_all_url(city,property,10000000,40000000)\n",
        "df=pd.DataFrame(zenga_links,columns=['link'])\n",
        "csv_path='/content/drive/MyDrive/Zenga/'"
      ]
    },
    {
      "cell_type": "code",
      "execution_count": null,
      "metadata": {
        "id": "gGpPtp2JjDog"
      },
      "outputs": [],
      "source": [
        "df.to_csv(csv_path+f'links_{city}_{property}.csv',index=False)\n",
        "# kimentettük a listát"
      ]
    },
    {
      "cell_type": "code",
      "execution_count": null,
      "metadata": {
        "id": "ps7zIcRq6JNv",
        "colab": {
          "base_uri": "https://localhost:8080/",
          "height": 128
        },
        "outputId": "eb970d54-36d0-4761-fbeb-47a2692701a0"
      },
      "outputs": [
        {
          "output_type": "error",
          "ename": "SystemExit",
          "evalue": "🛑 Kód megszakítva ezen a ponton.",
          "traceback": [
            "An exception has occurred, use %tb to see the full traceback.\n",
            "\u001b[0;31mSystemExit\u001b[0m\u001b[0;31m:\u001b[0m 🛑 Kód megszakítva ezen a ponton.\n"
          ]
        },
        {
          "output_type": "stream",
          "name": "stderr",
          "text": [
            "/usr/local/lib/python3.12/dist-packages/IPython/core/interactiveshell.py:3561: UserWarning: To exit: use 'exit', 'quit', or Ctrl-D.\n",
            "  warn(\"To exit: use 'exit', 'quit', or Ctrl-D.\", stacklevel=1)\n"
          ]
        }
      ],
      "source": [
        "raise SystemExit(\"🛑 Kód megszakítva ezen a ponton.\") # A következő rész a lista feldolgozása"
      ]
    },
    {
      "cell_type": "code",
      "execution_count": null,
      "metadata": {
        "id": "s7pEU13G5r-4"
      },
      "outputs": [],
      "source": [
        "# visszaolvassuk a listát, mert ekkora adathalmazt nem feltétlen tudunk egy etapban feldolgozni\n",
        "city=\"balaton-deli-part+balaton-eszaki-part\"\n",
        "property=\"udulo-hetvegi-haz\" # \"udulo-hetvegi-haz\", \"haz\"\n",
        "#^^ itt lehet megadni mi legyen a további feldolgozás alapja\n",
        "\n",
        "csv_path='/content/drive/MyDrive/Zenga/'\n",
        "df=pd.read_csv(csv_path+f'links_{city}_{property}.csv')\n",
        "zenga_links=df.link.to_list()"
      ]
    },
    {
      "cell_type": "code",
      "execution_count": null,
      "metadata": {
        "id": "nVMADeJO-SX_"
      },
      "outputs": [],
      "source": [
        "_DEBUG_=True"
      ]
    },
    {
      "cell_type": "code",
      "execution_count": null,
      "metadata": {
        "id": "a8xw9GhrCarM"
      },
      "outputs": [],
      "source": [
        "async def scrape_ad_text(url):\n",
        "    '''\n",
        "    Egy zenga.hu hirdetés részletező oldaláról leolvassa a leírást és az árat és visszaadja egy listában.\n",
        "\n",
        "    Paraméterek\n",
        "    -----------\n",
        "    url : str\n",
        "        A hirdetés részletező oldalának abszolút URL-je.\n",
        "\n",
        "    Visszatérés\n",
        "    -----------\n",
        "    list[dict[str, str]]\n",
        "        Alapesetben egy elemű lista, eleme: {\"url\": <url>, \"desc\": <leírás>, \"price\": <ár>}.\n",
        "        Hiba esetén a lista egy hibaüzenetet tartalmazó rekordot ad vissza\n",
        "        (ld. Megjegyzések a kulcsnév-konzisztenciáról).\n",
        "    '''\n",
        "\n",
        "    results = []\n",
        "    async with async_playwright() as p:\n",
        "        browser = await p.chromium.launch(headless=True)\n",
        "        page = await browser.new_page()\n",
        "\n",
        "\n",
        "        try:\n",
        "            if _DEBUG_:\n",
        "                print(f\"🔗 {url}\")\n",
        "            await page.goto(url, timeout=5000)  #20000 lehet csökkenteni?\n",
        "            try:\n",
        "                await page.get_by_text(\"Összes süti engedélyezése\").click()\n",
        "                if _DEBUG_:\n",
        "                    print(\"Süti elfogadva\")\n",
        "            except:\n",
        "                print(\"Süti gomb nem jelent meg\")\n",
        "\n",
        "\n",
        "            await page.wait_for_timeout(7000)\n",
        "            #await page.screenshot(path=\"screenshot.png\")  # DEBUG\n",
        "            desc_element = await page.query_selector(\"span[data-cy='advert-details-description']\")\n",
        "            desc_text = await desc_element.inner_text() if desc_element else \"Nincs szöveg\"\n",
        "            if _DEBUG_:\n",
        "                print(f\"Szöveg: {desc_text} \")\n",
        "\n",
        "            price_element = await page.query_selector(\"div[data-cy='advert-details-price']\")\n",
        "            price_text = await price_element.inner_text() if price_element else \"Nincs ár\"\n",
        "            if _DEBUG_:\n",
        "                print(f\"Ár: {price_text} \")\n",
        "\n",
        "            #méret\n",
        "\n",
        "            size_element = await page.query_selector(\"div[data-cy='advert-details-first-param']\")\n",
        "            size_text = await size_element.inner_text() if size_element else \"Nincs méret\"\n",
        "            if _DEBUG_:\n",
        "                print(f\"Méret: {size_text} \")\n",
        "\n",
        "            # telek mérete lot_size advert-details-second-param\n",
        "            lot_size_element = await page.query_selector(\"div[data-cy='advert-details-second-param']\")\n",
        "            lot_size_text = await lot_size_element.inner_text() if lot_size_element else \"Nincs telek méret\"\n",
        "            if _DEBUG_:\n",
        "                print(f\"Telek méret: {lot_size_text} \")\n",
        "\n",
        "            # rooms szoák száma advert-details-third-param\n",
        "            rooms_element = await page.query_selector(\"div[data-cy='advert-details-third-param']\")\n",
        "            rooms_text = await rooms_element.inner_text() if rooms_element else \"Nincs szoba\"\n",
        "            if _DEBUG_:\n",
        "                print(f\"Szobák száma: {rooms_text} \")\n",
        "\n",
        "\n",
        "            results.append({\"url\": url, \"desc\": desc_text, \"price\":price_text, \"size\":size_text, \"lot_size\":lot_size_text,\"rooms\":rooms_text})\n",
        "        except Exception as e:\n",
        "            if _DEBUG_:\n",
        "                print(f\"Hiba: {str(e)}\")\n",
        "            results.append({\"url\": url, \"desc\": f\"Hiba: {str(e)}\",\"price\":f\"Hiba: {str(e)}\"})\n",
        "\n",
        "        await browser.close()\n",
        "\n",
        "    return results  #return a list\n"
      ]
    },
    {
      "cell_type": "code",
      "execution_count": null,
      "metadata": {
        "colab": {
          "base_uri": "https://localhost:8080/"
        },
        "id": "7cJxe_t0CgUR",
        "outputId": "f5112517-0181-4202-e6a9-1b09d52301a5"
      },
      "outputs": [
        {
          "output_type": "stream",
          "name": "stdout",
          "text": [
            "🔗 https://www.zenga.hu//ingatlan/elado-csaladi-haz-biatorbagy-bia/8059292?page=1&pos=8\n",
            "Süti elfogadva\n",
            "Szöveg: Nincs szöveg \n",
            "Ár: 95 millió Ft \n",
            "Méret: 98 m² \n",
            "Telek méret: 900 m² \n",
            "Szobák száma: 3 szoba \n"
          ]
        },
        {
          "output_type": "execute_result",
          "data": {
            "text/plain": [
              "[{'url': 'https://www.zenga.hu//ingatlan/elado-csaladi-haz-biatorbagy-bia/8059292?page=1&pos=8',\n",
              "  'desc': 'Nincs szöveg',\n",
              "  'price': '95\\xa0millió Ft',\n",
              "  'size': '98 m²',\n",
              "  'lot_size': '900 m²',\n",
              "  'rooms': '3 szoba'}]"
            ]
          },
          "metadata": {},
          "execution_count": 63
        }
      ],
      "source": [
        "await scrape_ad_text(\"https://www.zenga.hu//ingatlan/elado-csaladi-haz-biatorbagy-bia/8059292?page=1&pos=8\")"
      ]
    },
    {
      "cell_type": "code",
      "source": [
        "city"
      ],
      "metadata": {
        "colab": {
          "base_uri": "https://localhost:8080/",
          "height": 36
        },
        "id": "7P-WdCgOjBrK",
        "outputId": "907c1cc9-47c6-4371-da65-ffd16d8af6e4"
      },
      "execution_count": null,
      "outputs": [
        {
          "output_type": "execute_result",
          "data": {
            "text/plain": [
              "'balaton-deli-part+balaton-eszaki-part'"
            ],
            "application/vnd.google.colaboratory.intrinsic+json": {
              "type": "string"
            }
          },
          "metadata": {},
          "execution_count": 64
        }
      ]
    },
    {
      "cell_type": "code",
      "execution_count": null,
      "metadata": {
        "id": "0GX-U9E7JWke"
      },
      "outputs": [],
      "source": [
        "def scrape_zenga_list(z_list):\n",
        "    \"\"\"\n",
        "    A megadott zenga.hu hirdetés-URL-ek listáját sorban feldolgozza: mindegyikre lefuttatja a\n",
        "    `scrape_ad_text` aszinkron függvényt.\n",
        "\n",
        "    Paraméterek\n",
        "    -----------\n",
        "    z_list : list[str]\n",
        "        Hirdetés-részletező oldalak abszolút URL-jeinek listája.\n",
        "\n",
        "    Visszatérés\n",
        "    -----------\n",
        "    list[dict[str, str]]\n",
        "        A hirdetésekből kinyert rekordok listája. Az egyes elemek a `scrape_ad_text` által\n",
        "        visszaadott dict-ek (pl. {\"url\", \"desc\", \"price\"}.\n",
        "\n",
        "    \"\"\"\n",
        "    i=0\n",
        "    out_list=[]\n",
        "    for url in z_list:\n",
        "        url_data = asyncio.run(scrape_ad_text(url))\n",
        "        if _DEBUG_:\n",
        "            print(url_data)\n",
        "        print(f\"{i+1}/{len(z_list)}\",end=\"_\")\n",
        "        i+=1\n",
        "        if i%10==0:\n",
        "            print()\n",
        "        out_list.extend(url_data)\n",
        "    return out_list"
      ]
    },
    {
      "cell_type": "code",
      "execution_count": null,
      "metadata": {
        "id": "AvWNpSyQBQio"
      },
      "outputs": [],
      "source": [
        "_DEBUG_=False"
      ]
    },
    {
      "cell_type": "code",
      "execution_count": null,
      "metadata": {
        "colab": {
          "base_uri": "https://localhost:8080/"
        },
        "id": "M65UJytUJ01V",
        "outputId": "e847c50d-14f3-4435-ba5b-687bdc199a44"
      },
      "outputs": [
        {
          "output_type": "stream",
          "name": "stdout",
          "text": [
            "1/128_2/128_3/128_4/128_5/128_6/128_7/128_8/128_9/128_10/128_\n",
            "11/128_12/128_13/128_14/128_15/128_16/128_17/128_18/128_19/128_20/128_\n",
            "21/128_22/128_23/128_24/128_25/128_26/128_27/128_28/128_29/128_30/128_\n",
            "31/128_32/128_33/128_34/128_35/128_36/128_37/128_38/128_39/128_40/128_\n",
            "41/128_42/128_43/128_44/128_45/128_46/128_47/128_48/128_49/128_50/128_\n",
            "51/128_52/128_53/128_54/128_55/128_56/128_57/128_58/128_59/128_60/128_\n",
            "61/128_62/128_63/128_64/128_65/128_66/128_67/128_68/128_69/128_70/128_\n",
            "71/128_72/128_73/128_74/128_75/128_76/128_77/128_78/128_79/128_80/128_\n",
            "81/128_82/128_83/128_84/128_85/128_86/128_87/128_88/128_89/128_90/128_\n",
            "91/128_92/128_93/128_94/128_95/128_96/128_97/128_98/128_99/128_100/128_\n",
            "101/128_102/128_103/128_104/128_105/128_106/128_107/128_108/128_109/128_110/128_\n",
            "111/128_112/128_113/128_114/128_115/128_116/128_117/128_118/128_119/128_120/128_\n",
            "121/128_122/128_123/128_124/128_125/128_126/128_127/128_128/128_"
          ]
        }
      ],
      "source": [
        "nl=1000\n",
        "for i in range(0000, len(zenga_links), nl):\n",
        "    zenga_data=scrape_zenga_list(zenga_links[i:i+nl])\n",
        "    df=pd.DataFrame(zenga_data)\n",
        "    csv_path='/content/drive/MyDrive/Zenga/'\n",
        "    df.to_csv(csv_path+f'zenga_data_{city}_{property}_{str(i)}_{str(i+nl-1)}.csv',index=False)"
      ]
    },
    {
      "cell_type": "code",
      "execution_count": null,
      "metadata": {
        "id": "YApLrfYpSjbR"
      },
      "outputs": [],
      "source": []
    },
    {
      "cell_type": "code",
      "execution_count": null,
      "metadata": {
        "id": "PcI7PbyRFSG9"
      },
      "outputs": [],
      "source": [
        "#szoveg=df.desc[0]"
      ]
    },
    {
      "cell_type": "code",
      "execution_count": null,
      "metadata": {
        "id": "zmCIZa0GTgLC",
        "colab": {
          "base_uri": "https://localhost:8080/",
          "height": 128
        },
        "outputId": "5b97a40e-83bc-4ae3-9d80-bbc627c2f4a3"
      },
      "outputs": [
        {
          "output_type": "error",
          "ename": "SystemExit",
          "evalue": "🛑 Kód megszakítva ezen a ponton.",
          "traceback": [
            "An exception has occurred, use %tb to see the full traceback.\n",
            "\u001b[0;31mSystemExit\u001b[0m\u001b[0;31m:\u001b[0m 🛑 Kód megszakítva ezen a ponton.\n"
          ]
        },
        {
          "output_type": "stream",
          "name": "stderr",
          "text": [
            "/usr/local/lib/python3.12/dist-packages/IPython/core/interactiveshell.py:3561: UserWarning: To exit: use 'exit', 'quit', or Ctrl-D.\n",
            "  warn(\"To exit: use 'exit', 'quit', or Ctrl-D.\", stacklevel=1)\n"
          ]
        }
      ],
      "source": [
        "raise SystemExit(\"🛑 Kód megszakítva ezen a ponton.\") # A következő rész a AI prompt beállításait tartalmazza"
      ]
    },
    {
      "cell_type": "code",
      "execution_count": null,
      "metadata": {
        "id": "ssi9kr2f42f3"
      },
      "outputs": [],
      "source": [
        "#ujraépítjuk az adatokat, innen bármikor el kell indulni\n",
        "city=\"komarom_esztergom_megye\"\n",
        "csv_path='/content/drive/MyDrive/Zenga/'\n",
        "df_city=pd.read_csv(csv_path+f'zenga_data_{city}.csv')"
      ]
    },
    {
      "cell_type": "code",
      "execution_count": null,
      "metadata": {
        "id": "6842f3b1"
      },
      "outputs": [],
      "source": [
        "from openai import OpenAI\n",
        "import json"
      ]
    },
    {
      "cell_type": "code",
      "execution_count": null,
      "metadata": {
        "id": "kyJt3WXLyKQH"
      },
      "outputs": [],
      "source": [
        "from google.colab import userdata\n",
        "key=userdata.get('OpenAi_API')"
      ]
    },
    {
      "cell_type": "code",
      "execution_count": null,
      "metadata": {
        "id": "PMGh2RYuK_TD"
      },
      "outputs": [],
      "source": [
        "#Demo szöveg\n",
        "szoveg='''\n",
        "Budafok szép panorámás részén a Rózsavölgy feletti dombon, csendes mellékutcában eladó egy bájos kis ház 520 négyzetméteres telken.\n",
        "\n",
        "A kis ház 35 négyzetméteres, egy légtérben van kialakítva benne a nappali, melyet részben nyitott válaszfallal szeparáltak el a konyha-étkező résztől. A zuhanyzós fürdő és a WC egy helyiségben található.\n",
        "\n",
        "A víz, az áram és az internet be van kötve a házba. Gáz és csatorna az utcában. A csatorna bevezetését már kezdeményezte a szomszédos telek tulajdonosa.\n",
        "\n",
        "A telken áll egy másik kis házikó is, ami jelenleg egy 9 négyzetméteres szobaként funkcionál.\n",
        "\n",
        "A kert szép és gondozott, sok gyümölcsfával. Nagyobb mérete miatt sok lehetőséget rejt. Kialakítható rajta több nagy magaságyás, építhető kerti medence vagy finn szauna is.\n",
        "\n",
        "További információkért és időpont egyeztetésért kérem hívjon telefononn.\n",
        "Hitellel vásárlás esetén bankfüggetlen és DÍJMENTES hiteltanácsadó közreműködését biztosítjuk, aki a teljes folyamaton végigkíséri Önt.\n",
        "Az adásvétel biztonságos és gördülékeny bonyolítása érdekében tapasztalt ingatlan szakjogászaink szolgáltatását is ajánlom.\n",
        "'''"
      ]
    },
    {
      "cell_type": "code",
      "execution_count": null,
      "metadata": {
        "id": "Sa8OELoo5xca"
      },
      "outputs": [],
      "source": [
        "szoveg=df_city.desc[0]\n",
        "\n",
        "\n",
        "print(szoveg)\n",
        "print(df_city.url[0])"
      ]
    },
    {
      "cell_type": "code",
      "execution_count": null,
      "metadata": {
        "id": "dCeg519FjA1e"
      },
      "outputs": [],
      "source": [
        "def create_prompt(szoveg):\n",
        "    prompt_message=[\n",
        "            {\"role\": \"system\",\n",
        "             \"content\": f'''\n",
        "                    Te egy ingatlanhirdetés-elemző nyelvész vagy, komoly ingatlanhirdetési tapasztalattal.\n",
        "                    Célod, hogy az ingatlan hirdetések tökéletesek legyenek ezért kidolgoztál egy hirdetés értékelési szempontrendszert.\n",
        "                    Ezek a szempontok alapján tökéletes értékelést tudsz adni az adott hirdetés szövege alapján.\n",
        "                    A szempontok:\n",
        "                        1. Érthetőség\n",
        "                        2. Részletesség / információtartalom\n",
        "                        3. Szerkezet, logikai felépítés\n",
        "                        4. Célcsoport megszólítása\n",
        "                        5. Stílus és nyelvhelyesség\n",
        "                        6. Előnyök kiemelése\n",
        "                        7. Negatívumok őszinte kezelése\n",
        "                        8. Eladásra ösztönzés'''},\n",
        "            {\"role\": \"user\",\n",
        "             \"content\": \"\"\"\n",
        "                            Értékeld az alábbi ingatlanhirdetés szöveget és az értékelést a scoring mezőbe helyezzed el.\n",
        "                            Az alábbi szempontok alapján 1–5-ig pontozzad, és hozz létre egy összesített eredményt  1-8 közötti szempontok értékelésének átlagaként ez legyen a 9. Összesítés :\n",
        "                            Majd a tudásod alapján adj egy alternatív javaslatot az eredeti szöveg javítására, hogy a lehető legjobban megfeleljen a szempontoknak.\n",
        "                            Az alternatív javaslatot strukturáld, és tördeld a jobb érthetőség érdekében, de markdown formátumot ne használj!\n",
        "                            Fontos, hogy a saját szempontrendszered szerint az alternatív javaslatod értékelése jobb legyen az eredeti értékelésnél!\n",
        "                            A válaszod csak érvényes JSON formátumban legyen, pontosan az alábbi struktúrában:\n",
        "\n",
        "                            {\"scoring\":\n",
        "                                {\n",
        "\n",
        "                                    \"Érthetőség\": <szám>,\n",
        "                                    \"Részletesség\": <szám>,\n",
        "                                    \"Szerkezet\": <szám>,\n",
        "                                    \"Célcsoport\": <szám>,\n",
        "                                    \"Stílus\": <szám>,\n",
        "                                    \"Előnyök\": <szám>,\n",
        "                                    \"Negatívumok\": <szám>,\n",
        "                                    \"Ösztönzés\": <szám>,\n",
        "                                    \"Összesítés\": <szám.tizedes>\"\n",
        "                                },\n",
        "                            \"proposal\":\"Ide kerüljön a javított szöveg javaslatod\"\n",
        "                            }\n",
        "\n",
        "\n",
        "                    A HIRDETÉS SZÖVEGE:\n",
        "                        \"\"\"+f\" {szoveg}\"}\n",
        "        ]\n",
        "    return prompt_message\n"
      ]
    },
    {
      "cell_type": "code",
      "execution_count": null,
      "metadata": {
        "id": "3QAd5oiRFVZd"
      },
      "outputs": [],
      "source": [
        "prompt_message=create_prompt(szoveg)\n"
      ]
    },
    {
      "cell_type": "code",
      "execution_count": null,
      "metadata": {
        "id": "yFMMubHWndJ_"
      },
      "outputs": [],
      "source": [
        "def get_response(szoveg:str):\n",
        "    '''\n",
        "    A megadott szöveghez promptot készít (`create_prompt`), elküldi az OpenAI Chat\n",
        "    Completions API-nak (gpt-4o), majd a választ JSON-ként beolvassa és dict-ként visszaadja.\n",
        "\n",
        "    Paraméterek\n",
        "    -----------\n",
        "    szoveg : str\n",
        "        A bemeneti szöveg, amelyből a `create_prompt` összeállítja a `messages` listát.\n",
        "\n",
        "    Visszatérés\n",
        "    -----------\n",
        "    dict\n",
        "        A modell által visszaadott JSON objektum, Python dict-be parse-olva.\n",
        "    '''\n",
        "    client = OpenAI(api_key=key)\n",
        "    prompt_message=create_prompt(szoveg)\n",
        "    response = client.chat.completions.create(\n",
        "        model=\"gpt-4o\",\n",
        "        messages=prompt_message,\n",
        "        temperature=0.5,\n",
        "        max_tokens=7000\n",
        "    )\n",
        "\n",
        "    content = response.choices[0].message.content\n",
        "\n",
        "    # a gpt-4 így adja vissza a json választ, kiszedjük a jsont a felesleges keretből\n",
        "    if content.startswith(\"```json\"):\n",
        "        content = content.strip(\"`\").lstrip(\"json\").strip()\n",
        "\n",
        "    #\n",
        "    out_dict = json.loads(content)\n",
        "\n",
        "    return(out_dict)"
      ]
    },
    {
      "cell_type": "code",
      "execution_count": null,
      "metadata": {
        "id": "mEusV3hnnjEK"
      },
      "outputs": [],
      "source": [
        "resp_data=get_response(prompt_message)"
      ]
    },
    {
      "cell_type": "code",
      "execution_count": null,
      "metadata": {
        "id": "xscKdn5Bgsby"
      },
      "outputs": [],
      "source": [
        "print(resp_data)"
      ]
    },
    {
      "cell_type": "code",
      "execution_count": null,
      "metadata": {
        "id": "lHbiezDEJRi8"
      },
      "outputs": [],
      "source": [
        "resp_data[\"scoring\"]"
      ]
    },
    {
      "cell_type": "code",
      "execution_count": null,
      "metadata": {
        "id": "F2SIdNj_CMop"
      },
      "outputs": [],
      "source": [
        "resp_data[\"proposal\"]"
      ]
    }
  ],
  "metadata": {
    "colab": {
      "provenance": [],
      "machine_shape": "hm"
    },
    "kernelspec": {
      "display_name": "Python 3",
      "name": "python3"
    },
    "language_info": {
      "name": "python"
    }
  },
  "nbformat": 4,
  "nbformat_minor": 0
}