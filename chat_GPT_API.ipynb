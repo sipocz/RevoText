{
  "nbformat": 4,
  "nbformat_minor": 0,
  "metadata": {
    "colab": {
      "provenance": []
    },
    "kernelspec": {
      "name": "python3",
      "display_name": "Python 3"
    },
    "language_info": {
      "name": "python"
    }
  },
  "cells": [
    {
      "cell_type": "code",
      "source": [
        "import pandas as pd\n",
        "from openai import OpenAI\n",
        "import json\n"
      ],
      "metadata": {
        "id": "3_y8itdJ_8V-"
      },
      "execution_count": 14,
      "outputs": []
    },
    {
      "cell_type": "code",
      "source": [
        "#ujraépítjuk az adatokat, innen bármikor el kell indulni\n",
        "city=\"budaors\"\n",
        "csv_path='/content/drive/MyDrive/Zenga/'\n",
        "df_city=pd.read_csv(csv_path+f'zenga_data_{city}.csv')"
      ],
      "metadata": {
        "id": "ssi9kr2f42f3"
      },
      "execution_count": 15,
      "outputs": []
    },
    {
      "cell_type": "code",
      "source": [
        "from google.colab import userdata\n",
        "key=userdata.get('OpenAi_API')"
      ],
      "metadata": {
        "id": "kyJt3WXLyKQH"
      },
      "execution_count": 16,
      "outputs": []
    },
    {
      "cell_type": "code",
      "source": [
        "#Demo szöveg\n",
        "szoveg='''\n",
        "Budafok szép panorámás részén a Rózsavölgy feletti dombon, csendes mellékutcában eladó egy bájos kis ház 520 négyzetméteres telken.\n",
        "\n",
        "A kis ház 35 négyzetméteres, egy légtérben van kialakítva benne a nappali, melyet részben nyitott válaszfallal szeparáltak el a konyha-étkező résztől. A zuhanyzós fürdő és a WC egy helyiségben található.\n",
        "\n",
        "A víz, az áram és az internet be van kötve a házba. Gáz és csatorna az utcában. A csatorna bevezetését már kezdeményezte a szomszédos telek tulajdonosa.\n",
        "\n",
        "A telken áll egy másik kis házikó is, ami jelenleg egy 9 négyzetméteres szobaként funkcionál.\n",
        "\n",
        "A kert szép és gondozott, sok gyümölcsfával. Nagyobb mérete miatt sok lehetőséget rejt. Kialakítható rajta több nagy magaságyás, építhető kerti medence vagy finn szauna is.\n",
        "\n",
        "További információkért és időpont egyeztetésért kérem hívjon telefononn.\n",
        "Hitellel vásárlás esetén bankfüggetlen és DÍJMENTES hiteltanácsadó közreműködését biztosítjuk, aki a teljes folyamaton végigkíséri Önt.\n",
        "Az adásvétel biztonságos és gördülékeny bonyolítása érdekében tapasztalt ingatlan szakjogászaink szolgáltatását is ajánlom.\n",
        "'''"
      ],
      "metadata": {
        "id": "PMGh2RYuK_TD"
      },
      "execution_count": 17,
      "outputs": []
    },
    {
      "cell_type": "code",
      "source": [
        "szoveg=df_city.desc[0]\n",
        "\n",
        "\n",
        "print(szoveg)\n",
        "print(df_city.url[0])"
      ],
      "metadata": {
        "colab": {
          "base_uri": "https://localhost:8080/"
        },
        "id": "Sa8OELoo5xca",
        "outputId": "f2c319a8-a768-4dbc-c380-a158ed314618"
      },
      "execution_count": 18,
      "outputs": [
        {
          "output_type": "stream",
          "name": "stdout",
          "text": [
            "Budaörs központjában önálló családi ház eladó.\n",
            "\n",
            "Budaörsön a Kálvária domb közelében kínálunk eladásra egy 201 nm-es önálló telken álló, egyszintes családi házat.\n",
            "A telken 2 épület van. A fő épület 50 nm-es, 2 szoba, konyha, fürdőszoba.\n",
            "A kisebb épület kb. 20 nm-es,1 szoba, konyha, fürdőszoba, teljesen külön tömbben található a telken, melynek az alsó szintjén kb 20 nm-es garázs-tároló található. A telken 2 szint lett kialakítva. A felső kertrész alatt helyezkedik el a pince.\n",
            "Nagyon kellemes környék a város szívében.\n",
            "https://www.zenga.hu//ingatlan/elado-csaladi-haz-budaors-ofalu/8299009?page=1&pos=1&cr=50\n"
          ]
        }
      ]
    },
    {
      "cell_type": "code",
      "source": [
        "def create_prompt(szoveg,command=\"None\"):\n",
        "    prompt_message=[\n",
        "            {\"role\": \"system\",\n",
        "             \"content\": f'''\n",
        "                    Te egy ingatlanhirdetés-elemző nyelvész vagy, komoly ingatlanhirdetési tapasztalattal.\n",
        "                    Célod, hogy az ingatlan hirdetések tökéletesek legyenek ezért kidolgoztál egy hirdetés értékelési szempontrendszert.\n",
        "                    Ezek a szempontok alapján tökéletes értékelést tudsz adni az adott hirdetés szövege alapján.\n",
        "                    A szempontok:\n",
        "                        1. Érthetőség\n",
        "                        2. Részletesség / információtartalom\n",
        "                        3. Szerkezet, logikai felépítés\n",
        "                        4. Célcsoport megszólítása\n",
        "                        5. Stílus és nyelvhelyesség\n",
        "                        6. Előnyök kiemelése\n",
        "                        7. Negatívumok őszinte kezelése\n",
        "                        8. Eladásra ösztönzés'''},\n",
        "            {\"role\": \"user\",\n",
        "             \"content\": \"\"\"\n",
        "                            Értékeld az alábbi ingatlanhirdetés szöveget és az értékelést a scoring mezőbe helyezzed el.\n",
        "                            Az alábbi szempontok alapján 1–5-ig pontozzad, és hozz létre egy összesített eredményt  1-8 közötti szempontok értékelésének átlagaként ez legyen a 9. Összesítés :\n",
        "                            Majd a tudásod alapján adj egy alternatív javaslatot az eredeti szöveg javítására, hogy a lehető legjobban megfeleljen a szempontoknak.\n",
        "                            Az alternatív javaslatot strukturáld, és tördeld a jobb érthetőség érdekében, de markdown formátumot ne használj!\n",
        "                            Fontos, hogy a saját szempontrendszered szerint az alternatív javaslatod értékelése jobb legyen az eredeti értékelésnél!\n",
        "                            A válaszod csak érvényes JSON formátumban legyen, pontosan az alábbi struktúrában:\n",
        "\n",
        "                            {\"scoring\":\n",
        "                                {\n",
        "\n",
        "                                    \"Érthetőség\": <szám>,\n",
        "                                    \"Részletesség\": <szám>,\n",
        "                                    \"Szerkezet\": <szám>,\n",
        "                                    \"Célcsoport\": <szám>,\n",
        "                                    \"Stílus\": <szám>,\n",
        "                                    \"Előnyök\": <szám>,\n",
        "                                    \"Negatívumok\": <szám>,\n",
        "                                    \"Ösztönzés\": <szám>,\n",
        "                                    \"Összesítés\": <szám.tizedes>\"\n",
        "                                },\n",
        "                            \"proposal\":\"Ide kerüljön a javított szöveg javaslatod\"\n",
        "                            }\n",
        "\n",
        "\n",
        "                    A HIRDETÉS SZÖVEGE:\n",
        "                        \"\"\"+f\" {szoveg}\"}\n",
        "        ]\n",
        "    return prompt_message\n"
      ],
      "metadata": {
        "id": "dCeg519FjA1e"
      },
      "execution_count": 84,
      "outputs": []
    },
    {
      "cell_type": "code",
      "source": [
        "def create_title_prompt(szoveg: str,commands:str)->str:\n",
        "    return [\n",
        "        {\n",
        "            \"role\": \"system\",\n",
        "            \"content\": (\n",
        "            \"Te egy tömör szövegíró vagy. KIZÁRÓLAG a megadott hirdetésszöveg alapján \"\n",
        "            \"készíts pontosan öt ütős címajánlatot.\\n\\n\"\n",
        "            \"Korlátok:\\n\"\n",
        "            \"- A kimenet KÖTELEZŐEN érvényes JSON objektum legyen pontosan ebben a formában: {\\\"titles\\\": [\\\"...\\\", \\\"...\\\", \\\"...\\\", \\\"...\\\", \\\"...\\\"]}\\n\"\n",
        "            \"- Ne használj markdown-t, kód fence-et, extra kulcsokat, magyarázatot.\\n\"\n",
        "            \"- Minden cím legfeljebb 60 karakter legyen, magyar nyelven, emojik és idézőjelek nélkül.\\n\"\n",
        "            \"- Ne találj ki a hirdetésben nem szereplő tényeket.\\n\"\n",
        "            \"- Legyenek egymástól különbözőek (más nézőpont/szövegezés), jól olvashatók és kattintásra ösztönzők.\\n\"\n",
        "            \"- A címek generálásánál vedd figyelembe a következőket:\\n\"\n",
        "            f\"-{commands}\\n\"\n",
        "            ),\n",
        "        },\n",
        "        {\n",
        "            \"role\": \"user\",\n",
        "            \"content\": f\"INGATLAN HIRDETÉS SZÖVEGE:\\n{szoveg}\"\n",
        "        }\n",
        "    ]\n"
      ],
      "metadata": {
        "id": "VqEi2ae4Dtph"
      },
      "execution_count": 73,
      "outputs": []
    },
    {
      "cell_type": "code",
      "source": [
        "def create_title_command(mood:str, lang:str)->str:\n",
        "    m=f\"Használandó STÍLUS: {mood}\\n\"\n",
        "    l=f\"A cím szöveg nyelvéhez ezt a nyelvet használjad: {lang}!\\n\"\n",
        "\n",
        "    return(m+l)"
      ],
      "metadata": {
        "id": "rRiTQQ8qWCx5"
      },
      "execution_count": 74,
      "outputs": []
    },
    {
      "cell_type": "code",
      "source": [
        "cmd=create_title_command(\"Kreatív\",\"magyar\")"
      ],
      "metadata": {
        "id": "FEuBxCiwWmTn"
      },
      "execution_count": 78,
      "outputs": []
    },
    {
      "cell_type": "code",
      "source": [
        "cmd"
      ],
      "metadata": {
        "colab": {
          "base_uri": "https://localhost:8080/",
          "height": 36
        },
        "id": "Dw5lfVe9WzkA",
        "outputId": "790d8eb6-ec95-4709-bdc8-607dc7376c1d"
      },
      "execution_count": 67,
      "outputs": [
        {
          "output_type": "execute_result",
          "data": {
            "text/plain": [
              "'Használandó STÍLUS: professzionális\\nA cím szöveg nyelvéhez ezt a nyelvet használjad: angol!\\n'"
            ],
            "application/vnd.google.colaboratory.intrinsic+json": {
              "type": "string"
            }
          },
          "metadata": {},
          "execution_count": 67
        }
      ]
    },
    {
      "cell_type": "code",
      "source": [
        "prompt_message=create_title_prompt(szoveg,cmd)\n"
      ],
      "metadata": {
        "id": "3QAd5oiRFVZd"
      },
      "execution_count": 68,
      "outputs": []
    },
    {
      "cell_type": "code",
      "source": [
        "prompt_message"
      ],
      "metadata": {
        "colab": {
          "base_uri": "https://localhost:8080/"
        },
        "id": "X1I_nIwoXDlA",
        "outputId": "3afd032d-b195-42db-8369-7e647d987a79"
      },
      "execution_count": 69,
      "outputs": [
        {
          "output_type": "execute_result",
          "data": {
            "text/plain": [
              "[{'role': 'system',\n",
              "  'content': 'Te egy tömör szövegíró vagy. KIZÁRÓLAG a megadott hirdetésszöveg alapján készíts pontosan öt ütős magyar címajánlatot.\\n\\nKorlátok:\\n- A kimenet KÖTELEZŐEN érvényes JSON objektum legyen pontosan ebben a formában: {\"titles\": [\"...\", \"...\", \"...\", \"...\", \"...\"]}\\n- Ne használj markdown-t, kód fence-et, extra kulcsokat, magyarázatot.\\n- Minden cím legfeljebb 60 karakter legyen, magyar nyelven, emojik és idézőjelek nélkül.\\n- Ne találj ki a hirdetésben nem szereplő tényeket.\\n- Legyenek egymástól különbözőek (más nézőpont/szövegezés), jól olvashatók és kattintásra ösztönzők.\\n- A címek generálásánál vedd figyelembe a következőket:\\n-Használandó STÍLUS: professzionális\\nA cím szöveg nyelvéhez ezt a nyelvet használjad: angol!\\n\\n'},\n",
              " {'role': 'user',\n",
              "  'content': 'INGATLAN HIRDETÉS SZÖVEGE:\\nBudaörs központjában önálló családi ház eladó.\\n\\nBudaörsön a Kálvária domb közelében kínálunk eladásra egy 201 nm-es önálló telken álló, egyszintes családi házat.\\nA telken 2 épület van. A fő épület 50 nm-es, 2 szoba, konyha, fürdőszoba.\\nA kisebb épület kb. 20 nm-es,1 szoba, konyha, fürdőszoba, teljesen külön tömbben található a telken, melynek az alsó szintjén kb 20 nm-es garázs-tároló található. A telken 2 szint lett kialakítva. A felső kertrész alatt helyezkedik el a pince.\\nNagyon kellemes környék a város szívében.'}]"
            ]
          },
          "metadata": {},
          "execution_count": 69
        }
      ]
    },
    {
      "cell_type": "code",
      "source": [
        "def get_response(szoveg:str,func,command)->dict:\n",
        "    '''\n",
        "    A megadott szöveghez promptot készít (`create_prompt`), elküldi az OpenAI Chat\n",
        "    Completions API-nak (gpt-4o), majd a választ JSON-ként beolvassa és dict-ként visszaadja.\n",
        "\n",
        "    Paraméterek\n",
        "    -----------\n",
        "    szoveg : str\n",
        "        A bemeneti szöveg, amelyből a `create_prompt` összeállítja a `messages` listát.\n",
        "\n",
        "    Visszatérés\n",
        "    -----------\n",
        "    dict\n",
        "        A modell által visszaadott JSON objektum, Python dict-be parse-olva.\n",
        "    '''\n",
        "    client = OpenAI(api_key=key)\n",
        "    prompt_message=func(szoveg,command)\n",
        "    response = client.chat.completions.create(\n",
        "        model=\"gpt-4o\",\n",
        "        messages=prompt_message,\n",
        "        temperature=0.5,\n",
        "        max_tokens=7000,\n",
        "        response_format={ \"type\": \"json_object\" }\n",
        "    )\n",
        "\n",
        "    content = response.choices[0].message.content\n",
        "    '''\n",
        "    # a gpt-4 így adja vissza a json választ, kiszedjük a jsont a felesleges keretből\n",
        "\n",
        "    if content.startswith(\"```json\"):\n",
        "        content = content.strip(\"`\").lstrip(\"json\").strip()\n",
        "\n",
        "    #\n",
        "    '''\n",
        "    out_dict = json.loads(content)\n",
        "\n",
        "    return(out_dict)"
      ],
      "metadata": {
        "id": "yFMMubHWndJ_"
      },
      "execution_count": 79,
      "outputs": []
    },
    {
      "cell_type": "code",
      "source": [
        "resp_data=get_response(prompt_message,create_title_prompt,cmd)"
      ],
      "metadata": {
        "id": "mEusV3hnnjEK"
      },
      "execution_count": 85,
      "outputs": []
    },
    {
      "cell_type": "code",
      "source": [
        "print(resp_data)"
      ],
      "metadata": {
        "colab": {
          "base_uri": "https://localhost:8080/"
        },
        "id": "xscKdn5Bgsby",
        "outputId": "98922798-3e71-4832-f2c5-fcb7899ecc13"
      },
      "execution_count": 86,
      "outputs": [
        {
          "output_type": "stream",
          "name": "stdout",
          "text": [
            "{'titles': ['Eladó családi ház Budaörs szívében', 'Két épületes ház Budaörs központjában', 'Budaörsön eladó ház garázzsal és pincével', 'Önálló ház a Kálvária domb közelében', 'Kellemes otthon Budaörs központjában']}\n"
          ]
        }
      ]
    },
    {
      "cell_type": "code",
      "source": [
        "resp_data=get_response(prompt_message,create_prompt,\"none\")\n",
        "resp_data[\"scoring\"]"
      ],
      "metadata": {
        "colab": {
          "base_uri": "https://localhost:8080/"
        },
        "id": "lHbiezDEJRi8",
        "outputId": "1fc7005f-40af-4e5a-85ee-d1f0dc90caf7"
      },
      "execution_count": 88,
      "outputs": [
        {
          "output_type": "execute_result",
          "data": {
            "text/plain": [
              "{'Érthetőség': 4,\n",
              " 'Részletesség': 3,\n",
              " 'Szerkezet': 3,\n",
              " 'Célcsoport': 3,\n",
              " 'Stílus': 4,\n",
              " 'Előnyök': 3,\n",
              " 'Negatívumok': 3,\n",
              " 'Ösztönzés': 3,\n",
              " 'Összesítés': 3.3}"
            ]
          },
          "metadata": {},
          "execution_count": 88
        }
      ]
    },
    {
      "cell_type": "code",
      "source": [
        "resp_data[\"proposal\"]"
      ],
      "metadata": {
        "colab": {
          "base_uri": "https://localhost:8080/",
          "height": 90
        },
        "id": "F2SIdNj_CMop",
        "outputId": "f46151f5-eb3a-4de3-8297-4ea43c449034"
      },
      "execution_count": 89,
      "outputs": [
        {
          "output_type": "execute_result",
          "data": {
            "text/plain": [
              "'Eladó családi ház Budaörs központjában, a Kálvária domb közelében. Az ingatlan egy 201 nm-es telken található, amelyen két épület helyezkedik el. Az első, fő épület 50 nm-es, két szobával, konyhával és fürdőszobával rendelkezik. A második, kisebb épület körülbelül 20 nm-es, és egy szobát, konyhát, valamint fürdőszobát tartalmaz, teljesen különálló tömbben. Az alsó szintjén egy 20 nm-es garázs-tároló is található. A kert két szintre oszlik, a felső kertrész alatt pince helyezkedik el. Az ingatlan elhelyezkedése ideális, csendes környezetben, mégis közel a város szívéhez. Tökéletes választás családok számára, akik nyugalmat keresnek, de nem szeretnének lemondani a városi élet előnyeiről. Jöjjön el, nézze meg, és szeressen bele új otthonába!'"
            ],
            "application/vnd.google.colaboratory.intrinsic+json": {
              "type": "string"
            }
          },
          "metadata": {},
          "execution_count": 89
        }
      ]
    }
  ]
}